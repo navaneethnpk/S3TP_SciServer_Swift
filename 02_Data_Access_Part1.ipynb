{
 "cells": [
  {
   "cell_type": "markdown",
   "id": "2bf54557-6250-4365-97e3-f23307285f89",
   "metadata": {},
   "source": [
    "## 1. Methods for Accessing HEASARC Data  \n",
    "In this notebook, we will explore various methods to access and download data from the HEASARC (High Energy Astrophysics Science Archive Research Center) archive. While our focus will be on Swift satellite data, the approaches demonstrated here can be applied to data from any HEASARC-hosted mission. The methods covered in this notebook are adapted from the [sciserver_cookbooks](https://github.com/HEASARC/sciserver_cookbooks) GitHub repository.  \n",
    "\n",
    "#### a) Online Access via Swift Master Catalog\n",
    "The Swift Master Catalog is a web-based interface that allows users to browse and download Swift mission data. It provides a user-friendly way to search for observations, view metadata, and download datasets directly through the HEASARC website. This method is ideal for quick, manual queries or exploring the data interactively.  \n",
    "Access the [Swift Master Catalog](https://heasarc.gsfc.nasa.gov/w3browse/swift/swiftmastr.html)\n",
    "\n",
    "#### b) HEASARC TAP Service (Table Access Protocol)\n",
    "\n",
    "The TAP service is a standardized Virtual Observatory protocol that enables programmatic access to astronomical catalogs and data tables. Through TAP, users can execute SQL-like queries to retrieve data from the HEASARC archives in a flexible and automated manner. This is particularly useful for large-scale data mining, batch queries, or integrating HEASARC data access into software pipelines.  \n",
    "Learn more: [TAP Service](https://www.ivoa.net/documents/TAP/20190626/PR-TAP-1.1-20190626.html), [HEASARC API](https://heasarc.gsfc.nasa.gov/docs/archive/apis.html)\n",
    "\n",
    "#### c) Xamin's API\n",
    "Xamin is an advanced query and data mining tool provided by HEASARC that supports complex data searches and cross-matching across multiple catalogs. Its API allows users to submit queries programmatically and retrieve data in various formats. Xamin’s capabilities make it a powerful resource for in-depth data exploration and multi-wavelength studies.  \n",
    "Access the [Xamin](https://heasarc.gsfc.nasa.gov/xamin/)"
   ]
  },
  {
   "cell_type": "markdown",
   "id": "7b921216-c36e-47e1-93be-9b845d553c51",
   "metadata": {},
   "source": [
    "## 2. Module Imports"
   ]
  },
  {
   "cell_type": "markdown",
   "id": "28a30a55-e971-48b3-a331-06a9512327ba",
   "metadata": {
    "execution": {
     "iopub.execute_input": "2025-05-22T10:03:38.664378Z",
     "iopub.status.busy": "2025-05-22T10:03:38.661249Z",
     "iopub.status.idle": "2025-05-22T10:03:38.691422Z",
     "shell.execute_reply": "2025-05-22T10:03:38.688546Z",
     "shell.execute_reply.started": "2025-05-22T10:03:38.664268Z"
    }
   },
   "source": [
    "Standard Library Modules:\n",
    "- **`sys`**: Commonly used for handling command-line arguments, exiting programs, and interacting with the Python runtime environment.\n",
    "- **`os`**: Offers a way to interact with the operating system. Useful for file and directory manipulation, accessing environment variables, and constructing portable file paths.\n",
    "- **`glob`**: Enables Unix-style pathname pattern matching (e.g., `*.fits`). Often used to find all files in a directory that match a specific pattern.\n",
    "\n",
    "Non-Standard Modules:\n",
    "\n",
    "> These modules are not part of the Python Standard Library and must be installed separately (e.g., using `pip install pyvo astropy numpy pandas`).\n",
    "- **`pyvo`**: A client library for accessing Virtual Observatory (VO) services such as TAP, SIAP, and others. Ideal for querying astronomical catalogs programmatically using IVOA standards. [Learn more](https://pyvo.readthedocs.io/en/latest/)\n",
    "- **`astropy`**: A comprehensive library for astronomy and astrophysics. Includes utilities for celestial coordinate transformations (`SkyCoord`), FITS file handling, time conversions, and more. [Learn more](https://www.astropy.org/)\n",
    "- **`numpy`**: A core library for numerical computing in Python. Provides powerful tools for array operations, linear algebra, mathematical functions, and statistical analysis. [Learn more](https://numpy.org/)\n",
    "- **`pandas`**: A powerful data analysis and manipulation library. Offers data structures like `DataFrame` for handling tabular data, making it ideal for data wrangling and exploration. [Learn more](https://pandas.pydata.org/)"
   ]
  },
  {
   "cell_type": "code",
   "execution_count": 2,
   "id": "999720ae-4867-42d5-a279-1c2d6838af28",
   "metadata": {
    "execution": {
     "iopub.execute_input": "2025-05-22T13:53:41.966972Z",
     "iopub.status.busy": "2025-05-22T13:53:41.966167Z",
     "iopub.status.idle": "2025-05-22T13:53:46.006232Z",
     "shell.execute_reply": "2025-05-22T13:53:46.004105Z",
     "shell.execute_reply.started": "2025-05-22T13:53:41.966916Z"
    }
   },
   "outputs": [],
   "source": [
    "import sys\n",
    "import os\n",
    "import glob\n",
    "\n",
    "import pyvo\n",
    "import requests\n",
    "from astropy.coordinates import SkyCoord\n",
    "from astropy.table import Table\n",
    "from astropy.time import Time\n",
    "\n",
    "import numpy as np\n",
    "import pandas as pd"
   ]
  },
  {
   "cell_type": "markdown",
   "id": "41b38465-bf03-4011-a858-1053c5672b9a",
   "metadata": {
    "execution": {
     "iopub.execute_input": "2025-05-22T13:37:32.736827Z",
     "iopub.status.busy": "2025-05-22T13:37:32.735424Z",
     "iopub.status.idle": "2025-05-22T13:37:32.753182Z",
     "shell.execute_reply": "2025-05-22T13:37:32.750100Z",
     "shell.execute_reply.started": "2025-05-22T13:37:32.736691Z"
    }
   },
   "source": [
    "## 3. Swift Master Catalog  \n",
    "Link: https://heasarc.gsfc.nasa.gov/w3browse/swift/swiftmastr.html"
   ]
  },
  {
   "cell_type": "markdown",
   "id": "d50dbf33-871f-4de4-a5b4-7cbf7455972a",
   "metadata": {
    "execution": {
     "iopub.execute_input": "2025-05-20T14:44:04.477916Z",
     "iopub.status.busy": "2025-05-20T14:44:04.475972Z",
     "iopub.status.idle": "2025-05-20T14:44:04.486525Z",
     "shell.execute_reply": "2025-05-20T14:44:04.484938Z",
     "shell.execute_reply.started": "2025-05-20T14:44:04.477854Z"
    }
   },
   "source": [
    "## 4. HEASARC TAP service"
   ]
  },
  {
   "cell_type": "markdown",
   "id": "3511f583-8d07-4eb8-81c5-fac997cef876",
   "metadata": {},
   "source": [
    "We can use the Virtual Observatory interfaces to the HEASARC to find the data we're interested in. Specifically, we want to look at the observation tables. So first we get a list of all the tables HEASARC serves and then look for the ones related to Swift."
   ]
  },
  {
   "cell_type": "markdown",
   "id": "31a2caec-d834-469e-85aa-cfaf95deb9bd",
   "metadata": {
    "execution": {
     "iopub.execute_input": "2025-05-22T10:40:54.032196Z",
     "iopub.status.busy": "2025-05-22T10:40:54.030902Z",
     "iopub.status.idle": "2025-05-22T10:40:54.054244Z",
     "shell.execute_reply": "2025-05-22T10:40:54.051582Z",
     "shell.execute_reply.started": "2025-05-22T10:40:54.032123Z"
    }
   },
   "source": [
    "### 4.1.Find the Tables\n",
    "We begin by querying the Virtual Observatory (VO) service registry. HEASARC provides a TAP service that connects to the same backend used by the Xamin web interface. This means it accesses the same underlying database used in HEASARC's online catalog."
   ]
  },
  {
   "cell_type": "code",
   "execution_count": 3,
   "id": "1b351cb7-732e-407d-91a5-03b80d580383",
   "metadata": {
    "execution": {
     "iopub.execute_input": "2025-05-22T13:54:51.790261Z",
     "iopub.status.busy": "2025-05-22T13:54:51.789015Z",
     "iopub.status.idle": "2025-05-22T13:54:52.709984Z",
     "shell.execute_reply": "2025-05-22T13:54:52.707911Z",
     "shell.execute_reply.started": "2025-05-22T13:54:51.790203Z"
    }
   },
   "outputs": [],
   "source": [
    "tap_services = pyvo.regsearch(servicetype='tap', keywords=['heasarc'])"
   ]
  },
  {
   "cell_type": "markdown",
   "id": "47c079b5-6441-437e-b69a-6dc959fe9301",
   "metadata": {},
   "source": [
    "Next, we query the first TAP service we found to retrieve a list of all the tables it offers at HEASARC."
   ]
  },
  {
   "cell_type": "code",
   "execution_count": 4,
   "id": "c361809b-9d02-42df-a4fc-51593465deb9",
   "metadata": {
    "execution": {
     "iopub.execute_input": "2025-05-22T13:54:54.862192Z",
     "iopub.status.busy": "2025-05-22T13:54:54.861403Z",
     "iopub.status.idle": "2025-05-22T13:55:13.096300Z",
     "shell.execute_reply": "2025-05-22T13:55:13.094007Z",
     "shell.execute_reply.started": "2025-05-22T13:54:54.862139Z"
    }
   },
   "outputs": [],
   "source": [
    "heasarc_tables = tap_services[0].service.tables"
   ]
  },
  {
   "cell_type": "markdown",
   "id": "c50f4172-51ef-4f8d-bf0b-39b20d0cd7b5",
   "metadata": {},
   "source": [
    "The HEASARC service contains many tables. Here, we want to list only those tables related to the Swift mission."
   ]
  },
  {
   "cell_type": "code",
   "execution_count": 5,
   "id": "e3d0da17-b0ec-4203-b548-af8c7b1542c7",
   "metadata": {
    "execution": {
     "iopub.execute_input": "2025-05-22T13:55:16.741266Z",
     "iopub.status.busy": "2025-05-22T13:55:16.740169Z",
     "iopub.status.idle": "2025-05-22T13:55:16.768831Z",
     "shell.execute_reply": "2025-05-22T13:55:16.766144Z",
     "shell.execute_reply.started": "2025-05-22T13:55:16.741209Z"
    }
   },
   "outputs": [
    {
     "name": "stdout",
     "output_type": "stream",
     "text": [
      " swift2sxps           Swift-XRT Point Source Catalog (2SXPS)\n",
      " swiftbalog           Swift BAT Instrument Log\n",
      " swiftft              Swift Serendipitous Survey in Deep XRT GRB Fields (SwiftFT)\n",
      " swiftgrb             Swift Gamma Ray Bursts Catalog\n",
      " swiftgrbba           Swift Gamma Ray Burst Compilation by Burst Advocate\n",
      " swiftguano           Swift Gamma-ray Urgent Archiver for Novel Opportunities (GUANO)\n",
      " swiftmastr           Swift Master Catalog\n",
      " swifttdrss           Swift TDRSS Messages\n",
      " swiftuvlog           Swift UVOT Instrument Log\n",
      " swiftxrlog           Swift XRT Instrument Log\n"
     ]
    }
   ],
   "source": [
    "for tablename in heasarc_tables.keys():\n",
    "    if \"swift\" in tablename:\n",
    "        print(\" {:20s} {}\".format(tablename, heasarc_tables[tablename].description))"
   ]
  },
  {
   "cell_type": "markdown",
   "id": "55859ad5-3c34-40cb-b871-8e64bc59ffdd",
   "metadata": {
    "execution": {
     "iopub.execute_input": "2025-05-22T11:00:23.142488Z",
     "iopub.status.busy": "2025-05-22T11:00:23.141432Z",
     "iopub.status.idle": "2025-05-22T11:00:23.169312Z",
     "shell.execute_reply": "2025-05-22T11:00:23.166618Z",
     "shell.execute_reply.started": "2025-05-22T11:00:23.142420Z"
    }
   },
   "source": [
    "Viewing Columns in the Swift Master Catalog Table (`swiftmastr`): This code lists all the columns in the swiftmastr table along with their descriptions, giving an overview of the available data fields."
   ]
  },
  {
   "cell_type": "code",
   "execution_count": 6,
   "id": "d7598c33-b64a-4eb4-8095-3f3d13c18fb3",
   "metadata": {
    "execution": {
     "iopub.execute_input": "2025-05-22T13:55:44.152566Z",
     "iopub.status.busy": "2025-05-22T13:55:44.151414Z",
     "iopub.status.idle": "2025-05-22T13:55:44.169508Z",
     "shell.execute_reply": "2025-05-22T13:55:44.167541Z",
     "shell.execute_reply.started": "2025-05-22T13:55:44.152491Z"
    }
   },
   "outputs": [
    {
     "name": "stdout",
     "output_type": "stream",
     "text": [
      "att_flag             Attitude Flag\n",
      "orig_obsid           Observation Number as Originally Assigned (Orig_Target_ID + Orig_Obs_Segment)\n",
      "af_insaa             Time in SAA Per Sequence, According to the As-Flown Timeline (s)\n",
      "bat_no_masktag       Number of Sources with Mask-Tag Rate within This Observation\n",
      "orig_target_id       Trigger Number as Originally Assigned\n",
      "software_version     Software Version Used in the Pipeline\n",
      "saa_fraction         Fraction of Observation Spent in the South Atlantic Anomaly (SAA)\n",
      "\"__z_ra_dec\"         System unit vector column\n",
      "processing_version   Version of Processing Script\n",
      "xrt_expo_pc          Effective Exposure on Source of Photon Counting XRT Mode\n",
      "bat_exposure         Effective Exposure on Source Considering All BAT Event and Survey Modes\n",
      "start_time           Start Time of the Observation\n",
      "uvot_expo_wh         Effective Exposure on Source of UVOT Filter WHITE\n",
      "bii                  Galactic Latitude (Pointing Position)\n",
      "uvot_exposure        Effective Exposure on Source Considering All UVOT Filters and Modes\n",
      "xrt_exposure         Effective Exposure on Source Considering All XRT Modes\n",
      "stop_time            Stop Time of the Observation\n",
      "processing_date      Date of Processing\n",
      "uvot_expo_m2         Effective Exposure on Source of UVOT Filter UVM2\n",
      "dec                  Declination (Pointing Position)\n",
      "\"__row\"              System index column\n",
      "uvot_expo_vv         Effective Exposure on Source of UVOT Filter V\n",
      "roll_angle           Roll Angle (degree)\n",
      "bat_expo_ev          Effective Exposure BAT Event Mode\n",
      "cycle                Proposal Cycle Number\n",
      "bat_expo_rt          Effective Exposure BAT Rate Mode\n",
      "uvot_expo_bl         Effective Exposure of UVOT Blocked Filter\n",
      "lii                  Galactic Longitude (Pointing Position)\n",
      "uvot_expo_uu         Effective Exposure on Source of UVOT Filter U\n",
      "bat_expo_pl          Effective Exposure BAT Pulsar Mode\n",
      "tdrss_flag           Flag Indicates TDRSS Message Exists\n",
      "prnb                 Proposal Number\n",
      "obs_segment          True Observation Segment (Corrected Value)\n",
      "af_inslew            Time in Slew Per Sequence, According to the As-Flown Timeline (s)\n",
      "xrt_expo_im          Effective Exposure on Source of Image Modes\n",
      "orig_obs_segment     Observation Segment as Originally Assigned\n",
      "name                 Designation of the Pointed Source\n",
      "ra                   Right Ascension (Pointing Position)\n",
      "num_processed        Number of Times Sequence Has Been Processed\n",
      "\"__y_ra_dec\"         System unit vector column\n",
      "bat_expo_sv          Effective Exposure BAT Survey Mode\n",
      "uvot_expo_mg         Effective Exposure on Source of UVOT Filter Magnifier\n",
      "uvot_expo_gu         Effective Exposure on Source of UVOT Filter UGRISM\n",
      "uvot_expo_gv         Effective Exposure on Source of UVOT Filter VGRISM\n",
      "target_id            Unique Trigger Number with Any Degeneracy Removed\n",
      "bat_expo_mt          Effective Exposure BAT Mask-Tag Mode\n",
      "xrt_expo_wt          Effective Exposure on Source of Windowed Timing XRT Mode\n",
      "uvot_expo_w1         Effective Exposure on Source of UVOT Filter UVW1\n",
      "af_total             Total Time Per Sequence, According to the As-Flown Timeline (s)\n",
      "grb_flag             Flag Indicates Gamma-Ray Burst\n",
      "\"pi\"                 Principal Investigator Last Name\n",
      "obsid                Unique Observation Number (Target_ID + Obs_Segment)\n",
      "xrt_expo_pu          Effective Exposure on Source of Piled-up XRT Mode\n",
      "uvot_expo_bb         Effective Exposure on Source of UVOT Filter B\n",
      "archive_date         Public Date\n",
      "uvot_expo_w2         Effective Exposure on Source of UVOT Filter UVW2\n",
      "af_onsource          Time on Source Per Sequence, According to the As-Flown Timeline (s)\n",
      "xrt_expo_lr          Effective Exposure on Source of Low Rate XRT Mode\n",
      "\"__x_ra_dec\"         System unit vector column\n"
     ]
    }
   ],
   "source": [
    "for column in heasarc_tables['swiftmastr'].columns:\n",
    "    print(\"{:20s} {}\".format(column.name, column.description))"
   ]
  },
  {
   "cell_type": "markdown",
   "id": "a2f0df6f-85d8-4278-9983-308b60c3edc6",
   "metadata": {},
   "source": [
    "### 4.2. Build a Search Query\n",
    "Querying Swift Master Catalog for Observations of OJ 287:  \n",
    "First, we get the sky coordinates of the object OJ 287 using its name. Then, we construct an ADQL query to retrieve relevant observation data from the `swiftmastr` table. This query retrieves observation details from the Swift Master Catalog for sources located within 0.1 degrees of OJ 287 that have positive XRT exposure times, sorted by the observation start time.\n",
    "\n",
    "**ADQL**: ADQL (Astronomical Data Query Language) is a SQL-like language specifically designed for querying astronomical databases and Virtual Observatory services, enabling complex spatial and temporal queries on celestial data.  \n",
    "See the [NAVO website](https://heasarc.gsfc.nasa.gov/vo/summary/python.html) for more information on how to use these services with python and how to construct [ADQL](https://www.ivoa.net/documents/ADQL/20180112/PR-ADQL-2.1-20180112.html) queries for catalog searches. You can also find more detailed on using these services in the [NASA Virtual Observatory workshop tutorials (NAVO)](https://nasa-navo.github.io/navo-workshop/)."
   ]
  },
  {
   "cell_type": "code",
   "execution_count": 7,
   "id": "de0036dc-33d9-4b41-9c01-93a10ab2b45b",
   "metadata": {
    "execution": {
     "iopub.execute_input": "2025-05-22T13:56:05.177583Z",
     "iopub.status.busy": "2025-05-22T13:56:05.175526Z",
     "iopub.status.idle": "2025-05-22T13:56:05.244304Z",
     "shell.execute_reply": "2025-05-22T13:56:05.242257Z",
     "shell.execute_reply.started": "2025-05-22T13:56:05.177527Z"
    }
   },
   "outputs": [],
   "source": [
    "# Get the coordinate for OJ 287\n",
    "pos = SkyCoord.from_name(\"OJ 287\")\n",
    "\n",
    "query = \"\"\"SELECT name, obsid, ra, dec, start_time, processing_date, xrt_exposure, uvot_exposure, bat_exposure, archive_date, target_id, xrt_expo_wt, xrt_expo_pc, uvot_expo_uu, uvot_expo_bb, uvot_expo_vv, uvot_expo_w1, uvot_expo_w2, uvot_expo_m2 \n",
    "    FROM public.swiftmastr as cat \n",
    "    where \n",
    "    contains(point('ICRS',cat.ra,cat.dec),circle('ICRS',{},{},0.1))=1 \n",
    "    and \n",
    "    cat.xrt_exposure > 0 order by cat.start_time\n",
    "    \"\"\".format(pos.ra.deg, pos.dec.deg)"
   ]
  },
  {
   "cell_type": "code",
   "execution_count": 8,
   "id": "1a15c5ae-307f-4eff-8524-248c0b4e9aad",
   "metadata": {
    "execution": {
     "iopub.execute_input": "2025-05-22T13:56:08.688971Z",
     "iopub.status.busy": "2025-05-22T13:56:08.688172Z",
     "iopub.status.idle": "2025-05-22T13:56:11.095961Z",
     "shell.execute_reply": "2025-05-22T13:56:11.093031Z",
     "shell.execute_reply.started": "2025-05-22T13:56:08.688916Z"
    }
   },
   "outputs": [
    {
     "data": {
      "text/html": [
       "<div><i>Table length=972</i>\n",
       "<table id=\"table140293570406992\" class=\"table-striped table-bordered table-condensed\">\n",
       "<thead><tr><th>name</th><th>obsid</th><th>ra</th><th>dec</th><th>start_time</th><th>processing_date</th><th>xrt_exposure</th><th>uvot_exposure</th><th>bat_exposure</th><th>archive_date</th><th>target_id</th><th>xrt_expo_wt</th><th>xrt_expo_pc</th><th>uvot_expo_uu</th><th>uvot_expo_bb</th><th>uvot_expo_vv</th><th>uvot_expo_w1</th><th>uvot_expo_w2</th><th>uvot_expo_m2</th></tr></thead>\n",
       "<thead><tr><th></th><th></th><th>deg</th><th>deg</th><th>d</th><th>d</th><th>s</th><th>s</th><th>s</th><th>d</th><th></th><th>s</th><th>s</th><th>s</th><th>s</th><th>s</th><th>s</th><th>s</th><th>s</th></tr></thead>\n",
       "<thead><tr><th>object</th><th>object</th><th>float64</th><th>float64</th><th>float64</th><th>float64</th><th>float64</th><th>float64</th><th>float64</th><th>int32</th><th>int32</th><th>float64</th><th>float64</th><th>float64</th><th>float64</th><th>float64</th><th>float64</th><th>float64</th><th>float64</th></tr></thead>\n",
       "<tr><td>OJ287</td><td>00035011001</td><td>133.69442</td><td>20.13596</td><td>53510.2687731481</td><td>56961.0</td><td>3793.15000</td><td>3796.45100</td><td>3958.00000</td><td>53521</td><td>35011</td><td>69.25500</td><td>3714.38900</td><td>0.00000</td><td>0.00000</td><td>238.20100</td><td>31.01400</td><td>3304.76800</td><td>222.46800</td></tr>\n",
       "<tr><td>OJ287</td><td>00035011002</td><td>133.69491</td><td>20.11982</td><td>53516.5069560185</td><td>56961.0</td><td>131.41200</td><td>2786.06600</td><td>2959.00000</td><td>53527</td><td>35011</td><td>77.63800</td><td>52.44200</td><td>238.06800</td><td>170.66800</td><td>238.06800</td><td>475.06700</td><td>950.07800</td><td>714.11700</td></tr>\n",
       "<tr><td>OJ287</td><td>00035011003</td><td>133.68470</td><td>20.09330</td><td>53528.5652893518</td><td>56979.0</td><td>1256.68700</td><td>0.00000</td><td>0.00000</td><td>53539</td><td>35011</td><td>3.04500</td><td>1253.64200</td><td>0.00000</td><td>0.00000</td><td>0.00000</td><td>0.00000</td><td>0.00000</td><td>0.00000</td></tr>\n",
       "<tr><td>OJ287</td><td>00035905001</td><td>133.73301</td><td>20.10491</td><td>54055.6730555556</td><td>57180.0</td><td>1995.27700</td><td>1979.07000</td><td>2012.00000</td><td>54066</td><td>35905</td><td>1.97200</td><td>1993.30500</td><td>0.00000</td><td>0.00000</td><td>0.00000</td><td>275.52600</td><td>851.77200</td><td>851.77200</td></tr>\n",
       "<tr><td>OJ287</td><td>00035905002</td><td>133.66860</td><td>20.12275</td><td>54056.0145949074</td><td>57178.0</td><td>2374.77700</td><td>2693.83800</td><td>2879.00000</td><td>54067</td><td>35905</td><td>35.51300</td><td>2339.26400</td><td>229.09700</td><td>229.10600</td><td>229.10600</td><td>459.04200</td><td>920.13100</td><td>627.35600</td></tr>\n",
       "<tr><td>OJ287</td><td>00035905003</td><td>133.72354</td><td>20.12954</td><td>54057.7507060185</td><td>57180.0</td><td>3176.70300</td><td>3210.54200</td><td>3326.00000</td><td>54068</td><td>35905</td><td>17.52500</td><td>3159.17800</td><td>0.00000</td><td>0.00000</td><td>0.00000</td><td>996.45200</td><td>1107.10400</td><td>1106.98600</td></tr>\n",
       "<tr><td>OJ287</td><td>00030901001</td><td>133.70688</td><td>20.11405</td><td>54165.1368171296</td><td>57192.0</td><td>2678.01900</td><td>2579.34300</td><td>2761.00000</td><td>54176</td><td>30901</td><td>16.42100</td><td>2661.59800</td><td>222.12600</td><td>222.10400</td><td>222.09300</td><td>444.07500</td><td>890.10300</td><td>578.84200</td></tr>\n",
       "<tr><td>OJ287</td><td>00030901002</td><td>133.69812</td><td>20.14249</td><td>54169.0416782407</td><td>57191.0</td><td>2017.08200</td><td>1923.52400</td><td>2068.00000</td><td>54180</td><td>30901</td><td>7.86900</td><td>2009.21300</td><td>168.09800</td><td>168.10900</td><td>168.07500</td><td>337.04500</td><td>671.07700</td><td>411.12000</td></tr>\n",
       "<tr><td>OJ287</td><td>00030901003</td><td>133.69688</td><td>20.11187</td><td>54177.7336458333</td><td>57195.0</td><td>127.85800</td><td>123.72300</td><td>158.00000</td><td>54188</td><td>30901</td><td>10.51200</td><td>117.34600</td><td>0.00000</td><td>0.00000</td><td>0.00000</td><td>123.72300</td><td>0.00000</td><td>0.00000</td></tr>\n",
       "<tr><td>...</td><td>...</td><td>...</td><td>...</td><td>...</td><td>...</td><td>...</td><td>...</td><td>...</td><td>...</td><td>...</td><td>...</td><td>...</td><td>...</td><td>...</td><td>...</td><td>...</td><td>...</td><td>...</td></tr>\n",
       "<tr><td>OJ287</td><td>00035011158</td><td>133.68606</td><td>20.08909</td><td>60763.7069097222</td><td>60773.0</td><td>1326.43800</td><td>1300.32700</td><td>1332.00000</td><td>60774</td><td>35011</td><td>0.07300</td><td>1326.36500</td><td>110.77000</td><td>110.77000</td><td>110.74800</td><td>221.77300</td><td>442.78400</td><td>303.48200</td></tr>\n",
       "<tr><td>OJ287</td><td>00035011159</td><td>133.67285</td><td>20.09591</td><td>60767.0895486111</td><td>60777.0</td><td>1195.79500</td><td>1145.90000</td><td>1208.00000</td><td>60778</td><td>35011</td><td>0.16000</td><td>1195.63500</td><td>97.56400</td><td>97.55300</td><td>97.56400</td><td>195.51400</td><td>391.55800</td><td>266.14700</td></tr>\n",
       "<tr><td>OJ287</td><td>00035011160</td><td>133.68900</td><td>20.08812</td><td>60770.1471875</td><td>60780.0</td><td>255.73700</td><td>250.28200</td><td>263.00000</td><td>60781</td><td>35011</td><td>0.00000</td><td>255.73700</td><td>48.51200</td><td>0.00000</td><td>0.00000</td><td>201.77000</td><td>0.00000</td><td>0.00000</td></tr>\n",
       "<tr><td>OJ287</td><td>00035011161</td><td>133.67248</td><td>20.10424</td><td>60775.6159259259</td><td>60785.0</td><td>586.70200</td><td>570.08100</td><td>595.00000</td><td>60786</td><td>35011</td><td>0.00000</td><td>586.70200</td><td>116.78300</td><td>116.77200</td><td>0.00000</td><td>233.76500</td><td>102.76100</td><td>0.00000</td></tr>\n",
       "<tr><td>OJ287</td><td>00035011162</td><td>133.68363</td><td>20.09487</td><td>60779.1284027778</td><td>60789.0</td><td>1333.88600</td><td>1307.31400</td><td>1339.00000</td><td>60790</td><td>35011</td><td>0.00000</td><td>1333.88600</td><td>109.77800</td><td>109.77800</td><td>109.77800</td><td>219.77600</td><td>439.77200</td><td>318.43200</td></tr>\n",
       "<tr><td>OJ287</td><td>00035011163</td><td>133.68566</td><td>20.10150</td><td>60783.9478703704</td><td>60793.0</td><td>1366.47200</td><td>1347.07500</td><td>1375.00000</td><td>60794</td><td>35011</td><td>0.00000</td><td>1366.47200</td><td>112.37000</td><td>114.77500</td><td>114.78600</td><td>228.76800</td><td>458.72700</td><td>317.64900</td></tr>\n",
       "<tr><td>OJ287</td><td>00035011164</td><td>133.67742</td><td>20.09652</td><td>60787.9784375</td><td>60797.0</td><td>300.86900</td><td>291.08100</td><td>307.00000</td><td>60798</td><td>35011</td><td>0.00000</td><td>300.86900</td><td>86.77400</td><td>30.53900</td><td>0.00000</td><td>173.76800</td><td>0.00000</td><td>0.00000</td></tr>\n",
       "<tr><td>OJ287</td><td>00035011165</td><td>133.68367</td><td>20.09999</td><td>60791.0395486111</td><td>60801.0</td><td>1637.30600</td><td>1600.45700</td><td>1650.00000</td><td>60802</td><td>35011</td><td>0.04300</td><td>1637.26300</td><td>177.55300</td><td>171.41800</td><td>112.77800</td><td>356.52900</td><td>452.78000</td><td>329.39900</td></tr>\n",
       "<tr><td>OJ287</td><td>00035011166</td><td>133.67131</td><td>20.10199</td><td>60795.9680208333</td><td>60805.0</td><td>814.86700</td><td>1392.43000</td><td>1425.00000</td><td>60806</td><td>35011</td><td>0.00000</td><td>814.86700</td><td>118.76900</td><td>118.78000</td><td>118.78000</td><td>237.75900</td><td>475.76200</td><td>322.58000</td></tr>\n",
       "</table></div>"
      ],
      "text/plain": [
       "<Table length=972>\n",
       " name     obsid        ra      dec    ... uvot_expo_w1 uvot_expo_w2 uvot_expo_m2\n",
       "                      deg      deg    ...      s            s            s      \n",
       "object    object    float64  float64  ...   float64      float64      float64   \n",
       "------ ----------- --------- -------- ... ------------ ------------ ------------\n",
       " OJ287 00035011001 133.69442 20.13596 ...     31.01400   3304.76800    222.46800\n",
       " OJ287 00035011002 133.69491 20.11982 ...    475.06700    950.07800    714.11700\n",
       " OJ287 00035011003 133.68470 20.09330 ...      0.00000      0.00000      0.00000\n",
       " OJ287 00035905001 133.73301 20.10491 ...    275.52600    851.77200    851.77200\n",
       " OJ287 00035905002 133.66860 20.12275 ...    459.04200    920.13100    627.35600\n",
       " OJ287 00035905003 133.72354 20.12954 ...    996.45200   1107.10400   1106.98600\n",
       " OJ287 00030901001 133.70688 20.11405 ...    444.07500    890.10300    578.84200\n",
       " OJ287 00030901002 133.69812 20.14249 ...    337.04500    671.07700    411.12000\n",
       " OJ287 00030901003 133.69688 20.11187 ...    123.72300      0.00000      0.00000\n",
       "   ...         ...       ...      ... ...          ...          ...          ...\n",
       " OJ287 00035011158 133.68606 20.08909 ...    221.77300    442.78400    303.48200\n",
       " OJ287 00035011159 133.67285 20.09591 ...    195.51400    391.55800    266.14700\n",
       " OJ287 00035011160 133.68900 20.08812 ...    201.77000      0.00000      0.00000\n",
       " OJ287 00035011161 133.67248 20.10424 ...    233.76500    102.76100      0.00000\n",
       " OJ287 00035011162 133.68363 20.09487 ...    219.77600    439.77200    318.43200\n",
       " OJ287 00035011163 133.68566 20.10150 ...    228.76800    458.72700    317.64900\n",
       " OJ287 00035011164 133.67742 20.09652 ...    173.76800      0.00000      0.00000\n",
       " OJ287 00035011165 133.68367 20.09999 ...    356.52900    452.78000    329.39900\n",
       " OJ287 00035011166 133.67131 20.10199 ...    237.75900    475.76200    322.58000"
      ]
     },
     "execution_count": 8,
     "metadata": {},
     "output_type": "execute_result"
    }
   ],
   "source": [
    "results = tap_services[0].search(query).to_table()\n",
    "results"
   ]
  },
  {
   "cell_type": "code",
   "execution_count": 31,
   "id": "1e95ddaf-84c4-4a22-8aeb-a98de252cdc2",
   "metadata": {
    "execution": {
     "iopub.execute_input": "2025-05-22T14:22:36.281130Z",
     "iopub.status.busy": "2025-05-22T14:22:36.280103Z",
     "iopub.status.idle": "2025-05-22T14:22:36.333411Z",
     "shell.execute_reply": "2025-05-22T14:22:36.331539Z",
     "shell.execute_reply.started": "2025-05-22T14:22:36.281076Z"
    }
   },
   "outputs": [
    {
     "data": {
      "text/plain": [
       "'https://heasarc.gsfc.nasa.gov//FTP/swift/data/obs/2005_05/00035011001/'"
      ]
     },
     "execution_count": 31,
     "metadata": {},
     "output_type": "execute_result"
    }
   ],
   "source": [
    "def mjd_to_iso(mjd):\n",
    "    y, m, *_ = Time(mjd, format='mjd').iso.split('-')\n",
    "    return f\"{y}_{m}\"\n",
    "\n",
    "obsid_row = results[results['obsid'] == \"00035011001\"]\n",
    "obsid_val = obsid_row['obsid'][0]\n",
    "start_time = obsid_row['start_time'][0]\n",
    "obs_iso = mjd_to_iso(start_time)\n",
    "\n",
    "downlink = f\"https://heasarc.gsfc.nasa.gov//FTP/swift/data/obs/{obs_iso}/{obsid_val}/\"\n",
    "downlink"
   ]
  },
  {
   "cell_type": "markdown",
   "id": "cb667134-e8dd-47b2-9e2c-606d0b279c8c",
   "metadata": {},
   "source": [
    "## 3. Xamin's API"
   ]
  },
  {
   "cell_type": "markdown",
   "id": "af4ab1b0-83c8-4216-9bb4-a6a51c3fda9a",
   "metadata": {},
   "source": [
    "An alternative method to access the data is to use the Xamin API specifically. [Xamin](https://heasarc.gsfc.nasa.gov/xamin/) is the main web portal for accessing HEASARC data, and it offers an API that can be used to query the same tables.  \n",
    "The base URL (`https://heasarc.gsfc.nasa.gov/xamin/QueryServlet?`) for the Xamin query servelet is, which will be queries using the `requests` module.  "
   ]
  },
  {
   "cell_type": "code",
   "execution_count": 31,
   "id": "225dc4e0-588c-471f-92a2-5ab3046e7b7b",
   "metadata": {
    "execution": {
     "iopub.execute_input": "2025-05-22T11:27:08.222891Z",
     "iopub.status.busy": "2025-05-22T11:27:08.220539Z",
     "iopub.status.idle": "2025-05-22T11:27:09.833244Z",
     "shell.execute_reply": "2025-05-22T11:27:09.830934Z",
     "shell.execute_reply.started": "2025-05-22T11:27:08.222833Z"
    }
   },
   "outputs": [],
   "source": [
    "url = \"https://heasarc.gsfc.nasa.gov/xamin/QueryServlet?products&\"\n",
    "params = {\"table\": \"swiftmastr\",\n",
    "        \"object\": \"OJ 287\",\n",
    "        \"resultmax\": \"1000\"}\n",
    "\n",
    "result = requests.get(url, params)\n",
    "# result.text.split('\\n')[0:2]"
   ]
  },
  {
   "cell_type": "markdown",
   "id": "e0d7d68d-2650-4cda-8b32-f1f4c38c9db9",
   "metadata": {},
   "source": [
    "The raw text is converted into a clean pandas DataFrame."
   ]
  },
  {
   "cell_type": "code",
   "execution_count": 36,
   "id": "e3566127-ee1b-416a-80c2-a6683b851ab3",
   "metadata": {
    "execution": {
     "iopub.execute_input": "2025-05-22T13:22:49.270247Z",
     "iopub.status.busy": "2025-05-22T13:22:49.262602Z",
     "iopub.status.idle": "2025-05-22T13:22:49.512704Z",
     "shell.execute_reply": "2025-05-22T13:22:49.510605Z",
     "shell.execute_reply.started": "2025-05-22T13:22:49.270126Z"
    }
   },
   "outputs": [
    {
     "name": "stdout",
     "output_type": "stream",
     "text": [
      "                                                name        obsid  \\\n",
      "0                                     saa-cold-103-0  00074481018   \n",
      "1  >  query?table=swiftbalog&constraint=obsid='00...  00074481018   \n",
      "2  >  query?table=swiftxrlog&constraint=obsid='00...  00074481018   \n",
      "3        >  /FTP/swift/data/obs/2007_07/00074481018/  00074481018   \n",
      "4                                     saa-cold-103-0  00074481008   \n",
      "5  >  query?table=swiftbalog&constraint=obsid='00...  00074481008   \n",
      "6  >  query?table=swiftxrlog&constraint=obsid='00...  00074481008   \n",
      "7        >  /FTP/swift/data/obs/2007_02/00074481008/  00074481008   \n",
      "8                                     saa-cold-103-0  00074481007   \n",
      "9  >  query?table=swiftbalog&constraint=obsid='00...  00074481007   \n",
      "\n",
      "            ra          dec           start_time      processing_date  \\\n",
      "0  20 50 12.19  -89 59 26.2  2007-07-08T03:43:01  2015-07-16T00:00:00   \n",
      "1         None         None                 None                 None   \n",
      "2         None         None                 None                 None   \n",
      "3         None         None                 None                 None   \n",
      "4  00 09 15.23  -89 59 16.4  2007-02-18T05:11:01  2015-06-18T00:00:00   \n",
      "5         None         None                 None                 None   \n",
      "6         None         None                 None                 None   \n",
      "7         None         None                 None                 None   \n",
      "8  00 25 24.71  -89 59 06.1  2007-01-11T00:52:01  2015-06-19T00:00:00   \n",
      "9         None         None                 None                 None   \n",
      "\n",
      "  xrt_exposure uvot_exposure bat_exposure archive_date  ...  \\\n",
      "0    247.11000       0.00000    490.00000   2007-07-19  ...   \n",
      "1         None          None         None         None  ...   \n",
      "2         None          None         None         None  ...   \n",
      "3         None          None         None         None  ...   \n",
      "4    224.00700       0.00000    389.00000   2007-03-01  ...   \n",
      "5         None          None         None         None  ...   \n",
      "6         None          None         None         None  ...   \n",
      "7         None          None         None         None  ...   \n",
      "8    240.15500       0.00000    384.00000   2007-01-22  ...   \n",
      "9         None          None         None         None  ...   \n",
      "\n",
      "  __w_swiftmastr_link_swiftuvlog             __p_swiftmastr_swift_obs_root  \\\n",
      "0                          false  /FTP/swift/data/obs/2007_07/00074481018/   \n",
      "1                           None                                      None   \n",
      "2                           None                                      None   \n",
      "3                           None                                      None   \n",
      "4                          false  /FTP/swift/data/obs/2007_02/00074481008/   \n",
      "5                           None                                      None   \n",
      "6                           None                                      None   \n",
      "7                           None                                      None   \n",
      "8                          false  /FTP/swift/data/obs/2007_01/00074481007/   \n",
      "9                           None                                      None   \n",
      "\n",
      "  __p_swiftmastr_swift_obs_uvot_filter __p_swiftmastr_link_swiftxrlog_obsid  \\\n",
      "0                                   u*                          00074481018   \n",
      "1                                 None                                 None   \n",
      "2                                 None                                 None   \n",
      "3                                 None                                 None   \n",
      "4                                   u*                          00074481008   \n",
      "5                                 None                                 None   \n",
      "6                                 None                                 None   \n",
      "7                                 None                                 None   \n",
      "8                                   u*                          00074481007   \n",
      "9                                 None                                 None   \n",
      "\n",
      "  __p_swiftmastr_link_swiftbalog_obsid  \\\n",
      "0                          00074481018   \n",
      "1                                 None   \n",
      "2                                 None   \n",
      "3                                 None   \n",
      "4                          00074481008   \n",
      "5                                 None   \n",
      "6                                 None   \n",
      "7                                 None   \n",
      "8                          00074481007   \n",
      "9                                 None   \n",
      "\n",
      "  __p_swiftmastr_link_swifttdrss_target_id __w_swiftmastr_link_swifttdrss  \\\n",
      "0                                    74481                          false   \n",
      "1                                     None                           None   \n",
      "2                                     None                           None   \n",
      "3                                     None                           None   \n",
      "4                                    74481                          false   \n",
      "5                                     None                           None   \n",
      "6                                     None                           None   \n",
      "7                                     None                           None   \n",
      "8                                    74481                          false   \n",
      "9                                     None                           None   \n",
      "\n",
      "  __p_swiftmastr_point_bib_table __p_swiftmastr_point_bib_id  \\\n",
      "0                     swiftmastr                       74481   \n",
      "1                           None                        None   \n",
      "2                           None                        None   \n",
      "3                           None                        None   \n",
      "4                     swiftmastr                       74481   \n",
      "5                           None                        None   \n",
      "6                           None                        None   \n",
      "7                           None                        None   \n",
      "8                     swiftmastr                       74481   \n",
      "9                           None                        None   \n",
      "\n",
      "  __w_swiftmastr_point_bib  \n",
      "0                    false  \n",
      "1                     None  \n",
      "2                     None  \n",
      "3                     None  \n",
      "4                    false  \n",
      "5                     None  \n",
      "6                     None  \n",
      "7                     None  \n",
      "8                    false  \n",
      "9                     None  \n",
      "\n",
      "[10 rows x 22 columns]\n"
     ]
    }
   ],
   "source": [
    "lines = result.text.split('\\n')\n",
    "data_lines = [line for line in lines if line.strip() and not line.startswith('#')]\n",
    "header = data_lines[0].split('|')\n",
    "rows = [line.split('|') for line in data_lines[1:]]\n",
    "df = pd.DataFrame(rows, columns=header)\n",
    "df.columns = df.columns.str.strip()\n",
    "df = df.apply(lambda col: col.str.strip() if col.dtype == \"object\" else col)\n",
    "df['obsid'] = df['obsid'].ffill()\n",
    "print(df.head(10))"
   ]
  },
  {
   "cell_type": "code",
   "execution_count": 46,
   "id": "5198df76-fd73-4c41-90e4-7c42e083dc95",
   "metadata": {
    "execution": {
     "iopub.execute_input": "2025-05-22T13:30:01.445606Z",
     "iopub.status.busy": "2025-05-22T13:30:01.444473Z",
     "iopub.status.idle": "2025-05-22T13:30:01.523608Z",
     "shell.execute_reply": "2025-05-22T13:30:01.521579Z",
     "shell.execute_reply.started": "2025-05-22T13:30:01.445523Z"
    }
   },
   "outputs": [
    {
     "data": {
      "text/html": [
       "<div>\n",
       "<style scoped>\n",
       "    .dataframe tbody tr th:only-of-type {\n",
       "        vertical-align: middle;\n",
       "    }\n",
       "\n",
       "    .dataframe tbody tr th {\n",
       "        vertical-align: top;\n",
       "    }\n",
       "\n",
       "    .dataframe thead th {\n",
       "        text-align: right;\n",
       "    }\n",
       "</style>\n",
       "<table border=\"1\" class=\"dataframe\">\n",
       "  <thead>\n",
       "    <tr style=\"text-align: right;\">\n",
       "      <th></th>\n",
       "      <th>name</th>\n",
       "      <th>obsid</th>\n",
       "      <th>ra</th>\n",
       "      <th>dec</th>\n",
       "      <th>start_time</th>\n",
       "      <th>processing_date</th>\n",
       "      <th>xrt_exposure</th>\n",
       "      <th>uvot_exposure</th>\n",
       "      <th>bat_exposure</th>\n",
       "      <th>archive_date</th>\n",
       "      <th>...</th>\n",
       "      <th>__w_swiftmastr_link_swiftuvlog</th>\n",
       "      <th>__p_swiftmastr_swift_obs_root</th>\n",
       "      <th>__p_swiftmastr_swift_obs_uvot_filter</th>\n",
       "      <th>__p_swiftmastr_link_swiftxrlog_obsid</th>\n",
       "      <th>__p_swiftmastr_link_swiftbalog_obsid</th>\n",
       "      <th>__p_swiftmastr_link_swifttdrss_target_id</th>\n",
       "      <th>__w_swiftmastr_link_swifttdrss</th>\n",
       "      <th>__p_swiftmastr_point_bib_table</th>\n",
       "      <th>__p_swiftmastr_point_bib_id</th>\n",
       "      <th>__w_swiftmastr_point_bib</th>\n",
       "    </tr>\n",
       "  </thead>\n",
       "  <tbody>\n",
       "    <tr>\n",
       "      <th>0</th>\n",
       "      <td>saa-cold-103-0</td>\n",
       "      <td>00074481018</td>\n",
       "      <td>20 50 12.19</td>\n",
       "      <td>-89 59 26.2</td>\n",
       "      <td>2007-07-08T03:43:01</td>\n",
       "      <td>2015-07-16T00:00:00</td>\n",
       "      <td>247.11000</td>\n",
       "      <td>0.00000</td>\n",
       "      <td>490.00000</td>\n",
       "      <td>2007-07-19</td>\n",
       "      <td>...</td>\n",
       "      <td>false</td>\n",
       "      <td>/FTP/swift/data/obs/2007_07/00074481018/</td>\n",
       "      <td>u*</td>\n",
       "      <td>00074481018</td>\n",
       "      <td>00074481018</td>\n",
       "      <td>74481</td>\n",
       "      <td>false</td>\n",
       "      <td>swiftmastr</td>\n",
       "      <td>74481</td>\n",
       "      <td>false</td>\n",
       "    </tr>\n",
       "    <tr>\n",
       "      <th>1</th>\n",
       "      <td>&gt;  query?table=swiftbalog&amp;constraint=obsid='00...</td>\n",
       "      <td>00074481018</td>\n",
       "      <td>None</td>\n",
       "      <td>None</td>\n",
       "      <td>None</td>\n",
       "      <td>None</td>\n",
       "      <td>None</td>\n",
       "      <td>None</td>\n",
       "      <td>None</td>\n",
       "      <td>None</td>\n",
       "      <td>...</td>\n",
       "      <td>None</td>\n",
       "      <td>None</td>\n",
       "      <td>None</td>\n",
       "      <td>None</td>\n",
       "      <td>None</td>\n",
       "      <td>None</td>\n",
       "      <td>None</td>\n",
       "      <td>None</td>\n",
       "      <td>None</td>\n",
       "      <td>None</td>\n",
       "    </tr>\n",
       "    <tr>\n",
       "      <th>2</th>\n",
       "      <td>&gt;  query?table=swiftxrlog&amp;constraint=obsid='00...</td>\n",
       "      <td>00074481018</td>\n",
       "      <td>None</td>\n",
       "      <td>None</td>\n",
       "      <td>None</td>\n",
       "      <td>None</td>\n",
       "      <td>None</td>\n",
       "      <td>None</td>\n",
       "      <td>None</td>\n",
       "      <td>None</td>\n",
       "      <td>...</td>\n",
       "      <td>None</td>\n",
       "      <td>None</td>\n",
       "      <td>None</td>\n",
       "      <td>None</td>\n",
       "      <td>None</td>\n",
       "      <td>None</td>\n",
       "      <td>None</td>\n",
       "      <td>None</td>\n",
       "      <td>None</td>\n",
       "      <td>None</td>\n",
       "    </tr>\n",
       "    <tr>\n",
       "      <th>3</th>\n",
       "      <td>&gt;  /FTP/swift/data/obs/2007_07/00074481018/</td>\n",
       "      <td>00074481018</td>\n",
       "      <td>None</td>\n",
       "      <td>None</td>\n",
       "      <td>None</td>\n",
       "      <td>None</td>\n",
       "      <td>None</td>\n",
       "      <td>None</td>\n",
       "      <td>None</td>\n",
       "      <td>None</td>\n",
       "      <td>...</td>\n",
       "      <td>None</td>\n",
       "      <td>None</td>\n",
       "      <td>None</td>\n",
       "      <td>None</td>\n",
       "      <td>None</td>\n",
       "      <td>None</td>\n",
       "      <td>None</td>\n",
       "      <td>None</td>\n",
       "      <td>None</td>\n",
       "      <td>None</td>\n",
       "    </tr>\n",
       "  </tbody>\n",
       "</table>\n",
       "<p>4 rows × 22 columns</p>\n",
       "</div>"
      ],
      "text/plain": [
       "                                                name        obsid  \\\n",
       "0                                     saa-cold-103-0  00074481018   \n",
       "1  >  query?table=swiftbalog&constraint=obsid='00...  00074481018   \n",
       "2  >  query?table=swiftxrlog&constraint=obsid='00...  00074481018   \n",
       "3        >  /FTP/swift/data/obs/2007_07/00074481018/  00074481018   \n",
       "\n",
       "            ra          dec           start_time      processing_date  \\\n",
       "0  20 50 12.19  -89 59 26.2  2007-07-08T03:43:01  2015-07-16T00:00:00   \n",
       "1         None         None                 None                 None   \n",
       "2         None         None                 None                 None   \n",
       "3         None         None                 None                 None   \n",
       "\n",
       "  xrt_exposure uvot_exposure bat_exposure archive_date  ...  \\\n",
       "0    247.11000       0.00000    490.00000   2007-07-19  ...   \n",
       "1         None          None         None         None  ...   \n",
       "2         None          None         None         None  ...   \n",
       "3         None          None         None         None  ...   \n",
       "\n",
       "  __w_swiftmastr_link_swiftuvlog             __p_swiftmastr_swift_obs_root  \\\n",
       "0                          false  /FTP/swift/data/obs/2007_07/00074481018/   \n",
       "1                           None                                      None   \n",
       "2                           None                                      None   \n",
       "3                           None                                      None   \n",
       "\n",
       "  __p_swiftmastr_swift_obs_uvot_filter __p_swiftmastr_link_swiftxrlog_obsid  \\\n",
       "0                                   u*                          00074481018   \n",
       "1                                 None                                 None   \n",
       "2                                 None                                 None   \n",
       "3                                 None                                 None   \n",
       "\n",
       "  __p_swiftmastr_link_swiftbalog_obsid  \\\n",
       "0                          00074481018   \n",
       "1                                 None   \n",
       "2                                 None   \n",
       "3                                 None   \n",
       "\n",
       "  __p_swiftmastr_link_swifttdrss_target_id __w_swiftmastr_link_swifttdrss  \\\n",
       "0                                    74481                          false   \n",
       "1                                     None                           None   \n",
       "2                                     None                           None   \n",
       "3                                     None                           None   \n",
       "\n",
       "  __p_swiftmastr_point_bib_table __p_swiftmastr_point_bib_id  \\\n",
       "0                     swiftmastr                       74481   \n",
       "1                           None                        None   \n",
       "2                           None                        None   \n",
       "3                           None                        None   \n",
       "\n",
       "  __w_swiftmastr_point_bib  \n",
       "0                    false  \n",
       "1                     None  \n",
       "2                     None  \n",
       "3                     None  \n",
       "\n",
       "[4 rows x 22 columns]"
      ]
     },
     "execution_count": 46,
     "metadata": {},
     "output_type": "execute_result"
    }
   ],
   "source": [
    "obsid_row = df[df['obsid'] == '00074481018']\n",
    "obsid_row"
   ]
  },
  {
   "cell_type": "code",
   "execution_count": 48,
   "id": "22c33e10-fa16-41e4-8002-35f8bf31ea97",
   "metadata": {
    "execution": {
     "iopub.execute_input": "2025-05-22T13:31:18.123839Z",
     "iopub.status.busy": "2025-05-22T13:31:18.111581Z",
     "iopub.status.idle": "2025-05-22T13:31:18.139008Z",
     "shell.execute_reply": "2025-05-22T13:31:18.136925Z",
     "shell.execute_reply.started": "2025-05-22T13:31:18.123715Z"
    }
   },
   "outputs": [
    {
     "data": {
      "text/plain": [
       "0    /FTP/swift/data/obs/2007_07/00074481018/\n",
       "1                                        None\n",
       "2                                        None\n",
       "3                                        None\n",
       "Name: __p_swiftmastr_swift_obs_root, dtype: object"
      ]
     },
     "execution_count": 48,
     "metadata": {},
     "output_type": "execute_result"
    }
   ],
   "source": [
    "obsid_ftp = obsid_rows['__p_swiftmastr_swift_obs_root']\n",
    "obsid_ftp"
   ]
  },
  {
   "cell_type": "code",
   "execution_count": 53,
   "id": "17d53362-f52b-4108-b1ba-f956d333f6ed",
   "metadata": {
    "execution": {
     "iopub.execute_input": "2025-05-22T13:33:28.365676Z",
     "iopub.status.busy": "2025-05-22T13:33:28.364773Z",
     "iopub.status.idle": "2025-05-22T13:33:28.379576Z",
     "shell.execute_reply": "2025-05-22T13:33:28.377465Z",
     "shell.execute_reply.started": "2025-05-22T13:33:28.365618Z"
    }
   },
   "outputs": [
    {
     "data": {
      "text/plain": [
       "'https://heasarc.gsfc.nasa.gov//FTP/swift/data/obs/2007_07/00074481018/'"
      ]
     },
     "execution_count": 53,
     "metadata": {},
     "output_type": "execute_result"
    }
   ],
   "source": [
    "downlink = f\"https://heasarc.gsfc.nasa.gov/{obsid_ftp[0]}\"\n",
    "downlink"
   ]
  },
  {
   "cell_type": "code",
   "execution_count": null,
   "id": "65063688-f970-454b-b3e6-6655b3143781",
   "metadata": {},
   "outputs": [],
   "source": []
  }
 ],
 "metadata": {
  "kernelspec": {
   "display_name": "(heasoft)",
   "language": "python",
   "name": "conda-env-heasoft-py"
  },
  "language_info": {
   "codemirror_mode": {
    "name": "ipython",
    "version": 3
   },
   "file_extension": ".py",
   "mimetype": "text/x-python",
   "name": "python",
   "nbconvert_exporter": "python",
   "pygments_lexer": "ipython3",
   "version": "3.12.10"
  }
 },
 "nbformat": 4,
 "nbformat_minor": 5
}

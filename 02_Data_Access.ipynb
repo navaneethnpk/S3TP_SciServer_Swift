{
 "cells": [
  {
   "cell_type": "markdown",
   "id": "2bf54557-6250-4365-97e3-f23307285f89",
   "metadata": {},
   "source": [
    "## Methods for Accessing HEASARC Data  \n",
    "In this notebook, we will explore various methods to access and download data from the HEASARC (High Energy Astrophysics Science Archive Research Center) archive. While our focus will be on Swift satellite data, the approaches demonstrated here can be applied to data from any HEASARC-hosted mission. The methods covered in this notebook are adapted from the [sciserver_cookbooks](https://github.com/HEASARC/sciserver_cookbooks) GitHub repository.  \n",
    "\n",
    "### 1. Online Access via Swift Master Catalog\n",
    "The Swift Master Catalog is a web-based interface that allows users to browse and download Swift mission data. It provides a user-friendly way to search for observations, view metadata, and download datasets directly through the HEASARC website. This method is ideal for quick, manual queries or exploring the data interactively.  \n",
    "[Access the Swift Master Catalog](https://heasarc.gsfc.nasa.gov/w3browse/swift/swiftmastr.html)\n",
    "\n",
    "### 2. HEASARC TAP Service (Table Access Protocol)\n",
    "\n",
    "The TAP service is a standardized Virtual Observatory protocol that enables programmatic access to astronomical catalogs and data tables. Through TAP, users can execute SQL-like queries to retrieve data from the HEASARC archives in a flexible and automated manner. This is particularly useful for large-scale data mining, batch queries, or integrating HEASARC data access into software pipelines.  \n",
    "Learn more: [TAP Service](https://www.ivoa.net/documents/TAP/20190626/PR-TAP-1.1-20190626.html), [HEASARC API](https://heasarc.gsfc.nasa.gov/docs/archive/apis.html)\n",
    "\n",
    "### 3. Xamin's API\n",
    "Xamin is an advanced query and data mining tool provided by HEASARC that supports complex data searches and cross-matching across multiple catalogs. Its API allows users to submit queries programmatically and retrieve data in various formats. Xamin’s capabilities make it a powerful resource for in-depth data exploration and multi-wavelength studies.  \n",
    "[Xamin](https://heasarc.gsfc.nasa.gov/xamin/)"
   ]
  },
  {
   "attachments": {},
   "cell_type": "markdown",
   "id": "5c398eac-4f6e-4f71-98eb-b8af0b1eb4e2",
   "metadata": {},
   "source": []
  },
  {
   "cell_type": "markdown",
   "id": "7b921216-c36e-47e1-93be-9b845d553c51",
   "metadata": {},
   "source": [
    "## Module Imports"
   ]
  },
  {
   "cell_type": "code",
   "execution_count": 1,
   "id": "999720ae-4867-42d5-a279-1c2d6838af28",
   "metadata": {
    "execution": {
     "iopub.execute_input": "2025-05-21T14:52:02.753164Z",
     "iopub.status.busy": "2025-05-21T14:52:02.752407Z",
     "iopub.status.idle": "2025-05-21T14:52:05.699223Z",
     "shell.execute_reply": "2025-05-21T14:52:05.696976Z",
     "shell.execute_reply.started": "2025-05-21T14:52:02.753107Z"
    }
   },
   "outputs": [],
   "source": [
    "import sys\n",
    "import os\n",
    "import pyvo\n",
    "from astropy.coordinates import SkyCoord\n",
    "import requests\n",
    "import glob\n",
    "import numpy as np"
   ]
  },
  {
   "cell_type": "markdown",
   "id": "d50dbf33-871f-4de4-a5b4-7cbf7455972a",
   "metadata": {
    "execution": {
     "iopub.execute_input": "2025-05-20T14:44:04.477916Z",
     "iopub.status.busy": "2025-05-20T14:44:04.475972Z",
     "iopub.status.idle": "2025-05-20T14:44:04.486525Z",
     "shell.execute_reply": "2025-05-20T14:44:04.484938Z",
     "shell.execute_reply.started": "2025-05-20T14:44:04.477854Z"
    }
   },
   "source": [
    "## HEASARC TAP service"
   ]
  },
  {
   "cell_type": "markdown",
   "id": "3511f583-8d07-4eb8-81c5-fac997cef876",
   "metadata": {},
   "source": [
    "We can use the Virtual Observatory interfaces to the HEASARC to find the data we're interested in. "
   ]
  },
  {
   "cell_type": "code",
   "execution_count": 22,
   "id": "1b351cb7-732e-407d-91a5-03b80d580383",
   "metadata": {
    "execution": {
     "iopub.execute_input": "2025-05-21T12:52:55.237192Z",
     "iopub.status.busy": "2025-05-21T12:52:55.236389Z",
     "iopub.status.idle": "2025-05-21T12:52:56.013857Z",
     "shell.execute_reply": "2025-05-21T12:52:56.011559Z",
     "shell.execute_reply.started": "2025-05-21T12:52:55.237138Z"
    }
   },
   "outputs": [],
   "source": [
    "tap_services = pyvo.regsearch(servicetype='tap', keywords=['heasarc'])"
   ]
  },
  {
   "cell_type": "code",
   "execution_count": 23,
   "id": "c361809b-9d02-42df-a4fc-51593465deb9",
   "metadata": {
    "execution": {
     "iopub.execute_input": "2025-05-21T12:52:56.726612Z",
     "iopub.status.busy": "2025-05-21T12:52:56.725787Z",
     "iopub.status.idle": "2025-05-21T12:53:16.540122Z",
     "shell.execute_reply": "2025-05-21T12:53:16.537765Z",
     "shell.execute_reply.started": "2025-05-21T12:52:56.726556Z"
    }
   },
   "outputs": [],
   "source": [
    "heasarc_tables = tap_services[0].service.tables"
   ]
  },
  {
   "cell_type": "code",
   "execution_count": null,
   "id": "e3d0da17-b0ec-4203-b548-af8c7b1542c7",
   "metadata": {
    "execution": {
     "iopub.status.busy": "2025-05-21T11:51:50.502379Z",
     "iopub.status.idle": "2025-05-21T11:51:50.503426Z",
     "shell.execute_reply": "2025-05-21T11:51:50.502902Z",
     "shell.execute_reply.started": "2025-05-21T11:51:50.502852Z"
    }
   },
   "outputs": [],
   "source": [
    "for tablename in heasarc_tables.keys():\n",
    "    if \"swift\" in tablename:\n",
    "        print(\" {:20s} {}\".format(tablename, heasarc_tables[tablename].description))"
   ]
  },
  {
   "cell_type": "code",
   "execution_count": null,
   "id": "d7598c33-b64a-4eb4-8095-3f3d13c18fb3",
   "metadata": {
    "execution": {
     "iopub.status.busy": "2025-05-21T11:51:50.506388Z",
     "iopub.status.idle": "2025-05-21T11:51:50.507268Z",
     "shell.execute_reply": "2025-05-21T11:51:50.506961Z",
     "shell.execute_reply.started": "2025-05-21T11:51:50.506925Z"
    }
   },
   "outputs": [],
   "source": [
    "for column in heasarc_tables['swiftmastr'].columns:\n",
    "    print(\"{:20s} {}\".format(column.name, column.description))"
   ]
  },
  {
   "cell_type": "code",
   "execution_count": null,
   "id": "de0036dc-33d9-4b41-9c01-93a10ab2b45b",
   "metadata": {
    "execution": {
     "iopub.status.busy": "2025-05-21T11:51:50.509366Z",
     "iopub.status.idle": "2025-05-21T11:51:50.510092Z",
     "shell.execute_reply": "2025-05-21T11:51:50.509783Z",
     "shell.execute_reply.started": "2025-05-21T11:51:50.509698Z"
    }
   },
   "outputs": [],
   "source": [
    "# Get the coordinate for Eta Car\n",
    "pos = SkyCoord.from_name(\"OJ 287\")\n",
    "query = \"\"\"SELECT name, obsid, ra, dec, start_time, processing_date, xrt_exposure, uvot_exposure, bat_exposure, archive_date, target_id, xrt_expo_wt, xrt_expo_pc, uvot_expo_uu, uvot_expo_bb, uvot_expo_vv, uvot_expo_w1, uvot_expo_w2, uvot_expo_m2 \n",
    "    FROM public.swiftmastr as cat \n",
    "    where \n",
    "    contains(point('ICRS',cat.ra,cat.dec),circle('ICRS',{},{},0.1))=1 \n",
    "    and \n",
    "    cat.xrt_exposure > 0 order by cat.start_time\n",
    "    \"\"\".format(pos.ra.deg, pos.dec.deg)"
   ]
  },
  {
   "cell_type": "code",
   "execution_count": null,
   "id": "90474828-6735-4b75-8bde-bf3cd15ddbee",
   "metadata": {
    "execution": {
     "iopub.status.busy": "2025-05-21T11:51:50.511570Z",
     "iopub.status.idle": "2025-05-21T11:51:50.512260Z",
     "shell.execute_reply": "2025-05-21T11:51:50.511966Z",
     "shell.execute_reply.started": "2025-05-21T11:51:50.511932Z"
    }
   },
   "outputs": [],
   "source": [
    "results = tap_services[0].search(query).to_table()\n",
    "results"
   ]
  },
  {
   "cell_type": "code",
   "execution_count": null,
   "id": "a2d5b5e7-ecbd-48d7-909c-f5fa5e088f57",
   "metadata": {
    "execution": {
     "iopub.status.busy": "2025-05-21T11:51:50.513455Z",
     "iopub.status.idle": "2025-05-21T11:51:50.514137Z",
     "shell.execute_reply": "2025-05-21T11:51:50.513842Z",
     "shell.execute_reply.started": "2025-05-21T11:51:50.513806Z"
    }
   },
   "outputs": [],
   "source": [
    "import pandas as pd\n",
    "from astropy.table import Table\n",
    "obs_to_check = [res for res in results if 58932 <= res['start_time'] <= 58993]\n",
    "# filtered_table = Table(rows=obs_to_check)\n",
    "# filtered_table\n",
    "# column_names = results.colnames\n",
    "# df = pd.DataFrame(obs_to_check, columns=column_names)\n",
    "# df"
   ]
  },
  {
   "cell_type": "code",
   "execution_count": null,
   "id": "1ca744c8-0c60-4ec1-b153-de28bb7f4fa7",
   "metadata": {},
   "outputs": [],
   "source": []
  },
  {
   "cell_type": "code",
   "execution_count": null,
   "id": "a8d47602-f634-4928-a511-ce760fec783f",
   "metadata": {},
   "outputs": [],
   "source": []
  },
  {
   "cell_type": "code",
   "execution_count": null,
   "id": "978ebbe4-5e5c-4e05-befa-42173fae77e3",
   "metadata": {},
   "outputs": [],
   "source": []
  },
  {
   "cell_type": "markdown",
   "id": "cb667134-e8dd-47b2-9e2c-606d0b279c8c",
   "metadata": {},
   "source": [
    "## Xamin's API"
   ]
  },
  {
   "cell_type": "code",
   "execution_count": null,
   "id": "225dc4e0-588c-471f-92a2-5ab3046e7b7b",
   "metadata": {
    "execution": {
     "iopub.status.busy": "2025-05-21T11:51:50.515147Z",
     "iopub.status.idle": "2025-05-21T11:51:50.515840Z",
     "shell.execute_reply": "2025-05-21T11:51:50.515493Z",
     "shell.execute_reply.started": "2025-05-21T11:51:50.515459Z"
    }
   },
   "outputs": [],
   "source": [
    "url = \"https://heasarc.gsfc.nasa.gov/xamin/QueryServlet?products&\"\n",
    "params = {\n",
    "    \"table\": \"swiftmastr\",\n",
    "    \"object\": \"OJ 287\",\n",
    "    \"resultmax\": \"10000\"\n",
    "}\n",
    "\n",
    "result = requests.get(url, params)\n",
    "result.text.split('\\n')[0:2]"
   ]
  },
  {
   "cell_type": "markdown",
   "id": "ff0dccd2-ca57-4929-a2eb-795b5a5f399b",
   "metadata": {},
   "source": [
    "## Finding and Downloading the data"
   ]
  },
  {
   "cell_type": "code",
   "execution_count": 2,
   "id": "f0d372b1-4272-4ad9-9f7e-b0fafa7200ed",
   "metadata": {
    "execution": {
     "iopub.execute_input": "2025-05-21T14:52:17.093516Z",
     "iopub.status.busy": "2025-05-21T14:52:17.092317Z",
     "iopub.status.idle": "2025-05-21T14:52:17.698790Z",
     "shell.execute_reply": "2025-05-21T14:52:17.696779Z",
     "shell.execute_reply.started": "2025-05-21T14:52:17.093431Z"
    }
   },
   "outputs": [],
   "source": [
    "# Create a cone-search service\n",
    "nu_services = pyvo.regsearch(ivoid='ivo://nasa.heasarc/swiftmastr')[0]\n",
    "cs_service = nu_services.get_service('conesearch')"
   ]
  },
  {
   "cell_type": "code",
   "execution_count": 3,
   "id": "623c2b20-fc49-4e3f-b139-6fcc6a964d93",
   "metadata": {
    "execution": {
     "iopub.execute_input": "2025-05-21T14:52:23.584367Z",
     "iopub.status.busy": "2025-05-21T14:52:23.583454Z",
     "iopub.status.idle": "2025-05-21T14:53:15.577501Z",
     "shell.execute_reply": "2025-05-21T14:53:15.574873Z",
     "shell.execute_reply.started": "2025-05-21T14:52:23.584306Z"
    }
   },
   "outputs": [
    {
     "ename": "DALServiceError",
     "evalue": "502 Server Error: Bad Gateway for url: https://heasarc.gsfc.nasa.gov/xamin/vo/cone?showoffsets&table=swiftmastr&&RA=253.46756952&DEC=39.76016913&SR=1.0&VERB=3",
     "output_type": "error",
     "traceback": [
      "\u001b[31m---------------------------------------------------------------------------\u001b[39m",
      "\u001b[31mE19\u001b[39m                                       Traceback (most recent call last)",
      "\u001b[36mFile \u001b[39m\u001b[32m~/miniforge3/envs/heasoft/lib/python3.12/site-packages/pyvo/dal/query.py:260\u001b[39m, in \u001b[36mDALQuery.execute_votable\u001b[39m\u001b[34m(self, post)\u001b[39m\n\u001b[32m    259\u001b[39m \u001b[38;5;28;01mtry\u001b[39;00m:\n\u001b[32m--> \u001b[39m\u001b[32m260\u001b[39m     \u001b[38;5;28;01mreturn\u001b[39;00m \u001b[43mvotableparse\u001b[49m\u001b[43m(\u001b[49m\u001b[38;5;28;43mself\u001b[39;49m\u001b[43m.\u001b[49m\u001b[43mexecute_stream\u001b[49m\u001b[43m(\u001b[49m\u001b[43mpost\u001b[49m\u001b[43m=\u001b[49m\u001b[43mpost\u001b[49m\u001b[43m)\u001b[49m\u001b[43m.\u001b[49m\u001b[43mread\u001b[49m\u001b[43m)\u001b[49m\n\u001b[32m    261\u001b[39m \u001b[38;5;28;01mexcept\u001b[39;00m \u001b[38;5;167;01mException\u001b[39;00m \u001b[38;5;28;01mas\u001b[39;00m e:\n",
      "\u001b[36mFile \u001b[39m\u001b[32m~/miniforge3/envs/heasoft/lib/python3.12/site-packages/astropy/io/votable/table.py:164\u001b[39m, in \u001b[36mparse\u001b[39m\u001b[34m(source, columns, invalid, verify, chunk_size, table_number, table_id, filename, unit_format, datatype_mapping, _debug_python_based_parser)\u001b[39m\n\u001b[32m    161\u001b[39m \u001b[38;5;28;01mwith\u001b[39;00m iterparser.get_xml_iterator(\n\u001b[32m    162\u001b[39m     source, _debug_python_based_parser=_debug_python_based_parser\n\u001b[32m    163\u001b[39m ) \u001b[38;5;28;01mas\u001b[39;00m iterator:\n\u001b[32m--> \u001b[39m\u001b[32m164\u001b[39m     \u001b[38;5;28;01mreturn\u001b[39;00m \u001b[43mtree\u001b[49m\u001b[43m.\u001b[49m\u001b[43mVOTableFile\u001b[49m\u001b[43m(\u001b[49m\u001b[43mconfig\u001b[49m\u001b[43m=\u001b[49m\u001b[43mconfig\u001b[49m\u001b[43m,\u001b[49m\u001b[43m \u001b[49m\u001b[43mpos\u001b[49m\u001b[43m=\u001b[49m\u001b[43m(\u001b[49m\u001b[32;43m1\u001b[39;49m\u001b[43m,\u001b[49m\u001b[43m \u001b[49m\u001b[32;43m1\u001b[39;49m\u001b[43m)\u001b[49m\u001b[43m)\u001b[49m\u001b[43m.\u001b[49m\u001b[43mparse\u001b[49m\u001b[43m(\u001b[49m\u001b[43miterator\u001b[49m\u001b[43m,\u001b[49m\u001b[43m \u001b[49m\u001b[43mconfig\u001b[49m\u001b[43m)\u001b[49m\n",
      "\u001b[36mFile \u001b[39m\u001b[32m~/miniforge3/envs/heasoft/lib/python3.12/site-packages/astropy/io/votable/tree.py:4275\u001b[39m, in \u001b[36mVOTableFile.parse\u001b[39m\u001b[34m(self, iterator, config)\u001b[39m\n\u001b[32m   4274\u001b[39m         \u001b[38;5;28;01melse\u001b[39;00m:\n\u001b[32m-> \u001b[39m\u001b[32m4275\u001b[39m             \u001b[43mvo_raise\u001b[49m\u001b[43m(\u001b[49m\u001b[43mE19\u001b[49m\u001b[43m,\u001b[49m\u001b[43m \u001b[49m\u001b[43m(\u001b[49m\u001b[43m)\u001b[49m\u001b[43m,\u001b[49m\u001b[43m \u001b[49m\u001b[43mconfig\u001b[49m\u001b[43m,\u001b[49m\u001b[43m \u001b[49m\u001b[43mpos\u001b[49m\u001b[43m)\u001b[49m\n\u001b[32m   4276\u001b[39m config.update(\u001b[38;5;28mself\u001b[39m._get_version_checks())\n",
      "\u001b[36mFile \u001b[39m\u001b[32m~/miniforge3/envs/heasoft/lib/python3.12/site-packages/astropy/io/votable/exceptions.py:124\u001b[39m, in \u001b[36mvo_raise\u001b[39m\u001b[34m(exception_class, args, config, pos)\u001b[39m\n\u001b[32m    123\u001b[39m     config = {}\n\u001b[32m--> \u001b[39m\u001b[32m124\u001b[39m \u001b[38;5;28;01mraise\u001b[39;00m exception_class(args, config, pos)\n",
      "\u001b[31mE19\u001b[39m: None:4:0: E19: File does not appear to be a VOTABLE",
      "\nDuring handling of the above exception, another exception occurred:\n",
      "\u001b[31mDALServiceError\u001b[39m                           Traceback (most recent call last)",
      "\u001b[36mCell\u001b[39m\u001b[36m \u001b[39m\u001b[32mIn[3]\u001b[39m\u001b[32m, line 4\u001b[39m\n\u001b[32m      1\u001b[39m \u001b[38;5;66;03m# Find the coordinates of the source\u001b[39;00m\n\u001b[32m      2\u001b[39m pos = SkyCoord.from_name(\u001b[33m'\u001b[39m\u001b[33mMrk 501\u001b[39m\u001b[33m'\u001b[39m)\n\u001b[32m----> \u001b[39m\u001b[32m4\u001b[39m search_result = \u001b[43mcs_service\u001b[49m\u001b[43m.\u001b[49m\u001b[43msearch\u001b[49m\u001b[43m(\u001b[49m\u001b[43mpos\u001b[49m\u001b[43m,\u001b[49m\u001b[43m \u001b[49m\u001b[43mverbosity\u001b[49m\u001b[43m=\u001b[49m\u001b[32;43m3\u001b[39;49m\u001b[43m)\u001b[49m\n\u001b[32m      5\u001b[39m table = search_result.to_table()\n\u001b[32m      6\u001b[39m table\n",
      "\u001b[36mFile \u001b[39m\u001b[32m~/miniforge3/envs/heasoft/lib/python3.12/site-packages/pyvo/dal/scs.py:186\u001b[39m, in \u001b[36mSCSService.search\u001b[39m\u001b[34m(self, pos, radius, verbosity, **keywords)\u001b[39m\n\u001b[32m    141\u001b[39m \u001b[38;5;28;01mdef\u001b[39;00m\u001b[38;5;250m \u001b[39m\u001b[34msearch\u001b[39m(\u001b[38;5;28mself\u001b[39m, pos, radius=\u001b[32m1.0\u001b[39m, *, verbosity=\u001b[32m2\u001b[39m, **keywords):\n\u001b[32m    142\u001b[39m \u001b[38;5;250m    \u001b[39m\u001b[33;03m\"\"\"\u001b[39;00m\n\u001b[32m    143\u001b[39m \u001b[33;03m    submit a simple Cone Search query that requests objects or observations\u001b[39;00m\n\u001b[32m    144\u001b[39m \u001b[33;03m    whose positions fall within some distance from a search position.\u001b[39;00m\n\u001b[32m   (...)\u001b[39m\u001b[32m    184\u001b[39m \u001b[33;03m    pyvo.dal.DALQueryError\u001b[39;00m\n\u001b[32m    185\u001b[39m \u001b[33;03m    \"\"\"\u001b[39;00m\n\u001b[32m--> \u001b[39m\u001b[32m186\u001b[39m     \u001b[38;5;28;01mreturn\u001b[39;00m \u001b[38;5;28;43mself\u001b[39;49m\u001b[43m.\u001b[49m\u001b[43mcreate_query\u001b[49m\u001b[43m(\u001b[49m\u001b[43mpos\u001b[49m\u001b[43m=\u001b[49m\u001b[43mpos\u001b[49m\u001b[43m,\u001b[49m\u001b[43m \u001b[49m\u001b[43mradius\u001b[49m\u001b[43m=\u001b[49m\u001b[43mradius\u001b[49m\u001b[43m,\u001b[49m\u001b[43m \u001b[49m\u001b[43mverbosity\u001b[49m\u001b[43m=\u001b[49m\u001b[43mverbosity\u001b[49m\u001b[43m,\u001b[49m\u001b[43m \u001b[49m\u001b[43m*\u001b[49m\u001b[43m*\u001b[49m\u001b[43mkeywords\u001b[49m\u001b[43m)\u001b[49m\u001b[43m.\u001b[49m\u001b[43mexecute\u001b[49m\u001b[43m(\u001b[49m\u001b[43m)\u001b[49m\n",
      "\u001b[36mFile \u001b[39m\u001b[32m~/miniforge3/envs/heasoft/lib/python3.12/site-packages/pyvo/dal/scs.py:413\u001b[39m, in \u001b[36mSCSQuery.execute\u001b[39m\u001b[34m(self)\u001b[39m\n\u001b[32m    399\u001b[39m \u001b[38;5;28;01mdef\u001b[39;00m\u001b[38;5;250m \u001b[39m\u001b[34mexecute\u001b[39m(\u001b[38;5;28mself\u001b[39m):\n\u001b[32m    400\u001b[39m \u001b[38;5;250m    \u001b[39m\u001b[33;03m\"\"\"\u001b[39;00m\n\u001b[32m    401\u001b[39m \u001b[33;03m    submit the query and return the results as a SCSResults instance\u001b[39;00m\n\u001b[32m    402\u001b[39m \n\u001b[32m   (...)\u001b[39m\u001b[32m    411\u001b[39m \u001b[33;03m       for errors parsing the VOTable response\u001b[39;00m\n\u001b[32m    412\u001b[39m \u001b[33;03m    \"\"\"\u001b[39;00m\n\u001b[32m--> \u001b[39m\u001b[32m413\u001b[39m     \u001b[38;5;28;01mreturn\u001b[39;00m SCSResults(\u001b[38;5;28;43mself\u001b[39;49m\u001b[43m.\u001b[49m\u001b[43mexecute_votable\u001b[49m\u001b[43m(\u001b[49m\u001b[43m)\u001b[49m, url=\u001b[38;5;28mself\u001b[39m.queryurl, session=\u001b[38;5;28mself\u001b[39m._session)\n",
      "\u001b[36mFile \u001b[39m\u001b[32m~/miniforge3/envs/heasoft/lib/python3.12/site-packages/pyvo/dal/query.py:262\u001b[39m, in \u001b[36mDALQuery.execute_votable\u001b[39m\u001b[34m(self, post)\u001b[39m\n\u001b[32m    260\u001b[39m     \u001b[38;5;28;01mreturn\u001b[39;00m votableparse(\u001b[38;5;28mself\u001b[39m.execute_stream(post=post).read)\n\u001b[32m    261\u001b[39m \u001b[38;5;28;01mexcept\u001b[39;00m \u001b[38;5;167;01mException\u001b[39;00m \u001b[38;5;28;01mas\u001b[39;00m e:\n\u001b[32m--> \u001b[39m\u001b[32m262\u001b[39m     \u001b[38;5;28;43mself\u001b[39;49m\u001b[43m.\u001b[49m\u001b[43mraise_if_error\u001b[49m\u001b[43m(\u001b[49m\u001b[43m)\u001b[49m\n\u001b[32m    263\u001b[39m     \u001b[38;5;28;01mraise\u001b[39;00m DALFormatError(e, \u001b[38;5;28mself\u001b[39m.queryurl)\n",
      "\u001b[36mFile \u001b[39m\u001b[32m~/miniforge3/envs/heasoft/lib/python3.12/site-packages/pyvo/dal/query.py:271\u001b[39m, in \u001b[36mDALQuery.raise_if_error\u001b[39m\u001b[34m(self)\u001b[39m\n\u001b[32m    269\u001b[39m \u001b[38;5;28;01mif\u001b[39;00m \u001b[38;5;28mself\u001b[39m._ex:\n\u001b[32m    270\u001b[39m     e = \u001b[38;5;28mself\u001b[39m._ex\n\u001b[32m--> \u001b[39m\u001b[32m271\u001b[39m     \u001b[38;5;28;01mraise\u001b[39;00m DALServiceError.from_except(e, \u001b[38;5;28mself\u001b[39m.queryurl)\n",
      "\u001b[31mDALServiceError\u001b[39m: 502 Server Error: Bad Gateway for url: https://heasarc.gsfc.nasa.gov/xamin/vo/cone?showoffsets&table=swiftmastr&&RA=253.46756952&DEC=39.76016913&SR=1.0&VERB=3"
     ]
    }
   ],
   "source": [
    "# Find the coordinates of the source\n",
    "pos = SkyCoord.from_name('Mrk 501')\n",
    "\n",
    "search_result = cs_service.search(pos, verbosity=3)\n",
    "table = search_result.to_table()\n",
    "table"
   ]
  },
  {
   "cell_type": "code",
   "execution_count": 33,
   "id": "3c7532bf-e841-4a0d-a0f3-849e6704f3b4",
   "metadata": {
    "execution": {
     "iopub.execute_input": "2025-05-21T13:10:12.063197Z",
     "iopub.status.busy": "2025-05-21T13:10:12.062379Z",
     "iopub.status.idle": "2025-05-21T13:10:12.074423Z",
     "shell.execute_reply": "2025-05-21T13:10:12.071557Z",
     "shell.execute_reply.started": "2025-05-21T13:10:12.063140Z"
    }
   },
   "outputs": [],
   "source": [
    "# # Find the coordinates of the source\n",
    "# pos = SkyCoord.from_name('OJ 287')\n",
    "\n",
    "# search_result = cs_service.search(pos)\n",
    "\n",
    "# # display the result as an astropy table\n",
    "# search_result.to_table()"
   ]
  },
  {
   "cell_type": "code",
   "execution_count": 45,
   "id": "2ca2ea56-c9eb-4237-8bd0-6c9e382f318b",
   "metadata": {
    "execution": {
     "iopub.execute_input": "2025-05-21T13:14:34.763705Z",
     "iopub.status.busy": "2025-05-21T13:14:34.762617Z",
     "iopub.status.idle": "2025-05-21T13:14:34.934678Z",
     "shell.execute_reply": "2025-05-21T13:14:34.932909Z",
     "shell.execute_reply.started": "2025-05-21T13:14:34.763649Z"
    }
   },
   "outputs": [
    {
     "data": {
      "text/plain": [
       "[('266222', 'OJ287', '00035905040', '133.66536', '20.08646', '58950.9976', '58961.0', '1170.91', '1144.975', '1177.0', '58961', '1317.99991989136', '143.000520944595', '1174.99939894676', '1317.99991989136', '112', '0.0', '2648.0', '0.0', '1321.6', '1177.0', '2', '35.77962647', '0', 'N', '206.82290225', '3', '40', '40', '00035905040', '35905', 'Swift', '1', '3.18.11', '280.396874436814', '1.0', 'Hea_27Jul2015_V6.17_Swift_Rel4.5(Bld34)_27Jul2015_SDCpatch_16', '58951.0475', '35905', 'N', '96.759', '0.0', '0.0', '0.0', '273.109', '0.0', '96.781', '96.781', '193.771', '387.774', '0.0', '0.0', '0.0', '1170.91', '0.0', '0.0', '2.53090296146628'),\n",
       " ('266234', 'OJ287', '00035905041', '133.65865', '20.08717', '58954.249', '58964.0', '1396.572', '1368.105', '1402.0', '58965', '0.0', '98.0000410079956', '1399.99929904938', '1497.99934005737', '112', '0.0', '3000.0', '0.0', '1502.4', '1402.0', '2', '35.77392887', '0', 'N', '206.81946574', '4', '41', '41', '00035905041', '35905', 'Swift', '1', '3.18.11', '279.1384583315', '0.0', 'Hea_27Jul2015_V6.17_Swift_Rel4.5(Bld34)_27Jul2015_SDCpatch_16', '58954.3', '35905', 'N', '112.767', '0.0', '0.0', '0.0', '352.237', '0.0', '112.779', '112.779', '225.756', '451.787', '0.0', '0.0', '0.0', '1396.572', '0.0', '0.0', '2.8403514911721524'),\n",
       " ('266242', 'OJ287', '00035905050', '133.6639', '20.08797', '58967.7219', '58977.0', '1074.698', '1044.167', '1077.0', '58978', '1199.19985997677', '124.203441023827', '1074.99641895294', '1199.19985997677', '112', '0.0', '1192.0', '0.0', '1200.0', '1077.0', '1', '35.778843', '0', 'N', '206.82057726', '6', '50', '50', '00035905050', '35905', 'Swift', '1', '3.18.11', '290.391271682953', '1.0', 'Hea_27Jul2015_V6.17_Swift_Rel4.5(Bld34)_27Jul2015_SDCpatch_16', '58967.7704', '35905', 'N', '85.77', '0.0', '0.0', '0.0', '274.311', '0.0', '85.781', '85.77', '170.768', '341.767', '0.0', '0.0', '0.0', '0.0', '0.0', '1074.698', '2.556268789738893'),\n",
       " ('266331', 'OJ287', '00035905048', '133.64676', '20.09544', '58965.6691', '58975.0', '1124.608', '1095.061', '1127.0', '58976', '0.0', '73.20006108284', '1124.99929893017', '1198.19936001301', '112', '0.0', '2400.0', '0.0', '1201.6', '1127.0', '2', '35.76617222', '0', 'N', '206.80526281', '4', '48', '48', '00035905048', '35905', 'Swift', '1', '3.18.11', '277.083777939848', '0.0', 'Hea_27Jul2015_V6.17_Swift_Rel4.5(Bld34)_27Jul2015_SDCpatch_16', '58965.7175', '35905', 'N', '90.779', '0.0', '0.0', '0.0', '279.243', '0.0', '90.757', '90.779', '180.763', '362.74', '0.0', '0.0', '0.0', '0.0', '0.0', '1124.608', '3.3000677706848687'),\n",
       " ('266685', 'OJ287', '00035905042', '133.64735', '20.11446', '58957.6324', '58967.0', '1118.037', '1092.093', '1125.0', '58968', '0.0', '75.3999810218811', '1119.99953901768', '1195.39952003956', '112', '0.0', '1184.0', '0.0', '1198.4', '1125.0', '1', '35.77306205', '0', 'N', '206.78339723', '5', '42', '42', '00035905042', '35905', 'Swift', '1', '3.18.11', '291.80716850083', '0.0', 'Hea_27Jul2015_V6.17_Swift_Rel4.5(Bld34)_27Jul2015_SDCpatch_16', '58957.6809', '35905', 'N', '91.783', '0.0', '0.0', '0.0', '267.217', '0.0', '91.761', '91.783', '182.771', '366.778', '0.0', '0.0', '0.0', '1118.037', '0.0', '0.0', '3.1920630124596134'),\n",
       " ('266940', 'OJ287', '00035905063', '133.69155', '20.12903', '58984.5178', '58994.0', '1464.255', '1418.954', '1474.0', '58995', '0.0', '331.400122046471', '1469.99877893925', '1801.39890098572', '112', '0.0', '1800.0', '0.0', '1808.0', '1474.0', '1', '35.81705119', '0', 'N', '206.78358024', '7', '63', '63', '00035905063', '35905', 'Swift', '1', '3.18.11', '290.956053780468', '0.0', 'Hea_27Jul2015_V6.17_Swift_Rel4.5(Bld34)_27Jul2015_SDCpatch_16', '58985.0009', '35905', 'N', '142.501', '0.0', '0.0', '0.0', '183.786', '0.0', '142.545', '91.055', '286.525', '572.542', '0.0', '0.0', '0.0', '1464.255', '0.0', '0.0', '1.4074484381166457')]"
      ]
     },
     "execution_count": 45,
     "metadata": {},
     "output_type": "execute_result"
    }
   ],
   "source": [
    "# obs_to_explore = [res for res in search_result if 58932 <= res['start_time'] <= 58993 and res['xrt_exposure'] > 1000]\n",
    "# obs_to_explore"
   ]
  },
  {
   "cell_type": "code",
   "execution_count": 57,
   "id": "34925944-e74c-48df-b875-a30b0111edf8",
   "metadata": {
    "execution": {
     "iopub.execute_input": "2025-05-21T13:25:19.691894Z",
     "iopub.status.busy": "2025-05-21T13:25:19.690965Z",
     "iopub.status.idle": "2025-05-21T13:25:19.898593Z",
     "shell.execute_reply": "2025-05-21T13:25:19.896331Z",
     "shell.execute_reply.started": "2025-05-21T13:25:19.691835Z"
    }
   },
   "outputs": [
    {
     "data": {
      "text/html": [
       "<div><i>Table length=997</i>\n",
       "<table id=\"table140165222853056\" class=\"table-striped table-bordered table-condensed\">\n",
       "<thead><tr><th>__row</th><th>name</th><th>obsid</th><th>ra</th><th>dec</th><th>start_time</th><th>processing_date</th><th>xrt_exposure</th><th>uvot_exposure</th><th>bat_exposure</th><th>archive_date</th><th>af_insaa</th><th>af_inslew</th><th>af_onsource</th><th>af_total</th><th>att_flag</th><th>bat_expo_ev</th><th>bat_expo_mt</th><th>bat_expo_pl</th><th>bat_expo_rt</th><th>bat_expo_sv</th><th>bat_no_masktag</th><th>bii</th><th>cycle</th><th>grb_flag</th><th>lii</th><th>num_processed</th><th>obs_segment</th><th>orig_obs_segment</th><th>orig_obsid</th><th>orig_target_id</th><th>pi</th><th>prnb</th><th>processing_version</th><th>roll_angle</th><th>saa_fraction</th><th>software_version</th><th>stop_time</th><th>target_id</th><th>tdrss_flag</th><th>uvot_expo_bb</th><th>uvot_expo_bl</th><th>uvot_expo_gu</th><th>uvot_expo_gv</th><th>uvot_expo_m2</th><th>uvot_expo_mg</th><th>uvot_expo_uu</th><th>uvot_expo_vv</th><th>uvot_expo_w1</th><th>uvot_expo_w2</th><th>uvot_expo_wh</th><th>xrt_expo_im</th><th>xrt_expo_lr</th><th>xrt_expo_pc</th><th>xrt_expo_pu</th><th>xrt_expo_wt</th><th>Search_Offset</th></tr></thead>\n",
       "<thead><tr><th></th><th></th><th></th><th>deg</th><th>deg</th><th>d</th><th>d</th><th>s</th><th>s</th><th>s</th><th>d</th><th>s</th><th>s</th><th>s</th><th>s</th><th></th><th>s</th><th>s</th><th>s</th><th>s</th><th>s</th><th></th><th>deg</th><th></th><th></th><th>deg</th><th></th><th></th><th></th><th></th><th></th><th></th><th></th><th></th><th>deg</th><th></th><th></th><th>d</th><th></th><th></th><th>s</th><th>s</th><th>s</th><th>s</th><th>s</th><th>s</th><th>s</th><th>s</th><th>s</th><th>s</th><th>s</th><th>s</th><th>s</th><th>s</th><th>s</th><th>s</th><th></th></tr></thead>\n",
       "<thead><tr><th>object</th><th>object</th><th>object</th><th>float64</th><th>float64</th><th>float64</th><th>float64</th><th>float64</th><th>float64</th><th>float64</th><th>int32</th><th>float64</th><th>float64</th><th>float64</th><th>float64</th><th>object</th><th>float64</th><th>float64</th><th>float64</th><th>float64</th><th>float64</th><th>int16</th><th>float64</th><th>int16</th><th>object</th><th>float64</th><th>int16</th><th>int32</th><th>int32</th><th>object</th><th>int32</th><th>object</th><th>int32</th><th>object</th><th>float64</th><th>float64</th><th>object</th><th>float64</th><th>int32</th><th>object</th><th>float64</th><th>float64</th><th>float64</th><th>float64</th><th>float64</th><th>float64</th><th>float64</th><th>float64</th><th>float64</th><th>float64</th><th>float64</th><th>float64</th><th>float64</th><th>float64</th><th>float64</th><th>float64</th><th>float64</th></tr></thead>\n",
       "<tr><td>266998</td><td>OJ287</td><td>00030901053</td><td>133.68364</td><td>20.13617</td><td>55129.7771</td><td>57504.0</td><td>5052.15200</td><td>4957.88600</td><td>5162.00000</td><td>55140</td><td>0.00000</td><td>869.39585</td><td>5079.99543</td><td>5949.39128</td><td>112</td><td>0.00000</td><td>11560.00000</td><td>0.00000</td><td>5966.40000</td><td>5162.00000</td><td>2</td><td>35.81244</td><td>0</td><td>N</td><td>206.77223</td><td>9</td><td>53</td><td>53</td><td>00030901053</td><td>30901</td><td>Swift</td><td>1</td><td>3.17.03</td><td>116.29254</td><td>0.00000</td><td>Hea_27Jul2015_V6.17_Swift_Rel4.5(Bld34)_27Jul2015_SDCpatch_1</td><td>55130.0438</td><td>30901</td><td>N</td><td>343.11300</td><td>0.00000</td><td>0.00000</td><td>0.00000</td><td>947.71700</td><td>0.00000</td><td>431.56400</td><td>343.09100</td><td>1521.29600</td><td>1371.10500</td><td>0.00000</td><td>0.00000</td><td>0.00000</td><td>5052.15200</td><td>0.00000</td><td>0.00000</td><td>2.0059</td></tr>\n",
       "<tr><td>266659</td><td>OJ287</td><td>00030901056</td><td>133.73066</td><td>20.11365</td><td>55153.3938</td><td>57505.0</td><td>5044.75900</td><td>4893.12200</td><td>5142.00000</td><td>55164</td><td>0.00000</td><td>982.20017</td><td>5064.99705</td><td>6047.19722</td><td>112</td><td>0.00000</td><td>11152.00000</td><td>0.00000</td><td>6062.40000</td><td>5142.00000</td><td>3</td><td>35.84652</td><td>0</td><td>N</td><td>206.81662</td><td>8</td><td>56</td><td>56</td><td>00030901056</td><td>30901</td><td>Swift</td><td>1</td><td>3.17.03</td><td>101.41411</td><td>0.00000</td><td>Hea_27Jul2015_V6.17_Swift_Rel4.5(Bld34)_27Jul2015_SDCpatch_1</td><td>55153.9073</td><td>30901</td><td>N</td><td>410.64500</td><td>0.00000</td><td>0.00000</td><td>0.00000</td><td>1191.97500</td><td>0.00000</td><td>410.65600</td><td>410.57900</td><td>822.62600</td><td>1646.64100</td><td>0.00000</td><td>0.00000</td><td>0.00000</td><td>5044.65500</td><td>0.00000</td><td>0.10400</td><td>1.5530</td></tr>\n",
       "<tr><td>266477</td><td>OJ287</td><td>00030901044</td><td>133.68919</td><td>20.10498</td><td>54863.936</td><td>57380.0</td><td>4962.49600</td><td>4807.65100</td><td>5087.00000</td><td>54874</td><td>0.00000</td><td>915.00039</td><td>4989.99555</td><td>5904.99594</td><td>112</td><td>0.00000</td><td>8280.00000</td><td>0.00000</td><td>5924.80000</td><td>5087.00000</td><td>5</td><td>35.80692</td><td>0</td><td>N</td><td>206.81061</td><td>12</td><td>44</td><td>44</td><td>00030901044</td><td>30901</td><td>Swift</td><td>1</td><td>3.17.01</td><td>286.62843</td><td>0.00000</td><td>Hea_27Jul2015_V6.17_Swift_Rel4.5(Bld34)_27Jul2015_SDCpatch_0</td><td>54864.3458</td><td>30901</td><td>N</td><td>527.38500</td><td>0.00000</td><td>0.00000</td><td>0.00000</td><td>98.28100</td><td>0.00000</td><td>527.42900</td><td>484.26800</td><td>1056.35800</td><td>2113.93000</td><td>0.00000</td><td>0.00000</td><td>0.00000</td><td>4938.00100</td><td>0.00000</td><td>24.49500</td><td>0.8416</td></tr>\n",
       "<tr><td>266687</td><td>OJ287</td><td>00030901055</td><td>133.72585</td><td>20.11459</td><td>55133.9993</td><td>57504.0</td><td>4894.21500</td><td>5014.92500</td><td>5182.00000</td><td>55144</td><td>5629.99756</td><td>499.99998</td><td>5129.99758</td><td>5629.99756</td><td>112</td><td>0.00000</td><td>8496.00000</td><td>0.00000</td><td>5640.00000</td><td>5182.00000</td><td>2</td><td>35.84258</td><td>0</td><td>N</td><td>206.81366</td><td>7</td><td>55</td><td>55</td><td>00030901055</td><td>30901</td><td>Swift</td><td>1</td><td>3.17.03</td><td>103.59186</td><td>1.00000</td><td>Hea_27Jul2015_V6.17_Swift_Rel4.5(Bld34)_27Jul2015_SDCpatch_1</td><td>55134.2322</td><td>30901</td><td>N</td><td>422.09700</td><td>0.00000</td><td>0.00000</td><td>0.00000</td><td>1212.31900</td><td>0.00000</td><td>422.19700</td><td>422.09700</td><td>845.10000</td><td>1691.11500</td><td>0.00000</td><td>0.00000</td><td>0.00000</td><td>4894.21500</td><td>0.00000</td><td>0.00000</td><td>1.3033</td></tr>\n",
       "<tr><td>266744</td><td>OJ287</td><td>00030901054</td><td>133.72134</td><td>20.11656</td><td>55132.4514</td><td>57504.0</td><td>4857.28600</td><td>4762.72400</td><td>4928.00000</td><td>55143</td><td>0.00000</td><td>394.60048</td><td>4864.99738</td><td>5259.59786</td><td>112</td><td>0.00000</td><td>8712.00000</td><td>0.00000</td><td>5275.20000</td><td>4928.00000</td><td>2</td><td>35.83924</td><td>0</td><td>N</td><td>206.80962</td><td>6</td><td>54</td><td>54</td><td>00030901054</td><td>30901</td><td>Swift</td><td>1</td><td>3.17.03</td><td>100.19550</td><td>0.00000</td><td>Hea_27Jul2015_V6.17_Swift_Rel4.5(Bld34)_27Jul2015_SDCpatch_1</td><td>55132.6991</td><td>30901</td><td>N</td><td>402.11700</td><td>0.00000</td><td>0.00000</td><td>0.00000</td><td>1140.27400</td><td>0.00000</td><td>402.09500</td><td>402.09500</td><td>805.05000</td><td>1611.09300</td><td>0.00000</td><td>0.00000</td><td>0.00000</td><td>4857.28600</td><td>0.00000</td><td>0.00000</td><td>1.1074</td></tr>\n",
       "<tr><td>266431</td><td>OJ287</td><td>00035011057</td><td>133.67183</td><td>20.10198</td><td>60096.0893</td><td>60106.0</td><td>4311.63900</td><td>4189.10100</td><td>4326.00000</td><td>60107</td><td>0.00000</td><td>760.42686</td><td>4324.97040</td><td>5085.39726</td><td>112</td><td>0.00000</td><td>8248.00000</td><td>0.00000</td><td>5099.20000</td><td>4326.00000</td><td>2</td><td>35.79055</td><td>0</td><td>N</td><td>206.80738</td><td>19</td><td>57</td><td>57</td><td>00035011057</td><td>35011</td><td>Swift</td><td>1</td><td>3.19.01</td><td>294.33462</td><td>0.00000</td><td>Hea_27Jul2015_V6.17_Swift_Rel4.5(Bld34)_27Jul2015_SDCpatch_19</td><td>60096.8568</td><td>35011</td><td>N</td><td>360.87600</td><td>0.00000</td><td>0.00000</td><td>0.00000</td><td>932.80000</td><td>0.00000</td><td>360.85400</td><td>360.87600</td><td>723.82600</td><td>1449.86900</td><td>0.00000</td><td>0.00000</td><td>0.00000</td><td>4311.63900</td><td>0.00000</td><td>0.00000</td><td>1.8349</td></tr>\n",
       "<tr><td>266506</td><td>OJ287</td><td>00030901005</td><td>133.71786</td><td>20.10609</td><td>54396.0458</td><td>57237.0</td><td>4216.16300</td><td>0.00000</td><td>4348.00000</td><td>54407</td><td>0.00000</td><td>538.83667</td><td>4239.95913</td><td>4778.79580</td><td>110</td><td>0.00000</td><td>14440.00000</td><td>5744.00000</td><td>4806.40000</td><td>4348.00000</td><td>3</td><td>35.83266</td><td>0</td><td>N</td><td>206.82044</td><td>11</td><td>5</td><td>5</td><td>00030901005</td><td>30901</td><td>Swift</td><td>1</td><td>3.16.09</td><td>112.77363</td><td>0.00000</td><td>Hea_21Dec2012_V6.13_Swift_Rel4.0(Bld29)_14Dec2012_SDCpatch_15</td><td>54396.9923</td><td>30901</td><td>N</td><td>0.00000</td><td>0.00000</td><td>0.00000</td><td>0.00000</td><td>0.00000</td><td>0.00000</td><td>0.00000</td><td>0.00000</td><td>0.00000</td><td>0.00000</td><td>0.00000</td><td>0.00000</td><td>0.00000</td><td>4216.16300</td><td>0.00000</td><td>0.00000</td><td>0.8138</td></tr>\n",
       "<tr><td>266993</td><td>OJ287</td><td>00035011001</td><td>133.69442</td><td>20.13596</td><td>53510.2688</td><td>56961.0</td><td>3793.15000</td><td>3796.45100</td><td>3958.00000</td><td>53521</td><td>0.00000</td><td>1054.40017</td><td>3864.99543</td><td>4919.39560</td><td>112</td><td>0.00000</td><td>4928.00000</td><td>0.00000</td><td>4942.40000</td><td>3958.00000</td><td>1</td><td>35.82191</td><td>0</td><td>N</td><td>206.77664</td><td>16</td><td>1</td><td>1</td><td>00035011001</td><td>35011</td><td>Swift</td><td>1</td><td>3.16.06</td><td>289.01683</td><td>0.00000</td><td>Hea_21Dec2012_V6.13_Swift_Rel4.0(Bld29)_14Dec2012_SDCpatch_13</td><td>53510.9477</td><td>35011</td><td>N</td><td>0.00000</td><td>0.00000</td><td>0.00000</td><td>0.00000</td><td>222.46800</td><td>0.00000</td><td>0.00000</td><td>238.20100</td><td>31.01400</td><td>3304.76800</td><td>0.00000</td><td>0.00000</td><td>9.50600</td><td>3714.38900</td><td>0.00000</td><td>69.25500</td><td>1.7270</td></tr>\n",
       "<tr><td>266758</td><td>OJ287</td><td>00030901061</td><td>133.69093</td><td>20.11715</td><td>55183.9278</td><td>57510.0</td><td>3359.08300</td><td>3357.71500</td><td>3433.00000</td><td>55194</td><td>537.99934</td><td>572.00050</td><td>3374.99766</td><td>3946.99816</td><td>112</td><td>0.00000</td><td>7872.00000</td><td>3968.00000</td><td>3961.60000</td><td>3433.00000</td><td>2</td><td>35.81253</td><td>0</td><td>N</td><td>206.79716</td><td>7</td><td>61</td><td>61</td><td>00030901061</td><td>30901</td><td>Swift</td><td>1</td><td>3.17.03</td><td>91.64159</td><td>0.10963</td><td>Hea_27Jul2015_V6.17_Swift_Rel4.5(Bld34)_27Jul2015_SDCpatch_1</td><td>55185.0305</td><td>30901</td><td>N</td><td>0.00000</td><td>0.00000</td><td>0.00000</td><td>0.00000</td><td>0.00000</td><td>0.00000</td><td>1991.86100</td><td>0.00000</td><td>1002.01000</td><td>363.84400</td><td>0.00000</td><td>0.00000</td><td>0.00000</td><td>3359.03200</td><td>0.00000</td><td>0.05100</td><td>0.8842</td></tr>\n",
       "<tr><td>...</td><td>...</td><td>...</td><td>...</td><td>...</td><td>...</td><td>...</td><td>...</td><td>...</td><td>...</td><td>...</td><td>...</td><td>...</td><td>...</td><td>...</td><td>...</td><td>...</td><td>...</td><td>...</td><td>...</td><td>...</td><td>...</td><td>...</td><td>...</td><td>...</td><td>...</td><td>...</td><td>...</td><td>...</td><td>...</td><td>...</td><td>...</td><td>...</td><td>...</td><td>...</td><td>...</td><td>...</td><td>...</td><td>...</td><td>...</td><td>...</td><td>...</td><td>...</td><td>...</td><td>...</td><td>...</td><td>...</td><td>...</td><td>...</td><td>...</td><td>...</td><td>...</td><td>...</td><td>...</td><td>...</td><td>...</td><td>...</td></tr>\n",
       "<tr><td>266713</td><td>OJ287</td><td>00030901243</td><td>133.71131</td><td>20.11519</td><td>57702.775</td><td>57712.0</td><td>769.44300</td><td>740.60500</td><td>772.00000</td><td>57713</td><td>837.99934</td><td>68.00004</td><td>769.99930</td><td>837.99934</td><td>112</td><td>0.00000</td><td>1672.00000</td><td>0.00000</td><td>841.60000</td><td>772.00000</td><td>2</td><td>35.82991</td><td>0</td><td>N</td><td>206.80732</td><td>4</td><td>243</td><td>243</td><td>00030901243</td><td>30901</td><td>Swift</td><td>1</td><td>3.17.07</td><td>96.81418</td><td>1.00000</td><td>Hea_27Jul2015_V6.17_Swift_Rel4.5(Bld34)_27Jul2015_SDCpatch_3</td><td>57702.8186</td><td>30901</td><td>N</td><td>61.77300</td><td>0.00000</td><td>0.00000</td><td>0.00000</td><td>185.75000</td><td>0.00000</td><td>61.78400</td><td>61.76200</td><td>122.76300</td><td>246.77300</td><td>0.00000</td><td>0.00000</td><td>0.00000</td><td>0.00000</td><td>0.00000</td><td>769.44300</td><td>0.5890</td></tr>\n",
       "<tr><td>266256</td><td>OJ287</td><td>00033756105</td><td>133.71451</td><td>20.08903</td><td>57763.7854</td><td>57773.0</td><td>924.61900</td><td>896.12700</td><td>927.00000</td><td>57774</td><td>0.00000</td><td>152.79508</td><td>924.99982</td><td>1077.79490</td><td>112</td><td>0.00000</td><td>1080.00000</td><td>0.00000</td><td>1080.00000</td><td>927.00000</td><td>1</td><td>35.82398</td><td>7</td><td>N</td><td>206.83897</td><td>4</td><td>105</td><td>105</td><td>00033756105</td><td>33756</td><td>Edelson</td><td>760150</td><td>3.17.10</td><td>122.78872</td><td>0.00000</td><td>Hea_27Jul2015_V6.17_Swift_Rel4.5(Bld34)_27Jul2015_SDCpatch_3</td><td>57763.8312</td><td>33756</td><td>N</td><td>72.77300</td><td>0.00000</td><td>0.00000</td><td>0.00000</td><td>237.25200</td><td>0.00000</td><td>72.78400</td><td>72.78400</td><td>146.76000</td><td>293.77400</td><td>0.00000</td><td>0.00000</td><td>0.00000</td><td>0.00000</td><td>0.00000</td><td>924.61900</td><td>1.3194</td></tr>\n",
       "<tr><td>266717</td><td>OJ287</td><td>00030901232</td><td>133.72775</td><td>20.11529</td><td>57690.6882</td><td>57700.0</td><td>1059.61800</td><td>1029.20600</td><td>1062.00000</td><td>57701</td><td>0.00000</td><td>137.80000</td><td>1059.99944</td><td>1197.79944</td><td>112</td><td>0.00000</td><td>2400.00000</td><td>0.00000</td><td>1200.00000</td><td>1062.00000</td><td>2</td><td>35.84449</td><td>0</td><td>N</td><td>206.81358</td><td>3</td><td>232</td><td>232</td><td>00030901232</td><td>30901</td><td>Swift</td><td>1</td><td>3.17.07</td><td>96.99153</td><td>0.00000</td><td>Hea_27Jul2015_V6.17_Swift_Rel4.5(Bld34)_27Jul2015_SDCpatch_3</td><td>57690.7348</td><td>30901</td><td>N</td><td>82.76900</td><td>0.00000</td><td>0.00000</td><td>0.00000</td><td>285.33300</td><td>0.00000</td><td>82.78000</td><td>82.78000</td><td>164.76600</td><td>330.77800</td><td>0.00000</td><td>0.00000</td><td>0.00000</td><td>0.00000</td><td>0.00000</td><td>1059.61800</td><td>1.4175</td></tr>\n",
       "<tr><td>266254</td><td>OJ287</td><td>00033756110</td><td>133.74657</td><td>20.08892</td><td>57777.5937</td><td>57787.0</td><td>924.26500</td><td>893.42400</td><td>926.00000</td><td>57788</td><td>0.00000</td><td>94.20002</td><td>924.99942</td><td>1019.19944</td><td>112</td><td>0.00000</td><td>1944.00000</td><td>0.00000</td><td>1020.80000</td><td>926.00000</td><td>2</td><td>35.85233</td><td>7</td><td>N</td><td>206.85153</td><td>4</td><td>110</td><td>110</td><td>00033756110</td><td>33756</td><td>Edelson</td><td>760150</td><td>3.17.10</td><td>76.60160</td><td>0.00000</td><td>Hea_27Jul2015_V6.17_Swift_Rel4.5(Bld34)_27Jul2015_SDCpatch_3</td><td>57777.6388</td><td>33756</td><td>N</td><td>71.78000</td><td>0.00000</td><td>0.00000</td><td>0.00000</td><td>245.53800</td><td>0.00000</td><td>71.78000</td><td>71.76900</td><td>143.77000</td><td>288.78700</td><td>0.00000</td><td>0.00000</td><td>0.00000</td><td>0.00000</td><td>0.00000</td><td>924.26500</td><td>2.6893</td></tr>\n",
       "<tr><td>266725</td><td>OJ287</td><td>00034934050</td><td>133.65136</td><td>20.11556</td><td>57869.2743</td><td>57879.0</td><td>914.06900</td><td>856.80500</td><td>431.00000</td><td>57880</td><td>597.79940</td><td>281.79532</td><td>914.99898</td><td>1196.79430</td><td>112</td><td>0.00000</td><td>600.00000</td><td>0.00000</td><td>600.00000</td><td>431.00000</td><td>1</td><td>35.77699</td><td>12</td><td>N</td><td>206.78367</td><td>5</td><td>50</td><td>50</td><td>00034934050</td><td>34934</td><td>Williams</td><td>12150082</td><td>3.17.11</td><td>292.88574</td><td>0.53005</td><td>Hea_27Jul2015_V6.17_Swift_Rel4.5(Bld34)_27Jul2015_SDCpatch_6</td><td>57869.9798</td><td>34934</td><td>N</td><td>70.53300</td><td>0.00000</td><td>0.00000</td><td>0.00000</td><td>224.12300</td><td>0.00000</td><td>70.55500</td><td>70.55600</td><td>140.53700</td><td>280.50100</td><td>0.00000</td><td>0.00000</td><td>0.00000</td><td>0.00000</td><td>0.00000</td><td>914.06900</td><td>2.9759</td></tr>\n",
       "<tr><td>266731</td><td>OJ287</td><td>00033756096</td><td>133.72962</td><td>20.11594</td><td>57743.9694</td><td>57753.0</td><td>1084.62100</td><td>1058.69700</td><td>1090.00000</td><td>57754</td><td>1135.60040</td><td>50.60090</td><td>1084.99950</td><td>1135.60040</td><td>112</td><td>0.00000</td><td>3312.00000</td><td>0.00000</td><td>1139.20000</td><td>1090.00000</td><td>3</td><td>35.84637</td><td>7</td><td>N</td><td>206.81355</td><td>5</td><td>96</td><td>96</td><td>00033756096</td><td>33756</td><td>Edelson</td><td>760150</td><td>3.17.09</td><td>90.45814</td><td>1.00000</td><td>Hea_27Jul2015_V6.17_Swift_Rel4.5(Bld34)_27Jul2015_SDCpatch_3</td><td>57744.0155</td><td>33756</td><td>N</td><td>86.78500</td><td>0.00000</td><td>0.00000</td><td>0.00000</td><td>278.83500</td><td>0.00000</td><td>86.76300</td><td>86.77400</td><td>172.76400</td><td>346.77600</td><td>0.00000</td><td>0.00000</td><td>0.00000</td><td>0.00000</td><td>0.00000</td><td>1084.62100</td><td>1.5300</td></tr>\n",
       "<tr><td>266244</td><td>OJ287</td><td>00034934019</td><td>133.63684</td><td>20.08806</td><td>57817.9291</td><td>57827.0</td><td>219.67100</td><td>195.16100</td><td>0.00000</td><td>57828</td><td>38.67258</td><td>135.20000</td><td>219.99934</td><td>355.19934</td><td>112</td><td>0.00000</td><td>360.00000</td><td>0.00000</td><td>358.40000</td><td>0.00000</td><td>1</td><td>35.75493</td><td>12</td><td>N</td><td>206.80998</td><td>5</td><td>19</td><td>19</td><td>00034934019</td><td>34934</td><td>Williams</td><td>12150082</td><td>3.17.11</td><td>304.00593</td><td>0.00000</td><td>Hea_27Jul2015_V6.17_Swift_Rel4.5(Bld34)_27Jul2015_SDCpatch_6</td><td>57817.9688</td><td>34934</td><td>N</td><td>15.78800</td><td>0.00000</td><td>0.00000</td><td>0.00000</td><td>55.17600</td><td>0.00000</td><td>15.76600</td><td>15.78800</td><td>30.87000</td><td>61.77300</td><td>0.00000</td><td>0.00000</td><td>0.00000</td><td>0.00000</td><td>0.00000</td><td>219.67100</td><td>3.9593</td></tr>\n",
       "<tr><td>266080</td><td>OJ287</td><td>00034934049</td><td>133.64373</td><td>20.07129</td><td>57867.0819</td><td>57877.0</td><td>959.45400</td><td>932.46900</td><td>963.00000</td><td>57878</td><td>0.00000</td><td>176.99998</td><td>959.99938</td><td>1136.99936</td><td>112</td><td>0.00000</td><td>1136.00000</td><td>0.00000</td><td>1139.20000</td><td>963.00000</td><td>1</td><td>35.75541</td><td>12</td><td>N</td><td>206.83213</td><td>3</td><td>49</td><td>49</td><td>00034934049</td><td>34934</td><td>Williams</td><td>12150082</td><td>3.17.11</td><td>291.45195</td><td>0.00000</td><td>Hea_27Jul2015_V6.17_Swift_Rel4.5(Bld34)_27Jul2015_SDCpatch_6</td><td>57867.1547</td><td>34934</td><td>N</td><td>75.77400</td><td>0.00000</td><td>0.00000</td><td>0.00000</td><td>248.62700</td><td>0.00000</td><td>75.76300</td><td>75.77400</td><td>151.75800</td><td>304.77300</td><td>0.00000</td><td>0.00000</td><td>0.00000</td><td>0.00000</td><td>0.00000</td><td>959.45400</td><td>4.0479</td></tr>\n",
       "<tr><td>266414</td><td>OJ287</td><td>00033756111</td><td>133.70223</td><td>20.10082</td><td>57779.9875</td><td>57789.0</td><td>924.44300</td><td>895.64200</td><td>928.00000</td><td>57790</td><td>1016.79954</td><td>91.80000</td><td>924.99954</td><td>1016.79954</td><td>112</td><td>0.00000</td><td>1960.00000</td><td>0.00000</td><td>1020.80000</td><td>928.00000</td><td>2</td><td>35.81707</td><td>7</td><td>N</td><td>206.82051</td><td>3</td><td>111</td><td>111</td><td>00033756111</td><td>33756</td><td>Edelson</td><td>760150</td><td>3.17.10</td><td>88.81763</td><td>1.00000</td><td>Hea_27Jul2015_V6.17_Swift_Rel4.5(Bld34)_27Jul2015_SDCpatch_3</td><td>57780.0328</td><td>33756</td><td>N</td><td>74.77000</td><td>0.00000</td><td>0.00000</td><td>0.00000</td><td>224.78500</td><td>0.00000</td><td>74.75900</td><td>74.78100</td><td>148.76800</td><td>297.77900</td><td>0.00000</td><td>0.00000</td><td>0.00000</td><td>0.00000</td><td>0.00000</td><td>924.44300</td><td>0.4681</td></tr>\n",
       "</table></div>"
      ],
      "text/plain": [
       "<Table length=997>\n",
       "__row   name     obsid        ra    ... xrt_expo_pu xrt_expo_wt Search_Offset\n",
       "                             deg    ...      s           s                   \n",
       "object object    object    float64  ...   float64     float64      float64   \n",
       "------ ------ ----------- --------- ... ----------- ----------- -------------\n",
       "266998  OJ287 00030901053 133.68364 ...     0.00000     0.00000        2.0059\n",
       "266659  OJ287 00030901056 133.73066 ...     0.00000     0.10400        1.5530\n",
       "266477  OJ287 00030901044 133.68919 ...     0.00000    24.49500        0.8416\n",
       "266687  OJ287 00030901055 133.72585 ...     0.00000     0.00000        1.3033\n",
       "266744  OJ287 00030901054 133.72134 ...     0.00000     0.00000        1.1074\n",
       "266431  OJ287 00035011057 133.67183 ...     0.00000     0.00000        1.8349\n",
       "266506  OJ287 00030901005 133.71786 ...     0.00000     0.00000        0.8138\n",
       "266993  OJ287 00035011001 133.69442 ...     0.00000    69.25500        1.7270\n",
       "266758  OJ287 00030901061 133.69093 ...     0.00000     0.05100        0.8842\n",
       "   ...    ...         ...       ... ...         ...         ...           ...\n",
       "266713  OJ287 00030901243 133.71131 ...     0.00000   769.44300        0.5890\n",
       "266256  OJ287 00033756105 133.71451 ...     0.00000   924.61900        1.3194\n",
       "266717  OJ287 00030901232 133.72775 ...     0.00000  1059.61800        1.4175\n",
       "266254  OJ287 00033756110 133.74657 ...     0.00000   924.26500        2.6893\n",
       "266725  OJ287 00034934050 133.65136 ...     0.00000   914.06900        2.9759\n",
       "266731  OJ287 00033756096 133.72962 ...     0.00000  1084.62100        1.5300\n",
       "266244  OJ287 00034934019 133.63684 ...     0.00000   219.67100        3.9593\n",
       "266080  OJ287 00034934049 133.64373 ...     0.00000   959.45400        4.0479\n",
       "266414  OJ287 00033756111 133.70223 ...     0.00000   924.44300        0.4681"
      ]
     },
     "execution_count": 57,
     "metadata": {},
     "output_type": "execute_result"
    }
   ],
   "source": [
    "sorted_table = table[np.argsort(table['xrt_expo_pc'])[::-1]]\n",
    "sorted_table"
   ]
  },
  {
   "cell_type": "code",
   "execution_count": 58,
   "id": "a54e730b-46ae-4cca-bf4c-d7af2ca713ab",
   "metadata": {
    "execution": {
     "iopub.execute_input": "2025-05-21T13:25:24.121940Z",
     "iopub.status.busy": "2025-05-21T13:25:24.119934Z",
     "iopub.status.idle": "2025-05-21T13:25:24.312958Z",
     "shell.execute_reply": "2025-05-21T13:25:24.310839Z",
     "shell.execute_reply.started": "2025-05-21T13:25:24.121883Z"
    }
   },
   "outputs": [
    {
     "data": {
      "text/plain": [
       "[('266477', 'OJ287', '00030901044', '133.68919', '20.10498', '54863.936', '57380.0', '4962.496', '4807.651', '5087.0', '54874', '0.0', '915.000387042761', '4989.99555292726', '5904.99593997002', '112', '0.0', '8280.0', '0.0', '5924.8', '5087.0', '5', '35.80691847', '0', 'N', '206.81061475', '12', '44', '44', '00030901044', '30901', 'Swift', '1', '3.17.01', '286.62842607863', '0.0', 'Hea_27Jul2015_V6.17_Swift_Rel4.5(Bld34)_27Jul2015_SDCpatch_0', '54864.3458', '30901', 'N', '527.385', '0.0', '0.0', '0.0', '98.281', '0.0', '527.429', '484.268', '1056.358', '2113.93', '0.0', '0.0', '0.0', '4938.001', '0.0', '24.495', '0.8415688209222649'),\n",
       " ('266659', 'OJ287', '00030901056', '133.73066', '20.11365', '55153.3938', '57505.0', '5044.759', '4893.122', '5142.0', '55164', '0.0', '982.200165987015', '5064.99705404043', '6047.19722002745', '112', '0.0', '11152.0', '0.0', '6062.4', '5142.0', '3', '35.84651705', '0', 'N', '206.81661881', '8', '56', '56', '00030901056', '30901', 'Swift', '1', '3.17.03', '101.414111790837', '0.0', 'Hea_27Jul2015_V6.17_Swift_Rel4.5(Bld34)_27Jul2015_SDCpatch_1', '55153.9073', '30901', 'N', '410.645', '0.0', '0.0', '0.0', '1191.975', '0.0', '410.656', '410.579', '822.626', '1646.641', '0.0', '0.0', '0.0', '5044.655', '0.0', '0.104', '1.5530373305945173'),\n",
       " ('266687', 'OJ287', '00030901055', '133.72585', '20.11459', '55133.9993', '57504.0', '4894.215', '5014.925', '5182.0', '55144', '5629.99755996466', '499.999983906746', '5129.99757605791', '5629.99755996466', '112', '0.0', '8496.0', '0.0', '5640.0', '5182.0', '2', '35.8425776', '0', 'N', '206.81366131', '7', '55', '55', '00030901055', '30901', 'Swift', '1', '3.17.03', '103.59185676377', '1.0', 'Hea_27Jul2015_V6.17_Swift_Rel4.5(Bld34)_27Jul2015_SDCpatch_1', '55134.2322', '30901', 'N', '422.097', '0.0', '0.0', '0.0', '1212.319', '0.0', '422.197', '422.097', '845.1', '1691.115', '0.0', '0.0', '0.0', '4894.215', '0.0', '0.0', '1.3033278921196005'),\n",
       " ('266744', 'OJ287', '00030901054', '133.72134', '20.11656', '55132.4514', '57504.0', '4857.286', '4762.724', '4928.0', '55143', '0.0', '394.600483953953', '4864.99737608433', '5259.59786003828', '112', '0.0', '8712.0', '0.0', '5275.2', '4928.0', '2', '35.83923696', '0', 'N', '206.80962217', '6', '54', '54', '00030901054', '30901', 'Swift', '1', '3.17.03', '100.195501099287', '0.0', 'Hea_27Jul2015_V6.17_Swift_Rel4.5(Bld34)_27Jul2015_SDCpatch_1', '55132.6991', '30901', 'N', '402.117', '0.0', '0.0', '0.0', '1140.274', '0.0', '402.095', '402.095', '805.05', '1611.093', '0.0', '0.0', '0.0', '4857.286', '0.0', '0.0', '1.1074068827928014'),\n",
       " ('266998', 'OJ287', '00030901053', '133.68364', '20.13617', '55129.7771', '57504.0', '5052.152', '4957.886', '5162.0', '55140', '0.0', '869.395846068859', '5079.99543386698', '5949.39127993584', '112', '0.0', '11560.0', '0.0', '5966.4', '5162.0', '2', '35.81244061', '0', 'N', '206.7722297', '9', '53', '53', '00030901053', '30901', 'Swift', '1', '3.17.03', '116.292539099009', '0.0', 'Hea_27Jul2015_V6.17_Swift_Rel4.5(Bld34)_27Jul2015_SDCpatch_1', '55130.0438', '30901', 'N', '343.113', '0.0', '0.0', '0.0', '947.717', '0.0', '431.564', '343.091', '1521.296', '1371.105', '0.0', '0.0', '0.0', '5052.152', '0.0', '0.0', '2.0058891023723406')]"
      ]
     },
     "execution_count": 58,
     "metadata": {},
     "output_type": "execute_result"
    }
   ],
   "source": [
    "obs_to_explore = [res for res in search_result if res['xrt_exposure'] > 4800]\n",
    "obs_to_explore"
   ]
  },
  {
   "cell_type": "code",
   "execution_count": 59,
   "id": "6d1d1728-9819-4321-af9c-0dbcab7ad53e",
   "metadata": {
    "execution": {
     "iopub.execute_input": "2025-05-21T13:25:26.787991Z",
     "iopub.status.busy": "2025-05-21T13:25:26.785289Z",
     "iopub.status.idle": "2025-05-21T13:25:26.799082Z",
     "shell.execute_reply": "2025-05-21T13:25:26.796951Z",
     "shell.execute_reply.started": "2025-05-21T13:25:26.787929Z"
    }
   },
   "outputs": [
    {
     "data": {
      "text/plain": [
       "('266998', 'OJ287', '00030901053', '133.68364', '20.13617', '55129.7771', '57504.0', '5052.152', '4957.886', '5162.0', '55140', '0.0', '869.395846068859', '5079.99543386698', '5949.39127993584', '112', '0.0', '11560.0', '0.0', '5966.4', '5162.0', '2', '35.81244061', '0', 'N', '206.7722297', '9', '53', '53', '00030901053', '30901', 'Swift', '1', '3.17.03', '116.292539099009', '0.0', 'Hea_27Jul2015_V6.17_Swift_Rel4.5(Bld34)_27Jul2015_SDCpatch_1', '55130.0438', '30901', 'N', '343.113', '0.0', '0.0', '0.0', '947.717', '0.0', '431.564', '343.091', '1521.296', '1371.105', '0.0', '0.0', '0.0', '5052.152', '0.0', '0.0', '2.0058891023723406')"
      ]
     },
     "execution_count": 59,
     "metadata": {},
     "output_type": "execute_result"
    }
   ],
   "source": [
    "obs = obs_to_explore[-1]\n",
    "obs"
   ]
  },
  {
   "cell_type": "code",
   "execution_count": 68,
   "id": "1e4130de-ca36-4b73-9972-b3efe92b33a8",
   "metadata": {
    "execution": {
     "iopub.execute_input": "2025-05-21T13:26:54.183495Z",
     "iopub.status.busy": "2025-05-21T13:26:54.182584Z",
     "iopub.status.idle": "2025-05-21T13:26:59.519845Z",
     "shell.execute_reply": "2025-05-21T13:26:59.518069Z",
     "shell.execute_reply.started": "2025-05-21T13:26:54.183437Z"
    }
   },
   "outputs": [
    {
     "data": {
      "text/html": [
       "<div><i>Table length=6</i>\n",
       "<table id=\"table140165255267488\" class=\"table-striped table-bordered table-condensed\">\n",
       "<thead><tr><th>ID</th><th>access_url</th><th>content_type</th></tr></thead>\n",
       "<thead><tr><th>object</th><th>object</th><th>object</th></tr></thead>\n",
       "<tr><td>ivo://nasa.heasarc/swiftmastr?00030901055</td><td>https://heasarc.gsfc.nasa.gov/xamin/query?table=swiftxrlog&amp;constraint=obsid=&apos;00030901055&apos;</td><td>text/html</td></tr>\n",
       "<tr><td>ivo://nasa.heasarc/swiftmastr?00030901055</td><td>https://heasarc.gsfc.nasa.gov/xamin/bib?table=swiftmastr&amp;id=30901</td><td>text/html</td></tr>\n",
       "<tr><td>ivo://nasa.heasarc/swiftmastr?00030901055</td><td>https://heasarc.gsfc.nasa.gov/xamin/query?table=swiftuvlog&amp;constraint=obsid=&apos;00030901055&apos;</td><td>text/html</td></tr>\n",
       "<tr><td>ivo://nasa.heasarc/swiftmastr?00030901055</td><td>https://heasarc.gsfc.nasa.gov/xamin/query?table=swiftbalog&amp;constraint=obsid=&apos;00030901055&apos;</td><td>text/html</td></tr>\n",
       "<tr><td>ivo://nasa.heasarc/swiftmastr?00030901055</td><td>https://heasarc.gsfc.nasa.gov/xamin/vo/datalink?datalink_key&amp;id=ivo://nasa.heasarc/swiftmastr?00030901055/swift.obs</td><td>application/x-votable+xml;content=datalink</td></tr>\n",
       "<tr><td>ivo://nasa.heasarc/swiftmastr?00030901055</td><td>https://heasarc.gsfc.nasa.gov/FTP/swift/data/obs/2009_10//00030901055/</td><td>directory</td></tr>\n",
       "</table></div>"
      ],
      "text/plain": [
       "<Table length=6>\n",
       "                    ID                    ...\n",
       "                  object                  ...\n",
       "----------------------------------------- ...\n",
       "ivo://nasa.heasarc/swiftmastr?00030901055 ...\n",
       "ivo://nasa.heasarc/swiftmastr?00030901055 ...\n",
       "ivo://nasa.heasarc/swiftmastr?00030901055 ...\n",
       "ivo://nasa.heasarc/swiftmastr?00030901055 ...\n",
       "ivo://nasa.heasarc/swiftmastr?00030901055 ...\n",
       "ivo://nasa.heasarc/swiftmastr?00030901055 ..."
      ]
     },
     "execution_count": 68,
     "metadata": {},
     "output_type": "execute_result"
    }
   ],
   "source": [
    "obs = obs_to_explore[2]\n",
    "obs\n",
    "dlink = obs.getdatalink()\n",
    "\n",
    "# only 3 summary columns are printed\n",
    "dlink.to_table()[['ID', 'access_url', 'content_type']]"
   ]
  },
  {
   "cell_type": "code",
   "execution_count": 69,
   "id": "5bf0619c-b4fd-448a-bb91-afd95b52973d",
   "metadata": {
    "execution": {
     "iopub.execute_input": "2025-05-21T13:27:05.569582Z",
     "iopub.status.busy": "2025-05-21T13:27:05.568711Z",
     "iopub.status.idle": "2025-05-21T13:27:05.579705Z",
     "shell.execute_reply": "2025-05-21T13:27:05.577804Z",
     "shell.execute_reply.started": "2025-05-21T13:27:05.569528Z"
    }
   },
   "outputs": [],
   "source": [
    "# loop through the observations\n",
    "links = []\n",
    "dlink_to_dir = [dl for dl in dlink if dl['content_type'] == 'directory']\n",
    "link = dlink_to_dir[0]['access_url']\n",
    "links.append(link)"
   ]
  },
  {
   "cell_type": "code",
   "execution_count": 70,
   "id": "3b2c6dd7-256d-4c44-8eea-ad43d81cb205",
   "metadata": {
    "execution": {
     "iopub.execute_input": "2025-05-21T13:27:07.549163Z",
     "iopub.status.busy": "2025-05-21T13:27:07.548157Z",
     "iopub.status.idle": "2025-05-21T13:27:12.369679Z",
     "shell.execute_reply": "2025-05-21T13:27:12.367131Z",
     "shell.execute_reply.started": "2025-05-21T13:27:07.549092Z"
    }
   },
   "outputs": [],
   "source": [
    "on_sciserver = os.environ['HOME'].split('/')[-1] == 'idies'\n",
    "\n",
    "if on_sciserver:\n",
    "    # copy data locally on sciserver\n",
    "    for link in links:\n",
    "        os.system(f\"cp -r /FTP/{link.split('FTP')[1]} .\")\n",
    "\n",
    "else:\n",
    "    # use wget to download the data\n",
    "    wget_cmd = (\"wget -q -nH --no-check-certificate --no-parent --cut-dirs=6 -r -l0 -c -N -np -R 'index*'\"\n",
    "                \" -erobots=off --retr-symlinks {}\")\n",
    "\n",
    "    for link in links:\n",
    "        os.system(wget_cmd.format(link))"
   ]
  }
 ],
 "metadata": {
  "kernelspec": {
   "display_name": "(heasoft)",
   "language": "python",
   "name": "conda-env-heasoft-py"
  },
  "language_info": {
   "codemirror_mode": {
    "name": "ipython",
    "version": 3
   },
   "file_extension": ".py",
   "mimetype": "text/x-python",
   "name": "python",
   "nbconvert_exporter": "python",
   "pygments_lexer": "ipython3",
   "version": "3.12.10"
  }
 },
 "nbformat": 4,
 "nbformat_minor": 5
}

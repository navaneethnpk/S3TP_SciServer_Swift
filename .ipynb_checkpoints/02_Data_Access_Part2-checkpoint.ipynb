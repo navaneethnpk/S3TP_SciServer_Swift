{
 "cells": [
  {
   "cell_type": "markdown",
   "id": "1151403f-ef9f-4fbd-91b9-577b6b9b20d9",
   "metadata": {},
   "source": [
    "This notebook presents a tutorial of how to access HEASARC data using the virtual observatory (VO) python client `pyvo`.  \n",
    "This notebook searches the Swift master catalog numaster using pyvo. We specifically use the conesearch service, which the VO service that allows for searching around a position in the sky."
   ]
  },
  {
   "cell_type": "markdown",
   "id": "7bd004ed-ca43-4ce9-b3ff-a4a234c9432f",
   "metadata": {},
   "source": [
    "## 1. Module Imports"
   ]
  },
  {
   "cell_type": "code",
   "execution_count": 1,
   "id": "fe6bf18f-a89e-4c4b-ad0b-871c6dfb033d",
   "metadata": {
    "execution": {
     "iopub.execute_input": "2025-05-22T13:41:59.560411Z",
     "iopub.status.busy": "2025-05-22T13:41:59.559240Z",
     "iopub.status.idle": "2025-05-22T13:42:02.519885Z",
     "shell.execute_reply": "2025-05-22T13:42:02.517820Z",
     "shell.execute_reply.started": "2025-05-22T13:41:59.560331Z"
    }
   },
   "outputs": [],
   "source": [
    "import os\n",
    "\n",
    "# pyvo for accessing VO services\n",
    "import pyvo\n",
    "\n",
    "# Use SkyCoord to obtain the coordinates of the source\n",
    "from astropy.coordinates import SkyCoord"
   ]
  },
  {
   "cell_type": "markdown",
   "id": "16bb366a-e230-4e22-b00e-cd26778f3105",
   "metadata": {},
   "source": [
    "## 2. Finding and Downloading the data"
   ]
  },
  {
   "cell_type": "markdown",
   "id": "e2194ea1-8a00-48d5-b6af-aba9c672996d",
   "metadata": {},
   "source": [
    "This part assumes we know the ID of the VO service. Generally these are of the form: `ivo://nasa.heasarc/{table_name}`."
   ]
  },
  {
   "cell_type": "markdown",
   "id": "29196b1c-9c44-46a2-9dcf-10210193f492",
   "metadata": {},
   "source": [
    "### 2.1 The Search Serivce  \n",
    "First, we create a cone search service:"
   ]
  },
  {
   "cell_type": "code",
   "execution_count": 2,
   "id": "3449118e-9f43-4098-a04e-38ea390380bc",
   "metadata": {
    "execution": {
     "iopub.execute_input": "2025-05-22T13:45:49.565571Z",
     "iopub.status.busy": "2025-05-22T13:45:49.564306Z",
     "iopub.status.idle": "2025-05-22T13:45:50.230954Z",
     "shell.execute_reply": "2025-05-22T13:45:50.228248Z",
     "shell.execute_reply.started": "2025-05-22T13:45:49.565510Z"
    }
   },
   "outputs": [],
   "source": [
    "# Create a cone-search service\n",
    "st_services = pyvo.regsearch(ivoid='ivo://nasa.heasarc/swiftmastr')[0]\n",
    "cs_service = st_services.get_service('conesearch')"
   ]
  },
  {
   "cell_type": "markdown",
   "id": "c88677e1-d0d4-4253-aec9-709a8731e970",
   "metadata": {},
   "source": [
    "### 2.2 Find the Data  \n",
    "Next, we will use the search function in `cs_service` to search for observations around our source, OJ 287.  \n",
    "The `search` function takes as input, the sky position either as a list of `[RA, DEC]`, or as a an astropy sky coordinate object `SkyCoord`.  \n",
    "The search result is then printed as an astropy Table for a clean display."
   ]
  },
  {
   "cell_type": "code",
   "execution_count": 3,
   "id": "ffce70bb-299f-4f4d-afe4-1700545e1dd1",
   "metadata": {
    "execution": {
     "iopub.execute_input": "2025-05-22T13:47:48.229674Z",
     "iopub.status.busy": "2025-05-22T13:47:48.228540Z",
     "iopub.status.idle": "2025-05-22T13:47:51.526451Z",
     "shell.execute_reply": "2025-05-22T13:47:51.524830Z",
     "shell.execute_reply.started": "2025-05-22T13:47:48.229619Z"
    }
   },
   "outputs": [
    {
     "data": {
      "text/html": [
       "<div><i>Table length=997</i>\n",
       "<table id=\"table140042920259808\" class=\"table-striped table-bordered table-condensed\">\n",
       "<thead><tr><th>__row</th><th>name</th><th>obsid</th><th>ra</th><th>dec</th><th>start_time</th><th>processing_date</th><th>xrt_exposure</th><th>uvot_exposure</th><th>bat_exposure</th><th>archive_date</th><th>Search_Offset</th></tr></thead>\n",
       "<thead><tr><th></th><th></th><th></th><th>deg</th><th>deg</th><th>d</th><th>d</th><th>s</th><th>s</th><th>s</th><th>d</th><th></th></tr></thead>\n",
       "<thead><tr><th>object</th><th>object</th><th>object</th><th>float64</th><th>float64</th><th>float64</th><th>float64</th><th>float64</th><th>float64</th><th>float64</th><th>int32</th><th>float64</th></tr></thead>\n",
       "<tr><td>268142</td><td>OJ287</td><td>00035011087</td><td>133.75616</td><td>19.95937</td><td>60323.8631</td><td>60333.0</td><td>1238.65900</td><td>0.00000</td><td>1244.00000</td><td>60334</td><td>9.4252</td></tr>\n",
       "<tr><td>268149</td><td>OJ287</td><td>00035011086</td><td>133.67751</td><td>19.96148</td><td>60315.5472</td><td>60325.0</td><td>1103.34900</td><td>495.90900</td><td>1117.00000</td><td>60326</td><td>8.9438</td></tr>\n",
       "<tr><td>268224</td><td>saa-cold-158-7</td><td>00067473001</td><td>133.00427</td><td>19.97991</td><td>53528.9007</td><td>56979.0</td><td>90.98200</td><td>0.00000</td><td>201.00000</td><td>53539</td><td>40.1690</td></tr>\n",
       "<tr><td>268252</td><td>saa-cold-164-08</td><td>00075185005</td><td>132.99087</td><td>19.98304</td><td>59146.3824</td><td>59156.0</td><td>0.00000</td><td>0.00000</td><td>315.00000</td><td>59157</td><td>40.8747</td></tr>\n",
       "<tr><td>264506</td><td>saa-cold-165-7</td><td>00069837001</td><td>133.01315</td><td>19.98785</td><td>53900.8868</td><td>57088.0</td><td>423.14100</td><td>0.00000</td><td>272.00000</td><td>53911</td><td>39.5871</td></tr>\n",
       "<tr><td>264521</td><td>saa-cold-144-07</td><td>00075185002</td><td>133.01826</td><td>19.98886</td><td>56801.9236</td><td>58165.0</td><td>85.21500</td><td>0.00000</td><td>168.00000</td><td>56812</td><td>39.2924</td></tr>\n",
       "<tr><td>264569</td><td>saa-cold-163-24</td><td>00069823001</td><td>133.03090</td><td>19.99212</td><td>53898.8771</td><td>57084.0</td><td>339.01000</td><td>0.00000</td><td>293.00000</td><td>53909</td><td>38.5558</td></tr>\n",
       "<tr><td>264597</td><td>saa-cold-147-07</td><td>00076527002</td><td>132.99248</td><td>19.99381</td><td>58630.8851</td><td>58640.0</td><td>185.39400</td><td>0.00000</td><td>426.00000</td><td>58641</td><td>40.6703</td></tr>\n",
       "<tr><td>264614</td><td>saa-cold-127-07</td><td>00076527001</td><td>133.03883</td><td>19.99480</td><td>58610.906</td><td>58620.0</td><td>35.57700</td><td>0.00000</td><td>710.00000</td><td>58621</td><td>38.0869</td></tr>\n",
       "<tr><td>...</td><td>...</td><td>...</td><td>...</td><td>...</td><td>...</td><td>...</td><td>...</td><td>...</td><td>...</td><td>...</td><td>...</td></tr>\n",
       "<tr><td>267099</td><td>OJ287</td><td>00033756094</td><td>133.68714</td><td>20.16850</td><td>57735.9312</td><td>57745.0</td><td>869.62100</td><td>839.46200</td><td>871.00000</td><td>57746</td><td>3.7174</td></tr>\n",
       "<tr><td>267131</td><td>OJ287</td><td>00035905062</td><td>133.69752</td><td>20.17106</td><td>58983.5192</td><td>58993.0</td><td>676.96500</td><td>651.33800</td><td>682.00000</td><td>58994</td><td>3.7686</td></tr>\n",
       "<tr><td>267153</td><td>OJ287</td><td>00033756109</td><td>133.70219</td><td>20.17394</td><td>57775.3423</td><td>57785.0</td><td>984.45700</td><td>954.32600</td><td>987.00000</td><td>57786</td><td>3.9267</td></tr>\n",
       "<tr><td>267209</td><td>OJ287</td><td>00035011083</td><td>133.69165</td><td>20.17861</td><td>60299.6555</td><td>60309.0</td><td>722.09800</td><td>696.08800</td><td>729.00000</td><td>60310</td><td>4.2600</td></tr>\n",
       "<tr><td>267232</td><td>OJ287</td><td>00033756044</td><td>133.64614</td><td>20.18006</td><td>57161.5812</td><td>57171.0</td><td>1020.46600</td><td>995.63400</td><td>1009.00000</td><td>57172</td><td>5.3778</td></tr>\n",
       "<tr><td>267853</td><td>OJ287</td><td>00035905014</td><td>133.68581</td><td>20.21170</td><td>58862.4858</td><td>58872.0</td><td>997.90300</td><td>973.41300</td><td>1004.00000</td><td>58873</td><td>6.2726</td></tr>\n",
       "<tr><td>268530</td><td>J0854.6+2013</td><td>07022024001</td><td>133.64778</td><td>20.22368</td><td>58757.5287</td><td>58767.0</td><td>82.85600</td><td>80.28700</td><td>89.00000</td><td>58768</td><td>7.5929</td></tr>\n",
       "<tr><td>268399</td><td>OJ287</td><td>00030901182</td><td>133.73842</td><td>20.23795</td><td>57386.9069</td><td>57396.0</td><td>774.75100</td><td>0.00000</td><td>782.00000</td><td>57397</td><td>8.0094</td></tr>\n",
       "<tr><td>270004</td><td>CRATESJ0856+2057</td><td>00041546001</td><td>134.16343</td><td>20.96670</td><td>55464.5826</td><td>57607.0</td><td>957.48400</td><td>934.56600</td><td>975.00000</td><td>55475</td><td>57.6083</td></tr>\n",
       "</table></div>"
      ],
      "text/plain": [
       "<Table length=997>\n",
       "__row        name          obsid    ... bat_exposure archive_date Search_Offset\n",
       "                                    ...      s            d                    \n",
       "object      object         object   ...   float64       int32        float64   \n",
       "------ ---------------- ----------- ... ------------ ------------ -------------\n",
       "268142            OJ287 00035011087 ...   1244.00000        60334        9.4252\n",
       "268149            OJ287 00035011086 ...   1117.00000        60326        8.9438\n",
       "268224   saa-cold-158-7 00067473001 ...    201.00000        53539       40.1690\n",
       "268252  saa-cold-164-08 00075185005 ...    315.00000        59157       40.8747\n",
       "264506   saa-cold-165-7 00069837001 ...    272.00000        53911       39.5871\n",
       "264521  saa-cold-144-07 00075185002 ...    168.00000        56812       39.2924\n",
       "264569  saa-cold-163-24 00069823001 ...    293.00000        53909       38.5558\n",
       "264597  saa-cold-147-07 00076527002 ...    426.00000        58641       40.6703\n",
       "264614  saa-cold-127-07 00076527001 ...    710.00000        58621       38.0869\n",
       "   ...              ...         ... ...          ...          ...           ...\n",
       "267099            OJ287 00033756094 ...    871.00000        57746        3.7174\n",
       "267131            OJ287 00035905062 ...    682.00000        58994        3.7686\n",
       "267153            OJ287 00033756109 ...    987.00000        57786        3.9267\n",
       "267209            OJ287 00035011083 ...    729.00000        60310        4.2600\n",
       "267232            OJ287 00033756044 ...   1009.00000        57172        5.3778\n",
       "267853            OJ287 00035905014 ...   1004.00000        58873        6.2726\n",
       "268530     J0854.6+2013 07022024001 ...     89.00000        58768        7.5929\n",
       "268399            OJ287 00030901182 ...    782.00000        57397        8.0094\n",
       "270004 CRATESJ0856+2057 00041546001 ...    975.00000        55475       57.6083"
      ]
     },
     "execution_count": 3,
     "metadata": {},
     "output_type": "execute_result"
    }
   ],
   "source": [
    "# Find the coordinates of the source\n",
    "pos = SkyCoord.from_name('OJ 287')\n",
    "\n",
    "search_result = cs_service.search(pos)\n",
    "\n",
    "# display the result as an astropy table\n",
    "search_result.to_table()"
   ]
  },
  {
   "cell_type": "markdown",
   "id": "af423641-38e3-44b3-b6e4-e988e2776c13",
   "metadata": {},
   "source": [
    "### 2.3 Filter the Results  \n",
    "The search returned all available observations of the source.\n",
    "We can now filter the results by looping through the entries in the table."
   ]
  },
  {
   "cell_type": "code",
   "execution_count": 9,
   "id": "fe686244-72ea-4d96-a1fe-59958fa3f1c8",
   "metadata": {
    "execution": {
     "iopub.execute_input": "2025-05-22T14:39:54.660946Z",
     "iopub.status.busy": "2025-05-22T14:39:54.659922Z",
     "iopub.status.idle": "2025-05-22T14:39:54.715001Z",
     "shell.execute_reply": "2025-05-22T14:39:54.712944Z",
     "shell.execute_reply.started": "2025-05-22T14:39:54.660889Z"
    }
   },
   "outputs": [
    {
     "data": {
      "text/plain": [
       "[('266376', 'OJ287', '00035905082', '133.66639', '20.10676', '59005.3678', '59015.0', '1038.021', '1011.322', '1044.0', '59016', '2.101638965376633')]"
      ]
     },
     "execution_count": 9,
     "metadata": {},
     "output_type": "execute_result"
    }
   ],
   "source": [
    "# obs_to_explore = [res for res in search_result if 58932 <= res['start_time'] <= 58993]\n",
    "# obs_to_explore = [res for res in search_result if res['xrt_exposure'] > 10000]\n",
    "# obs = obs_to_explore[0]\n",
    "\n",
    "obs_to_explore = [res for res in search_result if res['obsid'] == \"00035905082\"]\n",
    "obs_to_explore"
   ]
  },
  {
   "cell_type": "markdown",
   "id": "24bf4d3b-8b8b-4913-b467-afdb10c56479",
   "metadata": {},
   "source": [
    "### 2.4 Find Links for the Data\n",
    "To see what data products are available for these 3 observations, we use the VO's datalinks. A datalink is a way to query data products related to some search result. The results of a datalink call will depend on the specific observation."
   ]
  },
  {
   "cell_type": "code",
   "execution_count": 10,
   "id": "261ffea9-fa97-4786-b27d-583b0de1dc8d",
   "metadata": {
    "execution": {
     "iopub.execute_input": "2025-05-22T14:40:02.647513Z",
     "iopub.status.busy": "2025-05-22T14:40:02.646641Z",
     "iopub.status.idle": "2025-05-22T14:40:05.446457Z",
     "shell.execute_reply": "2025-05-22T14:40:05.444525Z",
     "shell.execute_reply.started": "2025-05-22T14:40:02.647458Z"
    }
   },
   "outputs": [
    {
     "data": {
      "text/html": [
       "<div><i>Table length=6</i>\n",
       "<table id=\"table140042769650592\" class=\"table-striped table-bordered table-condensed\">\n",
       "<thead><tr><th>ID</th><th>access_url</th><th>content_type</th></tr></thead>\n",
       "<thead><tr><th>object</th><th>object</th><th>object</th></tr></thead>\n",
       "<tr><td>ivo://nasa.heasarc/swiftmastr?00035905082</td><td>https://heasarc.gsfc.nasa.gov/xamin/query?table=swiftbalog&amp;constraint=obsid=&apos;00035905082&apos;</td><td>text/html</td></tr>\n",
       "<tr><td>ivo://nasa.heasarc/swiftmastr?00035905082</td><td>https://heasarc.gsfc.nasa.gov/xamin/query?table=swiftuvlog&amp;constraint=obsid=&apos;00035905082&apos;</td><td>text/html</td></tr>\n",
       "<tr><td>ivo://nasa.heasarc/swiftmastr?00035905082</td><td>https://heasarc.gsfc.nasa.gov/xamin/bib?table=swiftmastr&amp;id=35905</td><td>text/html</td></tr>\n",
       "<tr><td>ivo://nasa.heasarc/swiftmastr?00035905082</td><td>https://heasarc.gsfc.nasa.gov/xamin/query?table=swiftxrlog&amp;constraint=obsid=&apos;00035905082&apos;</td><td>text/html</td></tr>\n",
       "<tr><td>ivo://nasa.heasarc/swiftmastr?00035905082</td><td>https://heasarc.gsfc.nasa.gov/xamin/vo/datalink?datalink_key&amp;id=ivo://nasa.heasarc/swiftmastr?00035905082/swift.obs</td><td>application/x-votable+xml;content=datalink</td></tr>\n",
       "<tr><td>ivo://nasa.heasarc/swiftmastr?00035905082</td><td>https://heasarc.gsfc.nasa.gov/FTP/swift/data/obs/2020_06//00035905082/</td><td>directory</td></tr>\n",
       "</table></div>"
      ],
      "text/plain": [
       "<Table length=6>\n",
       "                    ID                    ...\n",
       "                  object                  ...\n",
       "----------------------------------------- ...\n",
       "ivo://nasa.heasarc/swiftmastr?00035905082 ...\n",
       "ivo://nasa.heasarc/swiftmastr?00035905082 ...\n",
       "ivo://nasa.heasarc/swiftmastr?00035905082 ...\n",
       "ivo://nasa.heasarc/swiftmastr?00035905082 ...\n",
       "ivo://nasa.heasarc/swiftmastr?00035905082 ...\n",
       "ivo://nasa.heasarc/swiftmastr?00035905082 ..."
      ]
     },
     "execution_count": 10,
     "metadata": {},
     "output_type": "execute_result"
    }
   ],
   "source": [
    "obs = obs_to_explore[0]\n",
    "dlink = obs.getdatalink()\n",
    "\n",
    "# only 3 summary columns are printed\n",
    "dlink.to_table()[['ID', 'access_url', 'content_type']]"
   ]
  },
  {
   "cell_type": "markdown",
   "id": "0b86858c-c8e9-4b10-9b16-b2c875cacad2",
   "metadata": {},
   "source": [
    "### 2.5 Filter the Links\n",
    "From the `content_type` column, we see that one is a `directory` containing the observation files. The `access_url` column gives the direct url to the data (The other two include another datalink service for house keeping data, and a document to list publications related to the selected observation).\n",
    "\n",
    "Note that an empty datalink product indicates that no public data is available for that observation, likely because it is in proprietary mode."
   ]
  },
  {
   "cell_type": "code",
   "execution_count": 11,
   "id": "6efacf69-dcca-4f01-a1a1-1ed86d8ef3ea",
   "metadata": {
    "execution": {
     "iopub.execute_input": "2025-05-22T14:45:24.138370Z",
     "iopub.status.busy": "2025-05-22T14:45:24.137089Z",
     "iopub.status.idle": "2025-05-22T14:45:24.161301Z",
     "shell.execute_reply": "2025-05-22T14:45:24.159021Z",
     "shell.execute_reply.started": "2025-05-22T14:45:24.138307Z"
    }
   },
   "outputs": [],
   "source": [
    "dlink_to_dir = [dl for dl in dlink if dl['content_type'] == 'directory']\n",
    "link = dlink_to_dir[0]['access_url']"
   ]
  },
  {
   "cell_type": "markdown",
   "id": "ac8d5d40-3b9d-4561-8a3d-9c9ca9d390bb",
   "metadata": {
    "execution": {
     "iopub.execute_input": "2025-05-22T14:45:46.936811Z",
     "iopub.status.busy": "2025-05-22T14:45:46.935942Z",
     "iopub.status.idle": "2025-05-22T14:45:46.945700Z",
     "shell.execute_reply": "2025-05-22T14:45:46.943751Z",
     "shell.execute_reply.started": "2025-05-22T14:45:46.936749Z"
    }
   },
   "source": [
    "### 2.6 Download the Data\n",
    "On Sciserver, all the data is available locally under `/FTP/`, so all we need is to use the link text after `FTP` and copy them to the current directory.\n",
    "\n",
    "If this is run ourside Sciserver, we can download the data directories using `wget` (or `curl`). [Learn more](https://swift.gsfc.nasa.gov/archive/archive_start.html)"
   ]
  },
  {
   "cell_type": "code",
   "execution_count": 15,
   "id": "654639d4-47fd-4e60-8167-0832f16a1bf4",
   "metadata": {
    "execution": {
     "iopub.execute_input": "2025-05-22T14:50:19.079085Z",
     "iopub.status.busy": "2025-05-22T14:50:19.078309Z",
     "iopub.status.idle": "2025-05-22T14:50:22.808760Z",
     "shell.execute_reply": "2025-05-22T14:50:22.806549Z",
     "shell.execute_reply.started": "2025-05-22T14:50:19.079033Z"
    }
   },
   "outputs": [
    {
     "data": {
      "text/plain": [
       "0"
      ]
     },
     "execution_count": 15,
     "metadata": {},
     "output_type": "execute_result"
    }
   ],
   "source": [
    "# copy data locally on sciserver\n",
    "os.system(f\"cp -r /FTP/{link.split('FTP')[1]} .\")"
   ]
  },
  {
   "cell_type": "code",
   "execution_count": 16,
   "id": "b8d25a35-3aeb-4486-817f-acf2abb1527b",
   "metadata": {
    "execution": {
     "iopub.execute_input": "2025-05-22T14:50:59.772516Z",
     "iopub.status.busy": "2025-05-22T14:50:59.770542Z",
     "iopub.status.idle": "2025-05-22T14:50:59.785874Z",
     "shell.execute_reply": "2025-05-22T14:50:59.783548Z",
     "shell.execute_reply.started": "2025-05-22T14:50:59.772463Z"
    }
   },
   "outputs": [
    {
     "data": {
      "text/plain": [
       "\"wget -nH --no-check-certificate --cut-dirs=5 -r -w1 -l0 -c -N -np -R 'index*' -erobots=off --retr-symlinks https://heasarc.gsfc.nasa.gov/FTP/swift/data/obs/2020_06//00035905082/\""
      ]
     },
     "execution_count": 16,
     "metadata": {},
     "output_type": "execute_result"
    }
   ],
   "source": [
    "# use wget to download the data\n",
    "wget_cmd = (\"wget -nH --no-check-certificate --cut-dirs=5 -r -w1 -l0 -c -N -np -R 'index*' -erobots=off --retr-symlinks {}\")\n",
    "# os.system(wget_cmd.format(link))\n",
    "wget_cmd.format(link)"
   ]
  },
  {
   "cell_type": "code",
   "execution_count": null,
   "id": "421932ad-fca5-4eab-8b9e-b51ade4d7425",
   "metadata": {},
   "outputs": [],
   "source": []
  }
 ],
 "metadata": {
  "kernelspec": {
   "display_name": "(heasoft)",
   "language": "python",
   "name": "conda-env-heasoft-py"
  },
  "language_info": {
   "codemirror_mode": {
    "name": "ipython",
    "version": 3
   },
   "file_extension": ".py",
   "mimetype": "text/x-python",
   "name": "python",
   "nbconvert_exporter": "python",
   "pygments_lexer": "ipython3",
   "version": "3.12.10"
  }
 },
 "nbformat": 4,
 "nbformat_minor": 5
}

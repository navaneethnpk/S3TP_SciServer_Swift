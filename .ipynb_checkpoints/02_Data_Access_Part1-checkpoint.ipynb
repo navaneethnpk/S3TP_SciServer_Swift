{
 "cells": [
  {
   "cell_type": "markdown",
   "id": "2bf54557-6250-4365-97e3-f23307285f89",
   "metadata": {},
   "source": [
    "## Methods for Accessing HEASARC Data  \n",
    "In this notebook, we will explore various methods to access and download data from the HEASARC (High Energy Astrophysics Science Archive Research Center) archive. While our focus will be on Swift satellite data, the approaches demonstrated here can be applied to data from any HEASARC-hosted mission. The methods covered in this notebook are adapted from the [sciserver_cookbooks](https://github.com/HEASARC/sciserver_cookbooks) GitHub repository.  \n",
    "\n",
    "#### 1. Online Access via Swift Master Catalog\n",
    "The Swift Master Catalog is a web-based interface that allows users to browse and download Swift mission data. It provides a user-friendly way to search for observations, view metadata, and download datasets directly through the HEASARC website. This method is ideal for quick, manual queries or exploring the data interactively.  \n",
    "Access the [Swift Master Catalog](https://heasarc.gsfc.nasa.gov/w3browse/swift/swiftmastr.html)\n",
    "\n",
    "#### 2. HEASARC TAP Service (Table Access Protocol)\n",
    "\n",
    "The TAP service is a standardized Virtual Observatory protocol that enables programmatic access to astronomical catalogs and data tables. Through TAP, users can execute SQL-like queries to retrieve data from the HEASARC archives in a flexible and automated manner. This is particularly useful for large-scale data mining, batch queries, or integrating HEASARC data access into software pipelines.  \n",
    "Learn more: [TAP Service](https://www.ivoa.net/documents/TAP/20190626/PR-TAP-1.1-20190626.html), [HEASARC API](https://heasarc.gsfc.nasa.gov/docs/archive/apis.html)\n",
    "\n",
    "#### 3. Xamin's API\n",
    "Xamin is an advanced query and data mining tool provided by HEASARC that supports complex data searches and cross-matching across multiple catalogs. Its API allows users to submit queries programmatically and retrieve data in various formats. Xamin’s capabilities make it a powerful resource for in-depth data exploration and multi-wavelength studies.  \n",
    "Access the [Xamin](https://heasarc.gsfc.nasa.gov/xamin/)"
   ]
  },
  {
   "cell_type": "markdown",
   "id": "7b921216-c36e-47e1-93be-9b845d553c51",
   "metadata": {},
   "source": [
    "## Module Imports"
   ]
  },
  {
   "cell_type": "markdown",
   "id": "28a30a55-e971-48b3-a331-06a9512327ba",
   "metadata": {
    "execution": {
     "iopub.execute_input": "2025-05-22T10:03:38.664378Z",
     "iopub.status.busy": "2025-05-22T10:03:38.661249Z",
     "iopub.status.idle": "2025-05-22T10:03:38.691422Z",
     "shell.execute_reply": "2025-05-22T10:03:38.688546Z",
     "shell.execute_reply.started": "2025-05-22T10:03:38.664268Z"
    }
   },
   "source": [
    "Standard Library Modules:\n",
    "- **`sys`**: Commonly used for handling command-line arguments, exiting programs, and interacting with the Python runtime environment.\n",
    "- **`os`**: Offers a way to interact with the operating system. Useful for file and directory manipulation, accessing environment variables, and constructing portable file paths.\n",
    "- **`glob`**: Enables Unix-style pathname pattern matching (e.g., `*.fits`). Often used to find all files in a directory that match a specific pattern.\n",
    "\n",
    "Non-Standard Modules:\n",
    "\n",
    "> These modules are not part of the Python Standard Library and must be installed separately (e.g., using `pip install pyvo astropy numpy pandas`).\n",
    "- **`pyvo`**: A client library for accessing Virtual Observatory (VO) services such as TAP, SIAP, and others. Ideal for querying astronomical catalogs programmatically using IVOA standards. [Learn more](https://pyvo.readthedocs.io/en/latest/)\n",
    "- **`astropy`**: A comprehensive library for astronomy and astrophysics. Includes utilities for celestial coordinate transformations (`SkyCoord`), FITS file handling, time conversions, and more. [Learn more](https://www.astropy.org/)\n",
    "- **`numpy`**: A core library for numerical computing in Python. Provides powerful tools for array operations, linear algebra, mathematical functions, and statistical analysis. [Learn more](https://numpy.org/)\n",
    "- **`pandas`**: A powerful data analysis and manipulation library. Offers data structures like `DataFrame` for handling tabular data, making it ideal for data wrangling and exploration. [Learn more](https://pandas.pydata.org/)"
   ]
  },
  {
   "cell_type": "code",
   "execution_count": 3,
   "id": "999720ae-4867-42d5-a279-1c2d6838af28",
   "metadata": {
    "execution": {
     "iopub.execute_input": "2025-05-22T10:32:01.924605Z",
     "iopub.status.busy": "2025-05-22T10:32:01.913349Z",
     "iopub.status.idle": "2025-05-22T10:32:01.954776Z",
     "shell.execute_reply": "2025-05-22T10:32:01.952358Z",
     "shell.execute_reply.started": "2025-05-22T10:32:01.924501Z"
    }
   },
   "outputs": [],
   "source": [
    "import sys\n",
    "import os\n",
    "import glob\n",
    "\n",
    "import pyvo\n",
    "import requests\n",
    "from astropy.coordinates import SkyCoord\n",
    "from astropy.table import Table\n",
    "\n",
    "import numpy as np\n",
    "import pandas as pd"
   ]
  },
  {
   "cell_type": "markdown",
   "id": "41b38465-bf03-4011-a858-1053c5672b9a",
   "metadata": {
    "execution": {
     "iopub.execute_input": "2025-05-22T13:37:32.736827Z",
     "iopub.status.busy": "2025-05-22T13:37:32.735424Z",
     "iopub.status.idle": "2025-05-22T13:37:32.753182Z",
     "shell.execute_reply": "2025-05-22T13:37:32.750100Z",
     "shell.execute_reply.started": "2025-05-22T13:37:32.736691Z"
    }
   },
   "source": [
    "## 1. Swift Master Catalog  \n",
    "Link: https://heasarc.gsfc.nasa.gov/w3browse/swift/swiftmastr.html"
   ]
  },
  {
   "cell_type": "markdown",
   "id": "d50dbf33-871f-4de4-a5b4-7cbf7455972a",
   "metadata": {
    "execution": {
     "iopub.execute_input": "2025-05-20T14:44:04.477916Z",
     "iopub.status.busy": "2025-05-20T14:44:04.475972Z",
     "iopub.status.idle": "2025-05-20T14:44:04.486525Z",
     "shell.execute_reply": "2025-05-20T14:44:04.484938Z",
     "shell.execute_reply.started": "2025-05-20T14:44:04.477854Z"
    }
   },
   "source": [
    "## 2. HEASARC TAP service"
   ]
  },
  {
   "cell_type": "markdown",
   "id": "3511f583-8d07-4eb8-81c5-fac997cef876",
   "metadata": {},
   "source": [
    "We can use the Virtual Observatory interfaces to the HEASARC to find the data we're interested in. Specifically, we want to look at the observation tables. So first we get a list of all the tables HEASARC serves and then look for the ones related to Swift."
   ]
  },
  {
   "cell_type": "markdown",
   "id": "31a2caec-d834-469e-85aa-cfaf95deb9bd",
   "metadata": {
    "execution": {
     "iopub.execute_input": "2025-05-22T10:40:54.032196Z",
     "iopub.status.busy": "2025-05-22T10:40:54.030902Z",
     "iopub.status.idle": "2025-05-22T10:40:54.054244Z",
     "shell.execute_reply": "2025-05-22T10:40:54.051582Z",
     "shell.execute_reply.started": "2025-05-22T10:40:54.032123Z"
    }
   },
   "source": [
    "### 2.1.Find the Tables\n",
    "We begin by querying the Virtual Observatory (VO) service registry. HEASARC provides a TAP service that connects to the same backend used by the Xamin web interface. This means it accesses the same underlying database used in HEASARC's online catalog."
   ]
  },
  {
   "cell_type": "code",
   "execution_count": 5,
   "id": "1b351cb7-732e-407d-91a5-03b80d580383",
   "metadata": {
    "execution": {
     "iopub.execute_input": "2025-05-22T10:47:43.979034Z",
     "iopub.status.busy": "2025-05-22T10:47:43.967512Z",
     "iopub.status.idle": "2025-05-22T10:47:44.945586Z",
     "shell.execute_reply": "2025-05-22T10:47:44.943497Z",
     "shell.execute_reply.started": "2025-05-22T10:47:43.978887Z"
    }
   },
   "outputs": [],
   "source": [
    "tap_services = pyvo.regsearch(servicetype='tap', keywords=['heasarc'])"
   ]
  },
  {
   "cell_type": "markdown",
   "id": "47c079b5-6441-437e-b69a-6dc959fe9301",
   "metadata": {},
   "source": [
    "Next, we query the first TAP service we found to retrieve a list of all the tables it offers at HEASARC."
   ]
  },
  {
   "cell_type": "code",
   "execution_count": 6,
   "id": "c361809b-9d02-42df-a4fc-51593465deb9",
   "metadata": {
    "execution": {
     "iopub.execute_input": "2025-05-22T10:48:42.919880Z",
     "iopub.status.busy": "2025-05-22T10:48:42.918928Z",
     "iopub.status.idle": "2025-05-22T10:49:00.892422Z",
     "shell.execute_reply": "2025-05-22T10:49:00.889573Z",
     "shell.execute_reply.started": "2025-05-22T10:48:42.919814Z"
    }
   },
   "outputs": [],
   "source": [
    "heasarc_tables = tap_services[0].service.tables"
   ]
  },
  {
   "cell_type": "markdown",
   "id": "c50f4172-51ef-4f8d-bf0b-39b20d0cd7b5",
   "metadata": {},
   "source": [
    "The HEASARC service contains many tables. Here, we want to list only those tables related to the Swift mission."
   ]
  },
  {
   "cell_type": "code",
   "execution_count": 11,
   "id": "e3d0da17-b0ec-4203-b548-af8c7b1542c7",
   "metadata": {
    "execution": {
     "iopub.execute_input": "2025-05-22T10:58:36.493598Z",
     "iopub.status.busy": "2025-05-22T10:58:36.492692Z",
     "iopub.status.idle": "2025-05-22T10:58:36.527661Z",
     "shell.execute_reply": "2025-05-22T10:58:36.525196Z",
     "shell.execute_reply.started": "2025-05-22T10:58:36.493542Z"
    }
   },
   "outputs": [
    {
     "name": "stdout",
     "output_type": "stream",
     "text": [
      " swift2sxps           Swift-XRT Point Source Catalog (2SXPS)\n",
      " swiftbalog           Swift BAT Instrument Log\n",
      " swiftft              Swift Serendipitous Survey in Deep XRT GRB Fields (SwiftFT)\n",
      " swiftgrb             Swift Gamma Ray Bursts Catalog\n",
      " swiftgrbba           Swift Gamma Ray Burst Compilation by Burst Advocate\n",
      " swiftguano           Swift Gamma-ray Urgent Archiver for Novel Opportunities (GUANO)\n",
      " swiftmastr           Swift Master Catalog\n",
      " swifttdrss           Swift TDRSS Messages\n",
      " swiftuvlog           Swift UVOT Instrument Log\n",
      " swiftxrlog           Swift XRT Instrument Log\n"
     ]
    }
   ],
   "source": [
    "for tablename in heasarc_tables.keys():\n",
    "    if \"swift\" in tablename:\n",
    "        print(\" {:20s} {}\".format(tablename, heasarc_tables[tablename].description))"
   ]
  },
  {
   "cell_type": "markdown",
   "id": "55859ad5-3c34-40cb-b871-8e64bc59ffdd",
   "metadata": {
    "execution": {
     "iopub.execute_input": "2025-05-22T11:00:23.142488Z",
     "iopub.status.busy": "2025-05-22T11:00:23.141432Z",
     "iopub.status.idle": "2025-05-22T11:00:23.169312Z",
     "shell.execute_reply": "2025-05-22T11:00:23.166618Z",
     "shell.execute_reply.started": "2025-05-22T11:00:23.142420Z"
    }
   },
   "source": [
    "Viewing Columns in the Swift Master Catalog Table: This code lists all the columns in the swiftmastr table along with their descriptions, giving an overview of the available data fields."
   ]
  },
  {
   "cell_type": "code",
   "execution_count": 13,
   "id": "d7598c33-b64a-4eb4-8095-3f3d13c18fb3",
   "metadata": {
    "execution": {
     "iopub.execute_input": "2025-05-22T11:00:30.943840Z",
     "iopub.status.busy": "2025-05-22T11:00:30.942890Z",
     "iopub.status.idle": "2025-05-22T11:00:30.977754Z",
     "shell.execute_reply": "2025-05-22T11:00:30.975837Z",
     "shell.execute_reply.started": "2025-05-22T11:00:30.943780Z"
    }
   },
   "outputs": [
    {
     "name": "stdout",
     "output_type": "stream",
     "text": [
      "\"__y_ra_dec\"         System unit vector column\n",
      "xrt_expo_lr          Effective Exposure on Source of Low Rate XRT Mode\n",
      "target_id            Unique Trigger Number with Any Degeneracy Removed\n",
      "bat_expo_sv          Effective Exposure BAT Survey Mode\n",
      "cycle                Proposal Cycle Number\n",
      "uvot_expo_m2         Effective Exposure on Source of UVOT Filter UVM2\n",
      "att_flag             Attitude Flag\n",
      "xrt_exposure         Effective Exposure on Source Considering All XRT Modes\n",
      "uvot_expo_mg         Effective Exposure on Source of UVOT Filter Magnifier\n",
      "uvot_expo_wh         Effective Exposure on Source of UVOT Filter WHITE\n",
      "lii                  Galactic Longitude (Pointing Position)\n",
      "start_time           Start Time of the Observation\n",
      "uvot_expo_bb         Effective Exposure on Source of UVOT Filter B\n",
      "roll_angle           Roll Angle (degree)\n",
      "af_insaa             Time in SAA Per Sequence, According to the As-Flown Timeline (s)\n",
      "orig_obsid           Observation Number as Originally Assigned (Orig_Target_ID + Orig_Obs_Segment)\n",
      "bat_no_masktag       Number of Sources with Mask-Tag Rate within This Observation\n",
      "dec                  Declination (Pointing Position)\n",
      "xrt_expo_pu          Effective Exposure on Source of Piled-up XRT Mode\n",
      "ra                   Right Ascension (Pointing Position)\n",
      "uvot_expo_w2         Effective Exposure on Source of UVOT Filter UVW2\n",
      "tdrss_flag           Flag Indicates TDRSS Message Exists\n",
      "uvot_exposure        Effective Exposure on Source Considering All UVOT Filters and Modes\n",
      "processing_version   Version of Processing Script\n",
      "bat_expo_ev          Effective Exposure BAT Event Mode\n",
      "\"__z_ra_dec\"         System unit vector column\n",
      "software_version     Software Version Used in the Pipeline\n",
      "\"__row\"              System index column\n",
      "orig_obs_segment     Observation Segment as Originally Assigned\n",
      "\"pi\"                 Principal Investigator Last Name\n",
      "\"__x_ra_dec\"         System unit vector column\n",
      "bat_expo_rt          Effective Exposure BAT Rate Mode\n",
      "name                 Designation of the Pointed Source\n",
      "num_processed        Number of Times Sequence Has Been Processed\n",
      "stop_time            Stop Time of the Observation\n",
      "prnb                 Proposal Number\n",
      "obsid                Unique Observation Number (Target_ID + Obs_Segment)\n",
      "af_onsource          Time on Source Per Sequence, According to the As-Flown Timeline (s)\n",
      "bat_expo_pl          Effective Exposure BAT Pulsar Mode\n",
      "uvot_expo_gv         Effective Exposure on Source of UVOT Filter VGRISM\n",
      "archive_date         Public Date\n",
      "uvot_expo_vv         Effective Exposure on Source of UVOT Filter V\n",
      "af_inslew            Time in Slew Per Sequence, According to the As-Flown Timeline (s)\n",
      "uvot_expo_gu         Effective Exposure on Source of UVOT Filter UGRISM\n",
      "af_total             Total Time Per Sequence, According to the As-Flown Timeline (s)\n",
      "xrt_expo_pc          Effective Exposure on Source of Photon Counting XRT Mode\n",
      "grb_flag             Flag Indicates Gamma-Ray Burst\n",
      "processing_date      Date of Processing\n",
      "bat_exposure         Effective Exposure on Source Considering All BAT Event and Survey Modes\n",
      "saa_fraction         Fraction of Observation Spent in the South Atlantic Anomaly (SAA)\n",
      "uvot_expo_uu         Effective Exposure on Source of UVOT Filter U\n",
      "obs_segment          True Observation Segment (Corrected Value)\n",
      "bat_expo_mt          Effective Exposure BAT Mask-Tag Mode\n",
      "xrt_expo_wt          Effective Exposure on Source of Windowed Timing XRT Mode\n",
      "orig_target_id       Trigger Number as Originally Assigned\n",
      "bii                  Galactic Latitude (Pointing Position)\n",
      "xrt_expo_im          Effective Exposure on Source of Image Modes\n",
      "uvot_expo_bl         Effective Exposure of UVOT Blocked Filter\n",
      "uvot_expo_w1         Effective Exposure on Source of UVOT Filter UVW1\n"
     ]
    }
   ],
   "source": [
    "for column in heasarc_tables['swiftmastr'].columns:\n",
    "    print(\"{:20s} {}\".format(column.name, column.description))"
   ]
  },
  {
   "cell_type": "markdown",
   "id": "a2f0df6f-85d8-4278-9983-308b60c3edc6",
   "metadata": {},
   "source": [
    "### 2.2. Build a Search Query\n",
    "Querying Swift Master Catalog for Observations of OJ 287:  \n",
    "First, we get the sky coordinates of the object OJ 287 using its name. Then, we construct an ADQL query to retrieve relevant observation data from the `swiftmastr` table. This query retrieves observation details from the Swift Master Catalog for sources located within 0.1 degrees of OJ 287 that have positive XRT exposure times, sorted by the observation start time.\n",
    "\n",
    "**ADQL**: ADQL (Astronomical Data Query Language) is a SQL-like language specifically designed for querying astronomical databases and Virtual Observatory services, enabling complex spatial and temporal queries on celestial data.  \n",
    "See the [NAVO website](https://heasarc.gsfc.nasa.gov/vo/summary/python.html) for more information on how to use these services with python and how to construct [ADQL](https://www.ivoa.net/documents/ADQL/20180112/PR-ADQL-2.1-20180112.html) queries for catalog searches. You can also find more detailed on using these services in the [NASA Virtual Observatory workshop tutorials (NAVO)](https://nasa-navo.github.io/navo-workshop/)."
   ]
  },
  {
   "cell_type": "code",
   "execution_count": 14,
   "id": "de0036dc-33d9-4b41-9c01-93a10ab2b45b",
   "metadata": {
    "execution": {
     "iopub.execute_input": "2025-05-22T11:06:52.737619Z",
     "iopub.status.busy": "2025-05-22T11:06:52.736317Z",
     "iopub.status.idle": "2025-05-22T11:06:52.858659Z",
     "shell.execute_reply": "2025-05-22T11:06:52.856909Z",
     "shell.execute_reply.started": "2025-05-22T11:06:52.737550Z"
    }
   },
   "outputs": [],
   "source": [
    "# Get the coordinate for OJ 287\n",
    "pos = SkyCoord.from_name(\"OJ 287\")\n",
    "\n",
    "query = \"\"\"SELECT name, obsid, ra, dec, start_time, processing_date, xrt_exposure, uvot_exposure, bat_exposure, archive_date, target_id, xrt_expo_wt, xrt_expo_pc, uvot_expo_uu, uvot_expo_bb, uvot_expo_vv, uvot_expo_w1, uvot_expo_w2, uvot_expo_m2 \n",
    "    FROM public.swiftmastr as cat \n",
    "    where \n",
    "    contains(point('ICRS',cat.ra,cat.dec),circle('ICRS',{},{},0.1))=1 \n",
    "    and \n",
    "    cat.xrt_exposure > 0 order by cat.start_time\n",
    "    \"\"\".format(pos.ra.deg, pos.dec.deg)"
   ]
  },
  {
   "cell_type": "code",
   "execution_count": 33,
   "id": "1a15c5ae-307f-4eff-8524-248c0b4e9aad",
   "metadata": {
    "execution": {
     "iopub.execute_input": "2025-05-22T11:32:49.006414Z",
     "iopub.status.busy": "2025-05-22T11:32:49.005469Z",
     "iopub.status.idle": "2025-05-22T11:32:50.836648Z",
     "shell.execute_reply": "2025-05-22T11:32:50.835015Z",
     "shell.execute_reply.started": "2025-05-22T11:32:49.006358Z"
    }
   },
   "outputs": [
    {
     "data": {
      "text/html": [
       "<div><i>Table length=972</i>\n",
       "<table id=\"table140389436213488\" class=\"table-striped table-bordered table-condensed\">\n",
       "<thead><tr><th>name</th><th>obsid</th><th>ra</th><th>dec</th><th>start_time</th><th>processing_date</th><th>xrt_exposure</th><th>uvot_exposure</th><th>bat_exposure</th><th>archive_date</th><th>target_id</th><th>xrt_expo_wt</th><th>xrt_expo_pc</th><th>uvot_expo_uu</th><th>uvot_expo_bb</th><th>uvot_expo_vv</th><th>uvot_expo_w1</th><th>uvot_expo_w2</th><th>uvot_expo_m2</th></tr></thead>\n",
       "<thead><tr><th></th><th></th><th>deg</th><th>deg</th><th>d</th><th>d</th><th>s</th><th>s</th><th>s</th><th>d</th><th></th><th>s</th><th>s</th><th>s</th><th>s</th><th>s</th><th>s</th><th>s</th><th>s</th></tr></thead>\n",
       "<thead><tr><th>object</th><th>object</th><th>float64</th><th>float64</th><th>float64</th><th>float64</th><th>float64</th><th>float64</th><th>float64</th><th>int32</th><th>int32</th><th>float64</th><th>float64</th><th>float64</th><th>float64</th><th>float64</th><th>float64</th><th>float64</th><th>float64</th></tr></thead>\n",
       "<tr><td>OJ287</td><td>00035011001</td><td>133.69442</td><td>20.13596</td><td>53510.2687731481</td><td>56961.0</td><td>3793.15000</td><td>3796.45100</td><td>3958.00000</td><td>53521</td><td>35011</td><td>69.25500</td><td>3714.38900</td><td>0.00000</td><td>0.00000</td><td>238.20100</td><td>31.01400</td><td>3304.76800</td><td>222.46800</td></tr>\n",
       "<tr><td>OJ287</td><td>00035011002</td><td>133.69491</td><td>20.11982</td><td>53516.5069560185</td><td>56961.0</td><td>131.41200</td><td>2786.06600</td><td>2959.00000</td><td>53527</td><td>35011</td><td>77.63800</td><td>52.44200</td><td>238.06800</td><td>170.66800</td><td>238.06800</td><td>475.06700</td><td>950.07800</td><td>714.11700</td></tr>\n",
       "<tr><td>OJ287</td><td>00035011003</td><td>133.68470</td><td>20.09330</td><td>53528.5652893518</td><td>56979.0</td><td>1256.68700</td><td>0.00000</td><td>0.00000</td><td>53539</td><td>35011</td><td>3.04500</td><td>1253.64200</td><td>0.00000</td><td>0.00000</td><td>0.00000</td><td>0.00000</td><td>0.00000</td><td>0.00000</td></tr>\n",
       "<tr><td>OJ287</td><td>00035905001</td><td>133.73301</td><td>20.10491</td><td>54055.6730555556</td><td>57180.0</td><td>1995.27700</td><td>1979.07000</td><td>2012.00000</td><td>54066</td><td>35905</td><td>1.97200</td><td>1993.30500</td><td>0.00000</td><td>0.00000</td><td>0.00000</td><td>275.52600</td><td>851.77200</td><td>851.77200</td></tr>\n",
       "<tr><td>OJ287</td><td>00035905002</td><td>133.66860</td><td>20.12275</td><td>54056.0145949074</td><td>57178.0</td><td>2374.77700</td><td>2693.83800</td><td>2879.00000</td><td>54067</td><td>35905</td><td>35.51300</td><td>2339.26400</td><td>229.09700</td><td>229.10600</td><td>229.10600</td><td>459.04200</td><td>920.13100</td><td>627.35600</td></tr>\n",
       "<tr><td>OJ287</td><td>00035905003</td><td>133.72354</td><td>20.12954</td><td>54057.7507060185</td><td>57180.0</td><td>3176.70300</td><td>3210.54200</td><td>3326.00000</td><td>54068</td><td>35905</td><td>17.52500</td><td>3159.17800</td><td>0.00000</td><td>0.00000</td><td>0.00000</td><td>996.45200</td><td>1107.10400</td><td>1106.98600</td></tr>\n",
       "<tr><td>OJ287</td><td>00030901001</td><td>133.70688</td><td>20.11405</td><td>54165.1368171296</td><td>57192.0</td><td>2678.01900</td><td>2579.34300</td><td>2761.00000</td><td>54176</td><td>30901</td><td>16.42100</td><td>2661.59800</td><td>222.12600</td><td>222.10400</td><td>222.09300</td><td>444.07500</td><td>890.10300</td><td>578.84200</td></tr>\n",
       "<tr><td>OJ287</td><td>00030901002</td><td>133.69812</td><td>20.14249</td><td>54169.0416782407</td><td>57191.0</td><td>2017.08200</td><td>1923.52400</td><td>2068.00000</td><td>54180</td><td>30901</td><td>7.86900</td><td>2009.21300</td><td>168.09800</td><td>168.10900</td><td>168.07500</td><td>337.04500</td><td>671.07700</td><td>411.12000</td></tr>\n",
       "<tr><td>OJ287</td><td>00030901003</td><td>133.69688</td><td>20.11187</td><td>54177.7336458333</td><td>57195.0</td><td>127.85800</td><td>123.72300</td><td>158.00000</td><td>54188</td><td>30901</td><td>10.51200</td><td>117.34600</td><td>0.00000</td><td>0.00000</td><td>0.00000</td><td>123.72300</td><td>0.00000</td><td>0.00000</td></tr>\n",
       "<tr><td>...</td><td>...</td><td>...</td><td>...</td><td>...</td><td>...</td><td>...</td><td>...</td><td>...</td><td>...</td><td>...</td><td>...</td><td>...</td><td>...</td><td>...</td><td>...</td><td>...</td><td>...</td><td>...</td></tr>\n",
       "<tr><td>OJ287</td><td>00035011158</td><td>133.68606</td><td>20.08909</td><td>60763.7069097222</td><td>60773.0</td><td>1326.43800</td><td>1300.32700</td><td>1332.00000</td><td>60774</td><td>35011</td><td>0.07300</td><td>1326.36500</td><td>110.77000</td><td>110.77000</td><td>110.74800</td><td>221.77300</td><td>442.78400</td><td>303.48200</td></tr>\n",
       "<tr><td>OJ287</td><td>00035011159</td><td>133.67285</td><td>20.09591</td><td>60767.0895486111</td><td>60777.0</td><td>1195.79500</td><td>1145.90000</td><td>1208.00000</td><td>60778</td><td>35011</td><td>0.16000</td><td>1195.63500</td><td>97.56400</td><td>97.55300</td><td>97.56400</td><td>195.51400</td><td>391.55800</td><td>266.14700</td></tr>\n",
       "<tr><td>OJ287</td><td>00035011160</td><td>133.68900</td><td>20.08812</td><td>60770.1471875</td><td>60780.0</td><td>255.73700</td><td>250.28200</td><td>263.00000</td><td>60781</td><td>35011</td><td>0.00000</td><td>255.73700</td><td>48.51200</td><td>0.00000</td><td>0.00000</td><td>201.77000</td><td>0.00000</td><td>0.00000</td></tr>\n",
       "<tr><td>OJ287</td><td>00035011161</td><td>133.67248</td><td>20.10424</td><td>60775.6159259259</td><td>60785.0</td><td>586.70200</td><td>570.08100</td><td>595.00000</td><td>60786</td><td>35011</td><td>0.00000</td><td>586.70200</td><td>116.78300</td><td>116.77200</td><td>0.00000</td><td>233.76500</td><td>102.76100</td><td>0.00000</td></tr>\n",
       "<tr><td>OJ287</td><td>00035011162</td><td>133.68363</td><td>20.09487</td><td>60779.1284027778</td><td>60789.0</td><td>1333.88600</td><td>1307.31400</td><td>1339.00000</td><td>60790</td><td>35011</td><td>0.00000</td><td>1333.88600</td><td>109.77800</td><td>109.77800</td><td>109.77800</td><td>219.77600</td><td>439.77200</td><td>318.43200</td></tr>\n",
       "<tr><td>OJ287</td><td>00035011163</td><td>133.68566</td><td>20.10150</td><td>60783.9478703704</td><td>60793.0</td><td>1366.47200</td><td>1347.07500</td><td>1375.00000</td><td>60794</td><td>35011</td><td>0.00000</td><td>1366.47200</td><td>112.37000</td><td>114.77500</td><td>114.78600</td><td>228.76800</td><td>458.72700</td><td>317.64900</td></tr>\n",
       "<tr><td>OJ287</td><td>00035011164</td><td>133.67742</td><td>20.09652</td><td>60787.9784375</td><td>60797.0</td><td>300.86900</td><td>291.08100</td><td>307.00000</td><td>60798</td><td>35011</td><td>0.00000</td><td>300.86900</td><td>86.77400</td><td>30.53900</td><td>0.00000</td><td>173.76800</td><td>0.00000</td><td>0.00000</td></tr>\n",
       "<tr><td>OJ287</td><td>00035011165</td><td>133.68367</td><td>20.09999</td><td>60791.0395486111</td><td>60801.0</td><td>1637.30600</td><td>1600.45700</td><td>1650.00000</td><td>60802</td><td>35011</td><td>0.04300</td><td>1637.26300</td><td>177.55300</td><td>171.41800</td><td>112.77800</td><td>356.52900</td><td>452.78000</td><td>329.39900</td></tr>\n",
       "<tr><td>OJ287</td><td>00035011166</td><td>133.67131</td><td>20.10199</td><td>60795.9680208333</td><td>60805.0</td><td>814.86700</td><td>1392.43000</td><td>1425.00000</td><td>60806</td><td>35011</td><td>0.00000</td><td>814.86700</td><td>118.76900</td><td>118.78000</td><td>118.78000</td><td>237.75900</td><td>475.76200</td><td>322.58000</td></tr>\n",
       "</table></div>"
      ],
      "text/plain": [
       "<Table length=972>\n",
       " name     obsid        ra      dec    ... uvot_expo_w1 uvot_expo_w2 uvot_expo_m2\n",
       "                      deg      deg    ...      s            s            s      \n",
       "object    object    float64  float64  ...   float64      float64      float64   \n",
       "------ ----------- --------- -------- ... ------------ ------------ ------------\n",
       " OJ287 00035011001 133.69442 20.13596 ...     31.01400   3304.76800    222.46800\n",
       " OJ287 00035011002 133.69491 20.11982 ...    475.06700    950.07800    714.11700\n",
       " OJ287 00035011003 133.68470 20.09330 ...      0.00000      0.00000      0.00000\n",
       " OJ287 00035905001 133.73301 20.10491 ...    275.52600    851.77200    851.77200\n",
       " OJ287 00035905002 133.66860 20.12275 ...    459.04200    920.13100    627.35600\n",
       " OJ287 00035905003 133.72354 20.12954 ...    996.45200   1107.10400   1106.98600\n",
       " OJ287 00030901001 133.70688 20.11405 ...    444.07500    890.10300    578.84200\n",
       " OJ287 00030901002 133.69812 20.14249 ...    337.04500    671.07700    411.12000\n",
       " OJ287 00030901003 133.69688 20.11187 ...    123.72300      0.00000      0.00000\n",
       "   ...         ...       ...      ... ...          ...          ...          ...\n",
       " OJ287 00035011158 133.68606 20.08909 ...    221.77300    442.78400    303.48200\n",
       " OJ287 00035011159 133.67285 20.09591 ...    195.51400    391.55800    266.14700\n",
       " OJ287 00035011160 133.68900 20.08812 ...    201.77000      0.00000      0.00000\n",
       " OJ287 00035011161 133.67248 20.10424 ...    233.76500    102.76100      0.00000\n",
       " OJ287 00035011162 133.68363 20.09487 ...    219.77600    439.77200    318.43200\n",
       " OJ287 00035011163 133.68566 20.10150 ...    228.76800    458.72700    317.64900\n",
       " OJ287 00035011164 133.67742 20.09652 ...    173.76800      0.00000      0.00000\n",
       " OJ287 00035011165 133.68367 20.09999 ...    356.52900    452.78000    329.39900\n",
       " OJ287 00035011166 133.67131 20.10199 ...    237.75900    475.76200    322.58000"
      ]
     },
     "execution_count": 33,
     "metadata": {},
     "output_type": "execute_result"
    }
   ],
   "source": [
    "results = tap_services[0].search(query).to_table()\n",
    "results"
   ]
  },
  {
   "cell_type": "code",
   "execution_count": 1,
   "id": "1e95ddaf-84c4-4a22-8aeb-a98de252cdc2",
   "metadata": {
    "execution": {
     "iopub.execute_input": "2025-05-22T13:53:31.336151Z",
     "iopub.status.busy": "2025-05-22T13:53:31.334779Z",
     "iopub.status.idle": "2025-05-22T13:53:32.085845Z",
     "shell.execute_reply": "2025-05-22T13:53:32.082918Z",
     "shell.execute_reply.started": "2025-05-22T13:53:31.336073Z"
    }
   },
   "outputs": [
    {
     "ename": "NameError",
     "evalue": "name 'results' is not defined",
     "output_type": "error",
     "traceback": [
      "\u001b[31m---------------------------------------------------------------------------\u001b[39m",
      "\u001b[31mNameError\u001b[39m                                 Traceback (most recent call last)",
      "\u001b[36mCell\u001b[39m\u001b[36m \u001b[39m\u001b[32mIn[1]\u001b[39m\u001b[32m, line 1\u001b[39m\n\u001b[32m----> \u001b[39m\u001b[32m1\u001b[39m obsid_row = \u001b[43mresults\u001b[49m[results[\u001b[33m'\u001b[39m\u001b[33mobsid\u001b[39m\u001b[33m'\u001b[39m] == \u001b[33m\"\u001b[39m\u001b[33m00035011001\u001b[39m\u001b[33m\"\u001b[39m]\n\u001b[32m      2\u001b[39m obsid_row\n",
      "\u001b[31mNameError\u001b[39m: name 'results' is not defined"
     ]
    }
   ],
   "source": [
    "obsid_row = results[results['obsid'] == \"00035011001\"]\n",
    "obsid_row"
   ]
  },
  {
   "cell_type": "code",
   "execution_count": null,
   "id": "f9ede7b5-b8b6-4e2f-86d6-2ca5cad3dfc5",
   "metadata": {},
   "outputs": [],
   "source": []
  },
  {
   "cell_type": "markdown",
   "id": "cb667134-e8dd-47b2-9e2c-606d0b279c8c",
   "metadata": {},
   "source": [
    "## 3. Xamin's API"
   ]
  },
  {
   "cell_type": "markdown",
   "id": "af4ab1b0-83c8-4216-9bb4-a6a51c3fda9a",
   "metadata": {},
   "source": [
    "An alternative method to access the data is to use the Xamin API specifically. [Xamin](https://heasarc.gsfc.nasa.gov/xamin/) is the main web portal for accessing HEASARC data, and it offers an API that can be used to query the same tables.  \n",
    "The base URL (`https://heasarc.gsfc.nasa.gov/xamin/QueryServlet?`) for the Xamin query servelet is, which will be queries using the `requests` module.  "
   ]
  },
  {
   "cell_type": "code",
   "execution_count": 31,
   "id": "225dc4e0-588c-471f-92a2-5ab3046e7b7b",
   "metadata": {
    "execution": {
     "iopub.execute_input": "2025-05-22T11:27:08.222891Z",
     "iopub.status.busy": "2025-05-22T11:27:08.220539Z",
     "iopub.status.idle": "2025-05-22T11:27:09.833244Z",
     "shell.execute_reply": "2025-05-22T11:27:09.830934Z",
     "shell.execute_reply.started": "2025-05-22T11:27:08.222833Z"
    }
   },
   "outputs": [],
   "source": [
    "url = \"https://heasarc.gsfc.nasa.gov/xamin/QueryServlet?products&\"\n",
    "params = {\"table\": \"swiftmastr\",\n",
    "        \"object\": \"OJ 287\",\n",
    "        \"resultmax\": \"1000\"}\n",
    "\n",
    "result = requests.get(url, params)\n",
    "# result.text.split('\\n')[0:2]"
   ]
  },
  {
   "cell_type": "markdown",
   "id": "e0d7d68d-2650-4cda-8b32-f1f4c38c9db9",
   "metadata": {},
   "source": [
    "The raw text is converted into a clean pandas DataFrame."
   ]
  },
  {
   "cell_type": "code",
   "execution_count": 36,
   "id": "e3566127-ee1b-416a-80c2-a6683b851ab3",
   "metadata": {
    "execution": {
     "iopub.execute_input": "2025-05-22T13:22:49.270247Z",
     "iopub.status.busy": "2025-05-22T13:22:49.262602Z",
     "iopub.status.idle": "2025-05-22T13:22:49.512704Z",
     "shell.execute_reply": "2025-05-22T13:22:49.510605Z",
     "shell.execute_reply.started": "2025-05-22T13:22:49.270126Z"
    }
   },
   "outputs": [
    {
     "name": "stdout",
     "output_type": "stream",
     "text": [
      "                                                name        obsid  \\\n",
      "0                                     saa-cold-103-0  00074481018   \n",
      "1  >  query?table=swiftbalog&constraint=obsid='00...  00074481018   \n",
      "2  >  query?table=swiftxrlog&constraint=obsid='00...  00074481018   \n",
      "3        >  /FTP/swift/data/obs/2007_07/00074481018/  00074481018   \n",
      "4                                     saa-cold-103-0  00074481008   \n",
      "5  >  query?table=swiftbalog&constraint=obsid='00...  00074481008   \n",
      "6  >  query?table=swiftxrlog&constraint=obsid='00...  00074481008   \n",
      "7        >  /FTP/swift/data/obs/2007_02/00074481008/  00074481008   \n",
      "8                                     saa-cold-103-0  00074481007   \n",
      "9  >  query?table=swiftbalog&constraint=obsid='00...  00074481007   \n",
      "\n",
      "            ra          dec           start_time      processing_date  \\\n",
      "0  20 50 12.19  -89 59 26.2  2007-07-08T03:43:01  2015-07-16T00:00:00   \n",
      "1         None         None                 None                 None   \n",
      "2         None         None                 None                 None   \n",
      "3         None         None                 None                 None   \n",
      "4  00 09 15.23  -89 59 16.4  2007-02-18T05:11:01  2015-06-18T00:00:00   \n",
      "5         None         None                 None                 None   \n",
      "6         None         None                 None                 None   \n",
      "7         None         None                 None                 None   \n",
      "8  00 25 24.71  -89 59 06.1  2007-01-11T00:52:01  2015-06-19T00:00:00   \n",
      "9         None         None                 None                 None   \n",
      "\n",
      "  xrt_exposure uvot_exposure bat_exposure archive_date  ...  \\\n",
      "0    247.11000       0.00000    490.00000   2007-07-19  ...   \n",
      "1         None          None         None         None  ...   \n",
      "2         None          None         None         None  ...   \n",
      "3         None          None         None         None  ...   \n",
      "4    224.00700       0.00000    389.00000   2007-03-01  ...   \n",
      "5         None          None         None         None  ...   \n",
      "6         None          None         None         None  ...   \n",
      "7         None          None         None         None  ...   \n",
      "8    240.15500       0.00000    384.00000   2007-01-22  ...   \n",
      "9         None          None         None         None  ...   \n",
      "\n",
      "  __w_swiftmastr_link_swiftuvlog             __p_swiftmastr_swift_obs_root  \\\n",
      "0                          false  /FTP/swift/data/obs/2007_07/00074481018/   \n",
      "1                           None                                      None   \n",
      "2                           None                                      None   \n",
      "3                           None                                      None   \n",
      "4                          false  /FTP/swift/data/obs/2007_02/00074481008/   \n",
      "5                           None                                      None   \n",
      "6                           None                                      None   \n",
      "7                           None                                      None   \n",
      "8                          false  /FTP/swift/data/obs/2007_01/00074481007/   \n",
      "9                           None                                      None   \n",
      "\n",
      "  __p_swiftmastr_swift_obs_uvot_filter __p_swiftmastr_link_swiftxrlog_obsid  \\\n",
      "0                                   u*                          00074481018   \n",
      "1                                 None                                 None   \n",
      "2                                 None                                 None   \n",
      "3                                 None                                 None   \n",
      "4                                   u*                          00074481008   \n",
      "5                                 None                                 None   \n",
      "6                                 None                                 None   \n",
      "7                                 None                                 None   \n",
      "8                                   u*                          00074481007   \n",
      "9                                 None                                 None   \n",
      "\n",
      "  __p_swiftmastr_link_swiftbalog_obsid  \\\n",
      "0                          00074481018   \n",
      "1                                 None   \n",
      "2                                 None   \n",
      "3                                 None   \n",
      "4                          00074481008   \n",
      "5                                 None   \n",
      "6                                 None   \n",
      "7                                 None   \n",
      "8                          00074481007   \n",
      "9                                 None   \n",
      "\n",
      "  __p_swiftmastr_link_swifttdrss_target_id __w_swiftmastr_link_swifttdrss  \\\n",
      "0                                    74481                          false   \n",
      "1                                     None                           None   \n",
      "2                                     None                           None   \n",
      "3                                     None                           None   \n",
      "4                                    74481                          false   \n",
      "5                                     None                           None   \n",
      "6                                     None                           None   \n",
      "7                                     None                           None   \n",
      "8                                    74481                          false   \n",
      "9                                     None                           None   \n",
      "\n",
      "  __p_swiftmastr_point_bib_table __p_swiftmastr_point_bib_id  \\\n",
      "0                     swiftmastr                       74481   \n",
      "1                           None                        None   \n",
      "2                           None                        None   \n",
      "3                           None                        None   \n",
      "4                     swiftmastr                       74481   \n",
      "5                           None                        None   \n",
      "6                           None                        None   \n",
      "7                           None                        None   \n",
      "8                     swiftmastr                       74481   \n",
      "9                           None                        None   \n",
      "\n",
      "  __w_swiftmastr_point_bib  \n",
      "0                    false  \n",
      "1                     None  \n",
      "2                     None  \n",
      "3                     None  \n",
      "4                    false  \n",
      "5                     None  \n",
      "6                     None  \n",
      "7                     None  \n",
      "8                    false  \n",
      "9                     None  \n",
      "\n",
      "[10 rows x 22 columns]\n"
     ]
    }
   ],
   "source": [
    "lines = result.text.split('\\n')\n",
    "data_lines = [line for line in lines if line.strip() and not line.startswith('#')]\n",
    "header = data_lines[0].split('|')\n",
    "rows = [line.split('|') for line in data_lines[1:]]\n",
    "df = pd.DataFrame(rows, columns=header)\n",
    "df.columns = df.columns.str.strip()\n",
    "df = df.apply(lambda col: col.str.strip() if col.dtype == \"object\" else col)\n",
    "df['obsid'] = df['obsid'].ffill()\n",
    "print(df.head(10))"
   ]
  },
  {
   "cell_type": "code",
   "execution_count": 46,
   "id": "5198df76-fd73-4c41-90e4-7c42e083dc95",
   "metadata": {
    "execution": {
     "iopub.execute_input": "2025-05-22T13:30:01.445606Z",
     "iopub.status.busy": "2025-05-22T13:30:01.444473Z",
     "iopub.status.idle": "2025-05-22T13:30:01.523608Z",
     "shell.execute_reply": "2025-05-22T13:30:01.521579Z",
     "shell.execute_reply.started": "2025-05-22T13:30:01.445523Z"
    }
   },
   "outputs": [
    {
     "data": {
      "text/html": [
       "<div>\n",
       "<style scoped>\n",
       "    .dataframe tbody tr th:only-of-type {\n",
       "        vertical-align: middle;\n",
       "    }\n",
       "\n",
       "    .dataframe tbody tr th {\n",
       "        vertical-align: top;\n",
       "    }\n",
       "\n",
       "    .dataframe thead th {\n",
       "        text-align: right;\n",
       "    }\n",
       "</style>\n",
       "<table border=\"1\" class=\"dataframe\">\n",
       "  <thead>\n",
       "    <tr style=\"text-align: right;\">\n",
       "      <th></th>\n",
       "      <th>name</th>\n",
       "      <th>obsid</th>\n",
       "      <th>ra</th>\n",
       "      <th>dec</th>\n",
       "      <th>start_time</th>\n",
       "      <th>processing_date</th>\n",
       "      <th>xrt_exposure</th>\n",
       "      <th>uvot_exposure</th>\n",
       "      <th>bat_exposure</th>\n",
       "      <th>archive_date</th>\n",
       "      <th>...</th>\n",
       "      <th>__w_swiftmastr_link_swiftuvlog</th>\n",
       "      <th>__p_swiftmastr_swift_obs_root</th>\n",
       "      <th>__p_swiftmastr_swift_obs_uvot_filter</th>\n",
       "      <th>__p_swiftmastr_link_swiftxrlog_obsid</th>\n",
       "      <th>__p_swiftmastr_link_swiftbalog_obsid</th>\n",
       "      <th>__p_swiftmastr_link_swifttdrss_target_id</th>\n",
       "      <th>__w_swiftmastr_link_swifttdrss</th>\n",
       "      <th>__p_swiftmastr_point_bib_table</th>\n",
       "      <th>__p_swiftmastr_point_bib_id</th>\n",
       "      <th>__w_swiftmastr_point_bib</th>\n",
       "    </tr>\n",
       "  </thead>\n",
       "  <tbody>\n",
       "    <tr>\n",
       "      <th>0</th>\n",
       "      <td>saa-cold-103-0</td>\n",
       "      <td>00074481018</td>\n",
       "      <td>20 50 12.19</td>\n",
       "      <td>-89 59 26.2</td>\n",
       "      <td>2007-07-08T03:43:01</td>\n",
       "      <td>2015-07-16T00:00:00</td>\n",
       "      <td>247.11000</td>\n",
       "      <td>0.00000</td>\n",
       "      <td>490.00000</td>\n",
       "      <td>2007-07-19</td>\n",
       "      <td>...</td>\n",
       "      <td>false</td>\n",
       "      <td>/FTP/swift/data/obs/2007_07/00074481018/</td>\n",
       "      <td>u*</td>\n",
       "      <td>00074481018</td>\n",
       "      <td>00074481018</td>\n",
       "      <td>74481</td>\n",
       "      <td>false</td>\n",
       "      <td>swiftmastr</td>\n",
       "      <td>74481</td>\n",
       "      <td>false</td>\n",
       "    </tr>\n",
       "    <tr>\n",
       "      <th>1</th>\n",
       "      <td>&gt;  query?table=swiftbalog&amp;constraint=obsid='00...</td>\n",
       "      <td>00074481018</td>\n",
       "      <td>None</td>\n",
       "      <td>None</td>\n",
       "      <td>None</td>\n",
       "      <td>None</td>\n",
       "      <td>None</td>\n",
       "      <td>None</td>\n",
       "      <td>None</td>\n",
       "      <td>None</td>\n",
       "      <td>...</td>\n",
       "      <td>None</td>\n",
       "      <td>None</td>\n",
       "      <td>None</td>\n",
       "      <td>None</td>\n",
       "      <td>None</td>\n",
       "      <td>None</td>\n",
       "      <td>None</td>\n",
       "      <td>None</td>\n",
       "      <td>None</td>\n",
       "      <td>None</td>\n",
       "    </tr>\n",
       "    <tr>\n",
       "      <th>2</th>\n",
       "      <td>&gt;  query?table=swiftxrlog&amp;constraint=obsid='00...</td>\n",
       "      <td>00074481018</td>\n",
       "      <td>None</td>\n",
       "      <td>None</td>\n",
       "      <td>None</td>\n",
       "      <td>None</td>\n",
       "      <td>None</td>\n",
       "      <td>None</td>\n",
       "      <td>None</td>\n",
       "      <td>None</td>\n",
       "      <td>...</td>\n",
       "      <td>None</td>\n",
       "      <td>None</td>\n",
       "      <td>None</td>\n",
       "      <td>None</td>\n",
       "      <td>None</td>\n",
       "      <td>None</td>\n",
       "      <td>None</td>\n",
       "      <td>None</td>\n",
       "      <td>None</td>\n",
       "      <td>None</td>\n",
       "    </tr>\n",
       "    <tr>\n",
       "      <th>3</th>\n",
       "      <td>&gt;  /FTP/swift/data/obs/2007_07/00074481018/</td>\n",
       "      <td>00074481018</td>\n",
       "      <td>None</td>\n",
       "      <td>None</td>\n",
       "      <td>None</td>\n",
       "      <td>None</td>\n",
       "      <td>None</td>\n",
       "      <td>None</td>\n",
       "      <td>None</td>\n",
       "      <td>None</td>\n",
       "      <td>...</td>\n",
       "      <td>None</td>\n",
       "      <td>None</td>\n",
       "      <td>None</td>\n",
       "      <td>None</td>\n",
       "      <td>None</td>\n",
       "      <td>None</td>\n",
       "      <td>None</td>\n",
       "      <td>None</td>\n",
       "      <td>None</td>\n",
       "      <td>None</td>\n",
       "    </tr>\n",
       "  </tbody>\n",
       "</table>\n",
       "<p>4 rows × 22 columns</p>\n",
       "</div>"
      ],
      "text/plain": [
       "                                                name        obsid  \\\n",
       "0                                     saa-cold-103-0  00074481018   \n",
       "1  >  query?table=swiftbalog&constraint=obsid='00...  00074481018   \n",
       "2  >  query?table=swiftxrlog&constraint=obsid='00...  00074481018   \n",
       "3        >  /FTP/swift/data/obs/2007_07/00074481018/  00074481018   \n",
       "\n",
       "            ra          dec           start_time      processing_date  \\\n",
       "0  20 50 12.19  -89 59 26.2  2007-07-08T03:43:01  2015-07-16T00:00:00   \n",
       "1         None         None                 None                 None   \n",
       "2         None         None                 None                 None   \n",
       "3         None         None                 None                 None   \n",
       "\n",
       "  xrt_exposure uvot_exposure bat_exposure archive_date  ...  \\\n",
       "0    247.11000       0.00000    490.00000   2007-07-19  ...   \n",
       "1         None          None         None         None  ...   \n",
       "2         None          None         None         None  ...   \n",
       "3         None          None         None         None  ...   \n",
       "\n",
       "  __w_swiftmastr_link_swiftuvlog             __p_swiftmastr_swift_obs_root  \\\n",
       "0                          false  /FTP/swift/data/obs/2007_07/00074481018/   \n",
       "1                           None                                      None   \n",
       "2                           None                                      None   \n",
       "3                           None                                      None   \n",
       "\n",
       "  __p_swiftmastr_swift_obs_uvot_filter __p_swiftmastr_link_swiftxrlog_obsid  \\\n",
       "0                                   u*                          00074481018   \n",
       "1                                 None                                 None   \n",
       "2                                 None                                 None   \n",
       "3                                 None                                 None   \n",
       "\n",
       "  __p_swiftmastr_link_swiftbalog_obsid  \\\n",
       "0                          00074481018   \n",
       "1                                 None   \n",
       "2                                 None   \n",
       "3                                 None   \n",
       "\n",
       "  __p_swiftmastr_link_swifttdrss_target_id __w_swiftmastr_link_swifttdrss  \\\n",
       "0                                    74481                          false   \n",
       "1                                     None                           None   \n",
       "2                                     None                           None   \n",
       "3                                     None                           None   \n",
       "\n",
       "  __p_swiftmastr_point_bib_table __p_swiftmastr_point_bib_id  \\\n",
       "0                     swiftmastr                       74481   \n",
       "1                           None                        None   \n",
       "2                           None                        None   \n",
       "3                           None                        None   \n",
       "\n",
       "  __w_swiftmastr_point_bib  \n",
       "0                    false  \n",
       "1                     None  \n",
       "2                     None  \n",
       "3                     None  \n",
       "\n",
       "[4 rows x 22 columns]"
      ]
     },
     "execution_count": 46,
     "metadata": {},
     "output_type": "execute_result"
    }
   ],
   "source": [
    "obsid_row = df[df['obsid'] == '00074481018']\n",
    "obsid_row"
   ]
  },
  {
   "cell_type": "code",
   "execution_count": 48,
   "id": "22c33e10-fa16-41e4-8002-35f8bf31ea97",
   "metadata": {
    "execution": {
     "iopub.execute_input": "2025-05-22T13:31:18.123839Z",
     "iopub.status.busy": "2025-05-22T13:31:18.111581Z",
     "iopub.status.idle": "2025-05-22T13:31:18.139008Z",
     "shell.execute_reply": "2025-05-22T13:31:18.136925Z",
     "shell.execute_reply.started": "2025-05-22T13:31:18.123715Z"
    }
   },
   "outputs": [
    {
     "data": {
      "text/plain": [
       "0    /FTP/swift/data/obs/2007_07/00074481018/\n",
       "1                                        None\n",
       "2                                        None\n",
       "3                                        None\n",
       "Name: __p_swiftmastr_swift_obs_root, dtype: object"
      ]
     },
     "execution_count": 48,
     "metadata": {},
     "output_type": "execute_result"
    }
   ],
   "source": [
    "obsid_ftp = obsid_rows['__p_swiftmastr_swift_obs_root']\n",
    "obsid_ftp"
   ]
  },
  {
   "cell_type": "code",
   "execution_count": 53,
   "id": "17d53362-f52b-4108-b1ba-f956d333f6ed",
   "metadata": {
    "execution": {
     "iopub.execute_input": "2025-05-22T13:33:28.365676Z",
     "iopub.status.busy": "2025-05-22T13:33:28.364773Z",
     "iopub.status.idle": "2025-05-22T13:33:28.379576Z",
     "shell.execute_reply": "2025-05-22T13:33:28.377465Z",
     "shell.execute_reply.started": "2025-05-22T13:33:28.365618Z"
    }
   },
   "outputs": [
    {
     "data": {
      "text/plain": [
       "'https://heasarc.gsfc.nasa.gov//FTP/swift/data/obs/2007_07/00074481018/'"
      ]
     },
     "execution_count": 53,
     "metadata": {},
     "output_type": "execute_result"
    }
   ],
   "source": [
    "downlink = f\"https://heasarc.gsfc.nasa.gov/{obsid_ftp[0]}\"\n",
    "downlink"
   ]
  },
  {
   "cell_type": "markdown",
   "id": "ff0dccd2-ca57-4929-a2eb-795b5a5f399b",
   "metadata": {},
   "source": [
    "## Download the Data"
   ]
  },
  {
   "cell_type": "code",
   "execution_count": 2,
   "id": "f0d372b1-4272-4ad9-9f7e-b0fafa7200ed",
   "metadata": {
    "execution": {
     "iopub.execute_input": "2025-05-21T14:52:17.093516Z",
     "iopub.status.busy": "2025-05-21T14:52:17.092317Z",
     "iopub.status.idle": "2025-05-21T14:52:17.698790Z",
     "shell.execute_reply": "2025-05-21T14:52:17.696779Z",
     "shell.execute_reply.started": "2025-05-21T14:52:17.093431Z"
    }
   },
   "outputs": [],
   "source": [
    "# Create a cone-search service\n",
    "nu_services = pyvo.regsearch(ivoid='ivo://nasa.heasarc/swiftmastr')[0]\n",
    "cs_service = nu_services.get_service('conesearch')"
   ]
  },
  {
   "cell_type": "code",
   "execution_count": 3,
   "id": "623c2b20-fc49-4e3f-b139-6fcc6a964d93",
   "metadata": {
    "execution": {
     "iopub.execute_input": "2025-05-21T14:52:23.584367Z",
     "iopub.status.busy": "2025-05-21T14:52:23.583454Z",
     "iopub.status.idle": "2025-05-21T14:53:15.577501Z",
     "shell.execute_reply": "2025-05-21T14:53:15.574873Z",
     "shell.execute_reply.started": "2025-05-21T14:52:23.584306Z"
    }
   },
   "outputs": [
    {
     "ename": "DALServiceError",
     "evalue": "502 Server Error: Bad Gateway for url: https://heasarc.gsfc.nasa.gov/xamin/vo/cone?showoffsets&table=swiftmastr&&RA=253.46756952&DEC=39.76016913&SR=1.0&VERB=3",
     "output_type": "error",
     "traceback": [
      "\u001b[31m---------------------------------------------------------------------------\u001b[39m",
      "\u001b[31mE19\u001b[39m                                       Traceback (most recent call last)",
      "\u001b[36mFile \u001b[39m\u001b[32m~/miniforge3/envs/heasoft/lib/python3.12/site-packages/pyvo/dal/query.py:260\u001b[39m, in \u001b[36mDALQuery.execute_votable\u001b[39m\u001b[34m(self, post)\u001b[39m\n\u001b[32m    259\u001b[39m \u001b[38;5;28;01mtry\u001b[39;00m:\n\u001b[32m--> \u001b[39m\u001b[32m260\u001b[39m     \u001b[38;5;28;01mreturn\u001b[39;00m \u001b[43mvotableparse\u001b[49m\u001b[43m(\u001b[49m\u001b[38;5;28;43mself\u001b[39;49m\u001b[43m.\u001b[49m\u001b[43mexecute_stream\u001b[49m\u001b[43m(\u001b[49m\u001b[43mpost\u001b[49m\u001b[43m=\u001b[49m\u001b[43mpost\u001b[49m\u001b[43m)\u001b[49m\u001b[43m.\u001b[49m\u001b[43mread\u001b[49m\u001b[43m)\u001b[49m\n\u001b[32m    261\u001b[39m \u001b[38;5;28;01mexcept\u001b[39;00m \u001b[38;5;167;01mException\u001b[39;00m \u001b[38;5;28;01mas\u001b[39;00m e:\n",
      "\u001b[36mFile \u001b[39m\u001b[32m~/miniforge3/envs/heasoft/lib/python3.12/site-packages/astropy/io/votable/table.py:164\u001b[39m, in \u001b[36mparse\u001b[39m\u001b[34m(source, columns, invalid, verify, chunk_size, table_number, table_id, filename, unit_format, datatype_mapping, _debug_python_based_parser)\u001b[39m\n\u001b[32m    161\u001b[39m \u001b[38;5;28;01mwith\u001b[39;00m iterparser.get_xml_iterator(\n\u001b[32m    162\u001b[39m     source, _debug_python_based_parser=_debug_python_based_parser\n\u001b[32m    163\u001b[39m ) \u001b[38;5;28;01mas\u001b[39;00m iterator:\n\u001b[32m--> \u001b[39m\u001b[32m164\u001b[39m     \u001b[38;5;28;01mreturn\u001b[39;00m \u001b[43mtree\u001b[49m\u001b[43m.\u001b[49m\u001b[43mVOTableFile\u001b[49m\u001b[43m(\u001b[49m\u001b[43mconfig\u001b[49m\u001b[43m=\u001b[49m\u001b[43mconfig\u001b[49m\u001b[43m,\u001b[49m\u001b[43m \u001b[49m\u001b[43mpos\u001b[49m\u001b[43m=\u001b[49m\u001b[43m(\u001b[49m\u001b[32;43m1\u001b[39;49m\u001b[43m,\u001b[49m\u001b[43m \u001b[49m\u001b[32;43m1\u001b[39;49m\u001b[43m)\u001b[49m\u001b[43m)\u001b[49m\u001b[43m.\u001b[49m\u001b[43mparse\u001b[49m\u001b[43m(\u001b[49m\u001b[43miterator\u001b[49m\u001b[43m,\u001b[49m\u001b[43m \u001b[49m\u001b[43mconfig\u001b[49m\u001b[43m)\u001b[49m\n",
      "\u001b[36mFile \u001b[39m\u001b[32m~/miniforge3/envs/heasoft/lib/python3.12/site-packages/astropy/io/votable/tree.py:4275\u001b[39m, in \u001b[36mVOTableFile.parse\u001b[39m\u001b[34m(self, iterator, config)\u001b[39m\n\u001b[32m   4274\u001b[39m         \u001b[38;5;28;01melse\u001b[39;00m:\n\u001b[32m-> \u001b[39m\u001b[32m4275\u001b[39m             \u001b[43mvo_raise\u001b[49m\u001b[43m(\u001b[49m\u001b[43mE19\u001b[49m\u001b[43m,\u001b[49m\u001b[43m \u001b[49m\u001b[43m(\u001b[49m\u001b[43m)\u001b[49m\u001b[43m,\u001b[49m\u001b[43m \u001b[49m\u001b[43mconfig\u001b[49m\u001b[43m,\u001b[49m\u001b[43m \u001b[49m\u001b[43mpos\u001b[49m\u001b[43m)\u001b[49m\n\u001b[32m   4276\u001b[39m config.update(\u001b[38;5;28mself\u001b[39m._get_version_checks())\n",
      "\u001b[36mFile \u001b[39m\u001b[32m~/miniforge3/envs/heasoft/lib/python3.12/site-packages/astropy/io/votable/exceptions.py:124\u001b[39m, in \u001b[36mvo_raise\u001b[39m\u001b[34m(exception_class, args, config, pos)\u001b[39m\n\u001b[32m    123\u001b[39m     config = {}\n\u001b[32m--> \u001b[39m\u001b[32m124\u001b[39m \u001b[38;5;28;01mraise\u001b[39;00m exception_class(args, config, pos)\n",
      "\u001b[31mE19\u001b[39m: None:4:0: E19: File does not appear to be a VOTABLE",
      "\nDuring handling of the above exception, another exception occurred:\n",
      "\u001b[31mDALServiceError\u001b[39m                           Traceback (most recent call last)",
      "\u001b[36mCell\u001b[39m\u001b[36m \u001b[39m\u001b[32mIn[3]\u001b[39m\u001b[32m, line 4\u001b[39m\n\u001b[32m      1\u001b[39m \u001b[38;5;66;03m# Find the coordinates of the source\u001b[39;00m\n\u001b[32m      2\u001b[39m pos = SkyCoord.from_name(\u001b[33m'\u001b[39m\u001b[33mMrk 501\u001b[39m\u001b[33m'\u001b[39m)\n\u001b[32m----> \u001b[39m\u001b[32m4\u001b[39m search_result = \u001b[43mcs_service\u001b[49m\u001b[43m.\u001b[49m\u001b[43msearch\u001b[49m\u001b[43m(\u001b[49m\u001b[43mpos\u001b[49m\u001b[43m,\u001b[49m\u001b[43m \u001b[49m\u001b[43mverbosity\u001b[49m\u001b[43m=\u001b[49m\u001b[32;43m3\u001b[39;49m\u001b[43m)\u001b[49m\n\u001b[32m      5\u001b[39m table = search_result.to_table()\n\u001b[32m      6\u001b[39m table\n",
      "\u001b[36mFile \u001b[39m\u001b[32m~/miniforge3/envs/heasoft/lib/python3.12/site-packages/pyvo/dal/scs.py:186\u001b[39m, in \u001b[36mSCSService.search\u001b[39m\u001b[34m(self, pos, radius, verbosity, **keywords)\u001b[39m\n\u001b[32m    141\u001b[39m \u001b[38;5;28;01mdef\u001b[39;00m\u001b[38;5;250m \u001b[39m\u001b[34msearch\u001b[39m(\u001b[38;5;28mself\u001b[39m, pos, radius=\u001b[32m1.0\u001b[39m, *, verbosity=\u001b[32m2\u001b[39m, **keywords):\n\u001b[32m    142\u001b[39m \u001b[38;5;250m    \u001b[39m\u001b[33;03m\"\"\"\u001b[39;00m\n\u001b[32m    143\u001b[39m \u001b[33;03m    submit a simple Cone Search query that requests objects or observations\u001b[39;00m\n\u001b[32m    144\u001b[39m \u001b[33;03m    whose positions fall within some distance from a search position.\u001b[39;00m\n\u001b[32m   (...)\u001b[39m\u001b[32m    184\u001b[39m \u001b[33;03m    pyvo.dal.DALQueryError\u001b[39;00m\n\u001b[32m    185\u001b[39m \u001b[33;03m    \"\"\"\u001b[39;00m\n\u001b[32m--> \u001b[39m\u001b[32m186\u001b[39m     \u001b[38;5;28;01mreturn\u001b[39;00m \u001b[38;5;28;43mself\u001b[39;49m\u001b[43m.\u001b[49m\u001b[43mcreate_query\u001b[49m\u001b[43m(\u001b[49m\u001b[43mpos\u001b[49m\u001b[43m=\u001b[49m\u001b[43mpos\u001b[49m\u001b[43m,\u001b[49m\u001b[43m \u001b[49m\u001b[43mradius\u001b[49m\u001b[43m=\u001b[49m\u001b[43mradius\u001b[49m\u001b[43m,\u001b[49m\u001b[43m \u001b[49m\u001b[43mverbosity\u001b[49m\u001b[43m=\u001b[49m\u001b[43mverbosity\u001b[49m\u001b[43m,\u001b[49m\u001b[43m \u001b[49m\u001b[43m*\u001b[49m\u001b[43m*\u001b[49m\u001b[43mkeywords\u001b[49m\u001b[43m)\u001b[49m\u001b[43m.\u001b[49m\u001b[43mexecute\u001b[49m\u001b[43m(\u001b[49m\u001b[43m)\u001b[49m\n",
      "\u001b[36mFile \u001b[39m\u001b[32m~/miniforge3/envs/heasoft/lib/python3.12/site-packages/pyvo/dal/scs.py:413\u001b[39m, in \u001b[36mSCSQuery.execute\u001b[39m\u001b[34m(self)\u001b[39m\n\u001b[32m    399\u001b[39m \u001b[38;5;28;01mdef\u001b[39;00m\u001b[38;5;250m \u001b[39m\u001b[34mexecute\u001b[39m(\u001b[38;5;28mself\u001b[39m):\n\u001b[32m    400\u001b[39m \u001b[38;5;250m    \u001b[39m\u001b[33;03m\"\"\"\u001b[39;00m\n\u001b[32m    401\u001b[39m \u001b[33;03m    submit the query and return the results as a SCSResults instance\u001b[39;00m\n\u001b[32m    402\u001b[39m \n\u001b[32m   (...)\u001b[39m\u001b[32m    411\u001b[39m \u001b[33;03m       for errors parsing the VOTable response\u001b[39;00m\n\u001b[32m    412\u001b[39m \u001b[33;03m    \"\"\"\u001b[39;00m\n\u001b[32m--> \u001b[39m\u001b[32m413\u001b[39m     \u001b[38;5;28;01mreturn\u001b[39;00m SCSResults(\u001b[38;5;28;43mself\u001b[39;49m\u001b[43m.\u001b[49m\u001b[43mexecute_votable\u001b[49m\u001b[43m(\u001b[49m\u001b[43m)\u001b[49m, url=\u001b[38;5;28mself\u001b[39m.queryurl, session=\u001b[38;5;28mself\u001b[39m._session)\n",
      "\u001b[36mFile \u001b[39m\u001b[32m~/miniforge3/envs/heasoft/lib/python3.12/site-packages/pyvo/dal/query.py:262\u001b[39m, in \u001b[36mDALQuery.execute_votable\u001b[39m\u001b[34m(self, post)\u001b[39m\n\u001b[32m    260\u001b[39m     \u001b[38;5;28;01mreturn\u001b[39;00m votableparse(\u001b[38;5;28mself\u001b[39m.execute_stream(post=post).read)\n\u001b[32m    261\u001b[39m \u001b[38;5;28;01mexcept\u001b[39;00m \u001b[38;5;167;01mException\u001b[39;00m \u001b[38;5;28;01mas\u001b[39;00m e:\n\u001b[32m--> \u001b[39m\u001b[32m262\u001b[39m     \u001b[38;5;28;43mself\u001b[39;49m\u001b[43m.\u001b[49m\u001b[43mraise_if_error\u001b[49m\u001b[43m(\u001b[49m\u001b[43m)\u001b[49m\n\u001b[32m    263\u001b[39m     \u001b[38;5;28;01mraise\u001b[39;00m DALFormatError(e, \u001b[38;5;28mself\u001b[39m.queryurl)\n",
      "\u001b[36mFile \u001b[39m\u001b[32m~/miniforge3/envs/heasoft/lib/python3.12/site-packages/pyvo/dal/query.py:271\u001b[39m, in \u001b[36mDALQuery.raise_if_error\u001b[39m\u001b[34m(self)\u001b[39m\n\u001b[32m    269\u001b[39m \u001b[38;5;28;01mif\u001b[39;00m \u001b[38;5;28mself\u001b[39m._ex:\n\u001b[32m    270\u001b[39m     e = \u001b[38;5;28mself\u001b[39m._ex\n\u001b[32m--> \u001b[39m\u001b[32m271\u001b[39m     \u001b[38;5;28;01mraise\u001b[39;00m DALServiceError.from_except(e, \u001b[38;5;28mself\u001b[39m.queryurl)\n",
      "\u001b[31mDALServiceError\u001b[39m: 502 Server Error: Bad Gateway for url: https://heasarc.gsfc.nasa.gov/xamin/vo/cone?showoffsets&table=swiftmastr&&RA=253.46756952&DEC=39.76016913&SR=1.0&VERB=3"
     ]
    }
   ],
   "source": [
    "# Find the coordinates of the source\n",
    "pos = SkyCoord.from_name('Mrk 501')\n",
    "\n",
    "search_result = cs_service.search(pos, verbosity=3)\n",
    "table = search_result.to_table()\n",
    "table"
   ]
  },
  {
   "cell_type": "code",
   "execution_count": 33,
   "id": "3c7532bf-e841-4a0d-a0f3-849e6704f3b4",
   "metadata": {
    "execution": {
     "iopub.execute_input": "2025-05-21T13:10:12.063197Z",
     "iopub.status.busy": "2025-05-21T13:10:12.062379Z",
     "iopub.status.idle": "2025-05-21T13:10:12.074423Z",
     "shell.execute_reply": "2025-05-21T13:10:12.071557Z",
     "shell.execute_reply.started": "2025-05-21T13:10:12.063140Z"
    }
   },
   "outputs": [],
   "source": [
    "# # Find the coordinates of the source\n",
    "# pos = SkyCoord.from_name('OJ 287')\n",
    "\n",
    "# search_result = cs_service.search(pos)\n",
    "\n",
    "# # display the result as an astropy table\n",
    "# search_result.to_table()"
   ]
  },
  {
   "cell_type": "code",
   "execution_count": 45,
   "id": "2ca2ea56-c9eb-4237-8bd0-6c9e382f318b",
   "metadata": {
    "execution": {
     "iopub.execute_input": "2025-05-21T13:14:34.763705Z",
     "iopub.status.busy": "2025-05-21T13:14:34.762617Z",
     "iopub.status.idle": "2025-05-21T13:14:34.934678Z",
     "shell.execute_reply": "2025-05-21T13:14:34.932909Z",
     "shell.execute_reply.started": "2025-05-21T13:14:34.763649Z"
    }
   },
   "outputs": [
    {
     "data": {
      "text/plain": [
       "[('266222', 'OJ287', '00035905040', '133.66536', '20.08646', '58950.9976', '58961.0', '1170.91', '1144.975', '1177.0', '58961', '1317.99991989136', '143.000520944595', '1174.99939894676', '1317.99991989136', '112', '0.0', '2648.0', '0.0', '1321.6', '1177.0', '2', '35.77962647', '0', 'N', '206.82290225', '3', '40', '40', '00035905040', '35905', 'Swift', '1', '3.18.11', '280.396874436814', '1.0', 'Hea_27Jul2015_V6.17_Swift_Rel4.5(Bld34)_27Jul2015_SDCpatch_16', '58951.0475', '35905', 'N', '96.759', '0.0', '0.0', '0.0', '273.109', '0.0', '96.781', '96.781', '193.771', '387.774', '0.0', '0.0', '0.0', '1170.91', '0.0', '0.0', '2.53090296146628'),\n",
       " ('266234', 'OJ287', '00035905041', '133.65865', '20.08717', '58954.249', '58964.0', '1396.572', '1368.105', '1402.0', '58965', '0.0', '98.0000410079956', '1399.99929904938', '1497.99934005737', '112', '0.0', '3000.0', '0.0', '1502.4', '1402.0', '2', '35.77392887', '0', 'N', '206.81946574', '4', '41', '41', '00035905041', '35905', 'Swift', '1', '3.18.11', '279.1384583315', '0.0', 'Hea_27Jul2015_V6.17_Swift_Rel4.5(Bld34)_27Jul2015_SDCpatch_16', '58954.3', '35905', 'N', '112.767', '0.0', '0.0', '0.0', '352.237', '0.0', '112.779', '112.779', '225.756', '451.787', '0.0', '0.0', '0.0', '1396.572', '0.0', '0.0', '2.8403514911721524'),\n",
       " ('266242', 'OJ287', '00035905050', '133.6639', '20.08797', '58967.7219', '58977.0', '1074.698', '1044.167', '1077.0', '58978', '1199.19985997677', '124.203441023827', '1074.99641895294', '1199.19985997677', '112', '0.0', '1192.0', '0.0', '1200.0', '1077.0', '1', '35.778843', '0', 'N', '206.82057726', '6', '50', '50', '00035905050', '35905', 'Swift', '1', '3.18.11', '290.391271682953', '1.0', 'Hea_27Jul2015_V6.17_Swift_Rel4.5(Bld34)_27Jul2015_SDCpatch_16', '58967.7704', '35905', 'N', '85.77', '0.0', '0.0', '0.0', '274.311', '0.0', '85.781', '85.77', '170.768', '341.767', '0.0', '0.0', '0.0', '0.0', '0.0', '1074.698', '2.556268789738893'),\n",
       " ('266331', 'OJ287', '00035905048', '133.64676', '20.09544', '58965.6691', '58975.0', '1124.608', '1095.061', '1127.0', '58976', '0.0', '73.20006108284', '1124.99929893017', '1198.19936001301', '112', '0.0', '2400.0', '0.0', '1201.6', '1127.0', '2', '35.76617222', '0', 'N', '206.80526281', '4', '48', '48', '00035905048', '35905', 'Swift', '1', '3.18.11', '277.083777939848', '0.0', 'Hea_27Jul2015_V6.17_Swift_Rel4.5(Bld34)_27Jul2015_SDCpatch_16', '58965.7175', '35905', 'N', '90.779', '0.0', '0.0', '0.0', '279.243', '0.0', '90.757', '90.779', '180.763', '362.74', '0.0', '0.0', '0.0', '0.0', '0.0', '1124.608', '3.3000677706848687'),\n",
       " ('266685', 'OJ287', '00035905042', '133.64735', '20.11446', '58957.6324', '58967.0', '1118.037', '1092.093', '1125.0', '58968', '0.0', '75.3999810218811', '1119.99953901768', '1195.39952003956', '112', '0.0', '1184.0', '0.0', '1198.4', '1125.0', '1', '35.77306205', '0', 'N', '206.78339723', '5', '42', '42', '00035905042', '35905', 'Swift', '1', '3.18.11', '291.80716850083', '0.0', 'Hea_27Jul2015_V6.17_Swift_Rel4.5(Bld34)_27Jul2015_SDCpatch_16', '58957.6809', '35905', 'N', '91.783', '0.0', '0.0', '0.0', '267.217', '0.0', '91.761', '91.783', '182.771', '366.778', '0.0', '0.0', '0.0', '1118.037', '0.0', '0.0', '3.1920630124596134'),\n",
       " ('266940', 'OJ287', '00035905063', '133.69155', '20.12903', '58984.5178', '58994.0', '1464.255', '1418.954', '1474.0', '58995', '0.0', '331.400122046471', '1469.99877893925', '1801.39890098572', '112', '0.0', '1800.0', '0.0', '1808.0', '1474.0', '1', '35.81705119', '0', 'N', '206.78358024', '7', '63', '63', '00035905063', '35905', 'Swift', '1', '3.18.11', '290.956053780468', '0.0', 'Hea_27Jul2015_V6.17_Swift_Rel4.5(Bld34)_27Jul2015_SDCpatch_16', '58985.0009', '35905', 'N', '142.501', '0.0', '0.0', '0.0', '183.786', '0.0', '142.545', '91.055', '286.525', '572.542', '0.0', '0.0', '0.0', '1464.255', '0.0', '0.0', '1.4074484381166457')]"
      ]
     },
     "execution_count": 45,
     "metadata": {},
     "output_type": "execute_result"
    }
   ],
   "source": [
    "# obs_to_explore = [res for res in search_result if 58932 <= res['start_time'] <= 58993 and res['xrt_exposure'] > 1000]\n",
    "# obs_to_explore"
   ]
  },
  {
   "cell_type": "code",
   "execution_count": 57,
   "id": "34925944-e74c-48df-b875-a30b0111edf8",
   "metadata": {
    "execution": {
     "iopub.execute_input": "2025-05-21T13:25:19.691894Z",
     "iopub.status.busy": "2025-05-21T13:25:19.690965Z",
     "iopub.status.idle": "2025-05-21T13:25:19.898593Z",
     "shell.execute_reply": "2025-05-21T13:25:19.896331Z",
     "shell.execute_reply.started": "2025-05-21T13:25:19.691835Z"
    }
   },
   "outputs": [
    {
     "data": {
      "text/html": [
       "<div><i>Table length=997</i>\n",
       "<table id=\"table140165222853056\" class=\"table-striped table-bordered table-condensed\">\n",
       "<thead><tr><th>__row</th><th>name</th><th>obsid</th><th>ra</th><th>dec</th><th>start_time</th><th>processing_date</th><th>xrt_exposure</th><th>uvot_exposure</th><th>bat_exposure</th><th>archive_date</th><th>af_insaa</th><th>af_inslew</th><th>af_onsource</th><th>af_total</th><th>att_flag</th><th>bat_expo_ev</th><th>bat_expo_mt</th><th>bat_expo_pl</th><th>bat_expo_rt</th><th>bat_expo_sv</th><th>bat_no_masktag</th><th>bii</th><th>cycle</th><th>grb_flag</th><th>lii</th><th>num_processed</th><th>obs_segment</th><th>orig_obs_segment</th><th>orig_obsid</th><th>orig_target_id</th><th>pi</th><th>prnb</th><th>processing_version</th><th>roll_angle</th><th>saa_fraction</th><th>software_version</th><th>stop_time</th><th>target_id</th><th>tdrss_flag</th><th>uvot_expo_bb</th><th>uvot_expo_bl</th><th>uvot_expo_gu</th><th>uvot_expo_gv</th><th>uvot_expo_m2</th><th>uvot_expo_mg</th><th>uvot_expo_uu</th><th>uvot_expo_vv</th><th>uvot_expo_w1</th><th>uvot_expo_w2</th><th>uvot_expo_wh</th><th>xrt_expo_im</th><th>xrt_expo_lr</th><th>xrt_expo_pc</th><th>xrt_expo_pu</th><th>xrt_expo_wt</th><th>Search_Offset</th></tr></thead>\n",
       "<thead><tr><th></th><th></th><th></th><th>deg</th><th>deg</th><th>d</th><th>d</th><th>s</th><th>s</th><th>s</th><th>d</th><th>s</th><th>s</th><th>s</th><th>s</th><th></th><th>s</th><th>s</th><th>s</th><th>s</th><th>s</th><th></th><th>deg</th><th></th><th></th><th>deg</th><th></th><th></th><th></th><th></th><th></th><th></th><th></th><th></th><th>deg</th><th></th><th></th><th>d</th><th></th><th></th><th>s</th><th>s</th><th>s</th><th>s</th><th>s</th><th>s</th><th>s</th><th>s</th><th>s</th><th>s</th><th>s</th><th>s</th><th>s</th><th>s</th><th>s</th><th>s</th><th></th></tr></thead>\n",
       "<thead><tr><th>object</th><th>object</th><th>object</th><th>float64</th><th>float64</th><th>float64</th><th>float64</th><th>float64</th><th>float64</th><th>float64</th><th>int32</th><th>float64</th><th>float64</th><th>float64</th><th>float64</th><th>object</th><th>float64</th><th>float64</th><th>float64</th><th>float64</th><th>float64</th><th>int16</th><th>float64</th><th>int16</th><th>object</th><th>float64</th><th>int16</th><th>int32</th><th>int32</th><th>object</th><th>int32</th><th>object</th><th>int32</th><th>object</th><th>float64</th><th>float64</th><th>object</th><th>float64</th><th>int32</th><th>object</th><th>float64</th><th>float64</th><th>float64</th><th>float64</th><th>float64</th><th>float64</th><th>float64</th><th>float64</th><th>float64</th><th>float64</th><th>float64</th><th>float64</th><th>float64</th><th>float64</th><th>float64</th><th>float64</th><th>float64</th></tr></thead>\n",
       "<tr><td>266998</td><td>OJ287</td><td>00030901053</td><td>133.68364</td><td>20.13617</td><td>55129.7771</td><td>57504.0</td><td>5052.15200</td><td>4957.88600</td><td>5162.00000</td><td>55140</td><td>0.00000</td><td>869.39585</td><td>5079.99543</td><td>5949.39128</td><td>112</td><td>0.00000</td><td>11560.00000</td><td>0.00000</td><td>5966.40000</td><td>5162.00000</td><td>2</td><td>35.81244</td><td>0</td><td>N</td><td>206.77223</td><td>9</td><td>53</td><td>53</td><td>00030901053</td><td>30901</td><td>Swift</td><td>1</td><td>3.17.03</td><td>116.29254</td><td>0.00000</td><td>Hea_27Jul2015_V6.17_Swift_Rel4.5(Bld34)_27Jul2015_SDCpatch_1</td><td>55130.0438</td><td>30901</td><td>N</td><td>343.11300</td><td>0.00000</td><td>0.00000</td><td>0.00000</td><td>947.71700</td><td>0.00000</td><td>431.56400</td><td>343.09100</td><td>1521.29600</td><td>1371.10500</td><td>0.00000</td><td>0.00000</td><td>0.00000</td><td>5052.15200</td><td>0.00000</td><td>0.00000</td><td>2.0059</td></tr>\n",
       "<tr><td>266659</td><td>OJ287</td><td>00030901056</td><td>133.73066</td><td>20.11365</td><td>55153.3938</td><td>57505.0</td><td>5044.75900</td><td>4893.12200</td><td>5142.00000</td><td>55164</td><td>0.00000</td><td>982.20017</td><td>5064.99705</td><td>6047.19722</td><td>112</td><td>0.00000</td><td>11152.00000</td><td>0.00000</td><td>6062.40000</td><td>5142.00000</td><td>3</td><td>35.84652</td><td>0</td><td>N</td><td>206.81662</td><td>8</td><td>56</td><td>56</td><td>00030901056</td><td>30901</td><td>Swift</td><td>1</td><td>3.17.03</td><td>101.41411</td><td>0.00000</td><td>Hea_27Jul2015_V6.17_Swift_Rel4.5(Bld34)_27Jul2015_SDCpatch_1</td><td>55153.9073</td><td>30901</td><td>N</td><td>410.64500</td><td>0.00000</td><td>0.00000</td><td>0.00000</td><td>1191.97500</td><td>0.00000</td><td>410.65600</td><td>410.57900</td><td>822.62600</td><td>1646.64100</td><td>0.00000</td><td>0.00000</td><td>0.00000</td><td>5044.65500</td><td>0.00000</td><td>0.10400</td><td>1.5530</td></tr>\n",
       "<tr><td>266477</td><td>OJ287</td><td>00030901044</td><td>133.68919</td><td>20.10498</td><td>54863.936</td><td>57380.0</td><td>4962.49600</td><td>4807.65100</td><td>5087.00000</td><td>54874</td><td>0.00000</td><td>915.00039</td><td>4989.99555</td><td>5904.99594</td><td>112</td><td>0.00000</td><td>8280.00000</td><td>0.00000</td><td>5924.80000</td><td>5087.00000</td><td>5</td><td>35.80692</td><td>0</td><td>N</td><td>206.81061</td><td>12</td><td>44</td><td>44</td><td>00030901044</td><td>30901</td><td>Swift</td><td>1</td><td>3.17.01</td><td>286.62843</td><td>0.00000</td><td>Hea_27Jul2015_V6.17_Swift_Rel4.5(Bld34)_27Jul2015_SDCpatch_0</td><td>54864.3458</td><td>30901</td><td>N</td><td>527.38500</td><td>0.00000</td><td>0.00000</td><td>0.00000</td><td>98.28100</td><td>0.00000</td><td>527.42900</td><td>484.26800</td><td>1056.35800</td><td>2113.93000</td><td>0.00000</td><td>0.00000</td><td>0.00000</td><td>4938.00100</td><td>0.00000</td><td>24.49500</td><td>0.8416</td></tr>\n",
       "<tr><td>266687</td><td>OJ287</td><td>00030901055</td><td>133.72585</td><td>20.11459</td><td>55133.9993</td><td>57504.0</td><td>4894.21500</td><td>5014.92500</td><td>5182.00000</td><td>55144</td><td>5629.99756</td><td>499.99998</td><td>5129.99758</td><td>5629.99756</td><td>112</td><td>0.00000</td><td>8496.00000</td><td>0.00000</td><td>5640.00000</td><td>5182.00000</td><td>2</td><td>35.84258</td><td>0</td><td>N</td><td>206.81366</td><td>7</td><td>55</td><td>55</td><td>00030901055</td><td>30901</td><td>Swift</td><td>1</td><td>3.17.03</td><td>103.59186</td><td>1.00000</td><td>Hea_27Jul2015_V6.17_Swift_Rel4.5(Bld34)_27Jul2015_SDCpatch_1</td><td>55134.2322</td><td>30901</td><td>N</td><td>422.09700</td><td>0.00000</td><td>0.00000</td><td>0.00000</td><td>1212.31900</td><td>0.00000</td><td>422.19700</td><td>422.09700</td><td>845.10000</td><td>1691.11500</td><td>0.00000</td><td>0.00000</td><td>0.00000</td><td>4894.21500</td><td>0.00000</td><td>0.00000</td><td>1.3033</td></tr>\n",
       "<tr><td>266744</td><td>OJ287</td><td>00030901054</td><td>133.72134</td><td>20.11656</td><td>55132.4514</td><td>57504.0</td><td>4857.28600</td><td>4762.72400</td><td>4928.00000</td><td>55143</td><td>0.00000</td><td>394.60048</td><td>4864.99738</td><td>5259.59786</td><td>112</td><td>0.00000</td><td>8712.00000</td><td>0.00000</td><td>5275.20000</td><td>4928.00000</td><td>2</td><td>35.83924</td><td>0</td><td>N</td><td>206.80962</td><td>6</td><td>54</td><td>54</td><td>00030901054</td><td>30901</td><td>Swift</td><td>1</td><td>3.17.03</td><td>100.19550</td><td>0.00000</td><td>Hea_27Jul2015_V6.17_Swift_Rel4.5(Bld34)_27Jul2015_SDCpatch_1</td><td>55132.6991</td><td>30901</td><td>N</td><td>402.11700</td><td>0.00000</td><td>0.00000</td><td>0.00000</td><td>1140.27400</td><td>0.00000</td><td>402.09500</td><td>402.09500</td><td>805.05000</td><td>1611.09300</td><td>0.00000</td><td>0.00000</td><td>0.00000</td><td>4857.28600</td><td>0.00000</td><td>0.00000</td><td>1.1074</td></tr>\n",
       "<tr><td>266431</td><td>OJ287</td><td>00035011057</td><td>133.67183</td><td>20.10198</td><td>60096.0893</td><td>60106.0</td><td>4311.63900</td><td>4189.10100</td><td>4326.00000</td><td>60107</td><td>0.00000</td><td>760.42686</td><td>4324.97040</td><td>5085.39726</td><td>112</td><td>0.00000</td><td>8248.00000</td><td>0.00000</td><td>5099.20000</td><td>4326.00000</td><td>2</td><td>35.79055</td><td>0</td><td>N</td><td>206.80738</td><td>19</td><td>57</td><td>57</td><td>00035011057</td><td>35011</td><td>Swift</td><td>1</td><td>3.19.01</td><td>294.33462</td><td>0.00000</td><td>Hea_27Jul2015_V6.17_Swift_Rel4.5(Bld34)_27Jul2015_SDCpatch_19</td><td>60096.8568</td><td>35011</td><td>N</td><td>360.87600</td><td>0.00000</td><td>0.00000</td><td>0.00000</td><td>932.80000</td><td>0.00000</td><td>360.85400</td><td>360.87600</td><td>723.82600</td><td>1449.86900</td><td>0.00000</td><td>0.00000</td><td>0.00000</td><td>4311.63900</td><td>0.00000</td><td>0.00000</td><td>1.8349</td></tr>\n",
       "<tr><td>266506</td><td>OJ287</td><td>00030901005</td><td>133.71786</td><td>20.10609</td><td>54396.0458</td><td>57237.0</td><td>4216.16300</td><td>0.00000</td><td>4348.00000</td><td>54407</td><td>0.00000</td><td>538.83667</td><td>4239.95913</td><td>4778.79580</td><td>110</td><td>0.00000</td><td>14440.00000</td><td>5744.00000</td><td>4806.40000</td><td>4348.00000</td><td>3</td><td>35.83266</td><td>0</td><td>N</td><td>206.82044</td><td>11</td><td>5</td><td>5</td><td>00030901005</td><td>30901</td><td>Swift</td><td>1</td><td>3.16.09</td><td>112.77363</td><td>0.00000</td><td>Hea_21Dec2012_V6.13_Swift_Rel4.0(Bld29)_14Dec2012_SDCpatch_15</td><td>54396.9923</td><td>30901</td><td>N</td><td>0.00000</td><td>0.00000</td><td>0.00000</td><td>0.00000</td><td>0.00000</td><td>0.00000</td><td>0.00000</td><td>0.00000</td><td>0.00000</td><td>0.00000</td><td>0.00000</td><td>0.00000</td><td>0.00000</td><td>4216.16300</td><td>0.00000</td><td>0.00000</td><td>0.8138</td></tr>\n",
       "<tr><td>266993</td><td>OJ287</td><td>00035011001</td><td>133.69442</td><td>20.13596</td><td>53510.2688</td><td>56961.0</td><td>3793.15000</td><td>3796.45100</td><td>3958.00000</td><td>53521</td><td>0.00000</td><td>1054.40017</td><td>3864.99543</td><td>4919.39560</td><td>112</td><td>0.00000</td><td>4928.00000</td><td>0.00000</td><td>4942.40000</td><td>3958.00000</td><td>1</td><td>35.82191</td><td>0</td><td>N</td><td>206.77664</td><td>16</td><td>1</td><td>1</td><td>00035011001</td><td>35011</td><td>Swift</td><td>1</td><td>3.16.06</td><td>289.01683</td><td>0.00000</td><td>Hea_21Dec2012_V6.13_Swift_Rel4.0(Bld29)_14Dec2012_SDCpatch_13</td><td>53510.9477</td><td>35011</td><td>N</td><td>0.00000</td><td>0.00000</td><td>0.00000</td><td>0.00000</td><td>222.46800</td><td>0.00000</td><td>0.00000</td><td>238.20100</td><td>31.01400</td><td>3304.76800</td><td>0.00000</td><td>0.00000</td><td>9.50600</td><td>3714.38900</td><td>0.00000</td><td>69.25500</td><td>1.7270</td></tr>\n",
       "<tr><td>266758</td><td>OJ287</td><td>00030901061</td><td>133.69093</td><td>20.11715</td><td>55183.9278</td><td>57510.0</td><td>3359.08300</td><td>3357.71500</td><td>3433.00000</td><td>55194</td><td>537.99934</td><td>572.00050</td><td>3374.99766</td><td>3946.99816</td><td>112</td><td>0.00000</td><td>7872.00000</td><td>3968.00000</td><td>3961.60000</td><td>3433.00000</td><td>2</td><td>35.81253</td><td>0</td><td>N</td><td>206.79716</td><td>7</td><td>61</td><td>61</td><td>00030901061</td><td>30901</td><td>Swift</td><td>1</td><td>3.17.03</td><td>91.64159</td><td>0.10963</td><td>Hea_27Jul2015_V6.17_Swift_Rel4.5(Bld34)_27Jul2015_SDCpatch_1</td><td>55185.0305</td><td>30901</td><td>N</td><td>0.00000</td><td>0.00000</td><td>0.00000</td><td>0.00000</td><td>0.00000</td><td>0.00000</td><td>1991.86100</td><td>0.00000</td><td>1002.01000</td><td>363.84400</td><td>0.00000</td><td>0.00000</td><td>0.00000</td><td>3359.03200</td><td>0.00000</td><td>0.05100</td><td>0.8842</td></tr>\n",
       "<tr><td>...</td><td>...</td><td>...</td><td>...</td><td>...</td><td>...</td><td>...</td><td>...</td><td>...</td><td>...</td><td>...</td><td>...</td><td>...</td><td>...</td><td>...</td><td>...</td><td>...</td><td>...</td><td>...</td><td>...</td><td>...</td><td>...</td><td>...</td><td>...</td><td>...</td><td>...</td><td>...</td><td>...</td><td>...</td><td>...</td><td>...</td><td>...</td><td>...</td><td>...</td><td>...</td><td>...</td><td>...</td><td>...</td><td>...</td><td>...</td><td>...</td><td>...</td><td>...</td><td>...</td><td>...</td><td>...</td><td>...</td><td>...</td><td>...</td><td>...</td><td>...</td><td>...</td><td>...</td><td>...</td><td>...</td><td>...</td><td>...</td></tr>\n",
       "<tr><td>266713</td><td>OJ287</td><td>00030901243</td><td>133.71131</td><td>20.11519</td><td>57702.775</td><td>57712.0</td><td>769.44300</td><td>740.60500</td><td>772.00000</td><td>57713</td><td>837.99934</td><td>68.00004</td><td>769.99930</td><td>837.99934</td><td>112</td><td>0.00000</td><td>1672.00000</td><td>0.00000</td><td>841.60000</td><td>772.00000</td><td>2</td><td>35.82991</td><td>0</td><td>N</td><td>206.80732</td><td>4</td><td>243</td><td>243</td><td>00030901243</td><td>30901</td><td>Swift</td><td>1</td><td>3.17.07</td><td>96.81418</td><td>1.00000</td><td>Hea_27Jul2015_V6.17_Swift_Rel4.5(Bld34)_27Jul2015_SDCpatch_3</td><td>57702.8186</td><td>30901</td><td>N</td><td>61.77300</td><td>0.00000</td><td>0.00000</td><td>0.00000</td><td>185.75000</td><td>0.00000</td><td>61.78400</td><td>61.76200</td><td>122.76300</td><td>246.77300</td><td>0.00000</td><td>0.00000</td><td>0.00000</td><td>0.00000</td><td>0.00000</td><td>769.44300</td><td>0.5890</td></tr>\n",
       "<tr><td>266256</td><td>OJ287</td><td>00033756105</td><td>133.71451</td><td>20.08903</td><td>57763.7854</td><td>57773.0</td><td>924.61900</td><td>896.12700</td><td>927.00000</td><td>57774</td><td>0.00000</td><td>152.79508</td><td>924.99982</td><td>1077.79490</td><td>112</td><td>0.00000</td><td>1080.00000</td><td>0.00000</td><td>1080.00000</td><td>927.00000</td><td>1</td><td>35.82398</td><td>7</td><td>N</td><td>206.83897</td><td>4</td><td>105</td><td>105</td><td>00033756105</td><td>33756</td><td>Edelson</td><td>760150</td><td>3.17.10</td><td>122.78872</td><td>0.00000</td><td>Hea_27Jul2015_V6.17_Swift_Rel4.5(Bld34)_27Jul2015_SDCpatch_3</td><td>57763.8312</td><td>33756</td><td>N</td><td>72.77300</td><td>0.00000</td><td>0.00000</td><td>0.00000</td><td>237.25200</td><td>0.00000</td><td>72.78400</td><td>72.78400</td><td>146.76000</td><td>293.77400</td><td>0.00000</td><td>0.00000</td><td>0.00000</td><td>0.00000</td><td>0.00000</td><td>924.61900</td><td>1.3194</td></tr>\n",
       "<tr><td>266717</td><td>OJ287</td><td>00030901232</td><td>133.72775</td><td>20.11529</td><td>57690.6882</td><td>57700.0</td><td>1059.61800</td><td>1029.20600</td><td>1062.00000</td><td>57701</td><td>0.00000</td><td>137.80000</td><td>1059.99944</td><td>1197.79944</td><td>112</td><td>0.00000</td><td>2400.00000</td><td>0.00000</td><td>1200.00000</td><td>1062.00000</td><td>2</td><td>35.84449</td><td>0</td><td>N</td><td>206.81358</td><td>3</td><td>232</td><td>232</td><td>00030901232</td><td>30901</td><td>Swift</td><td>1</td><td>3.17.07</td><td>96.99153</td><td>0.00000</td><td>Hea_27Jul2015_V6.17_Swift_Rel4.5(Bld34)_27Jul2015_SDCpatch_3</td><td>57690.7348</td><td>30901</td><td>N</td><td>82.76900</td><td>0.00000</td><td>0.00000</td><td>0.00000</td><td>285.33300</td><td>0.00000</td><td>82.78000</td><td>82.78000</td><td>164.76600</td><td>330.77800</td><td>0.00000</td><td>0.00000</td><td>0.00000</td><td>0.00000</td><td>0.00000</td><td>1059.61800</td><td>1.4175</td></tr>\n",
       "<tr><td>266254</td><td>OJ287</td><td>00033756110</td><td>133.74657</td><td>20.08892</td><td>57777.5937</td><td>57787.0</td><td>924.26500</td><td>893.42400</td><td>926.00000</td><td>57788</td><td>0.00000</td><td>94.20002</td><td>924.99942</td><td>1019.19944</td><td>112</td><td>0.00000</td><td>1944.00000</td><td>0.00000</td><td>1020.80000</td><td>926.00000</td><td>2</td><td>35.85233</td><td>7</td><td>N</td><td>206.85153</td><td>4</td><td>110</td><td>110</td><td>00033756110</td><td>33756</td><td>Edelson</td><td>760150</td><td>3.17.10</td><td>76.60160</td><td>0.00000</td><td>Hea_27Jul2015_V6.17_Swift_Rel4.5(Bld34)_27Jul2015_SDCpatch_3</td><td>57777.6388</td><td>33756</td><td>N</td><td>71.78000</td><td>0.00000</td><td>0.00000</td><td>0.00000</td><td>245.53800</td><td>0.00000</td><td>71.78000</td><td>71.76900</td><td>143.77000</td><td>288.78700</td><td>0.00000</td><td>0.00000</td><td>0.00000</td><td>0.00000</td><td>0.00000</td><td>924.26500</td><td>2.6893</td></tr>\n",
       "<tr><td>266725</td><td>OJ287</td><td>00034934050</td><td>133.65136</td><td>20.11556</td><td>57869.2743</td><td>57879.0</td><td>914.06900</td><td>856.80500</td><td>431.00000</td><td>57880</td><td>597.79940</td><td>281.79532</td><td>914.99898</td><td>1196.79430</td><td>112</td><td>0.00000</td><td>600.00000</td><td>0.00000</td><td>600.00000</td><td>431.00000</td><td>1</td><td>35.77699</td><td>12</td><td>N</td><td>206.78367</td><td>5</td><td>50</td><td>50</td><td>00034934050</td><td>34934</td><td>Williams</td><td>12150082</td><td>3.17.11</td><td>292.88574</td><td>0.53005</td><td>Hea_27Jul2015_V6.17_Swift_Rel4.5(Bld34)_27Jul2015_SDCpatch_6</td><td>57869.9798</td><td>34934</td><td>N</td><td>70.53300</td><td>0.00000</td><td>0.00000</td><td>0.00000</td><td>224.12300</td><td>0.00000</td><td>70.55500</td><td>70.55600</td><td>140.53700</td><td>280.50100</td><td>0.00000</td><td>0.00000</td><td>0.00000</td><td>0.00000</td><td>0.00000</td><td>914.06900</td><td>2.9759</td></tr>\n",
       "<tr><td>266731</td><td>OJ287</td><td>00033756096</td><td>133.72962</td><td>20.11594</td><td>57743.9694</td><td>57753.0</td><td>1084.62100</td><td>1058.69700</td><td>1090.00000</td><td>57754</td><td>1135.60040</td><td>50.60090</td><td>1084.99950</td><td>1135.60040</td><td>112</td><td>0.00000</td><td>3312.00000</td><td>0.00000</td><td>1139.20000</td><td>1090.00000</td><td>3</td><td>35.84637</td><td>7</td><td>N</td><td>206.81355</td><td>5</td><td>96</td><td>96</td><td>00033756096</td><td>33756</td><td>Edelson</td><td>760150</td><td>3.17.09</td><td>90.45814</td><td>1.00000</td><td>Hea_27Jul2015_V6.17_Swift_Rel4.5(Bld34)_27Jul2015_SDCpatch_3</td><td>57744.0155</td><td>33756</td><td>N</td><td>86.78500</td><td>0.00000</td><td>0.00000</td><td>0.00000</td><td>278.83500</td><td>0.00000</td><td>86.76300</td><td>86.77400</td><td>172.76400</td><td>346.77600</td><td>0.00000</td><td>0.00000</td><td>0.00000</td><td>0.00000</td><td>0.00000</td><td>1084.62100</td><td>1.5300</td></tr>\n",
       "<tr><td>266244</td><td>OJ287</td><td>00034934019</td><td>133.63684</td><td>20.08806</td><td>57817.9291</td><td>57827.0</td><td>219.67100</td><td>195.16100</td><td>0.00000</td><td>57828</td><td>38.67258</td><td>135.20000</td><td>219.99934</td><td>355.19934</td><td>112</td><td>0.00000</td><td>360.00000</td><td>0.00000</td><td>358.40000</td><td>0.00000</td><td>1</td><td>35.75493</td><td>12</td><td>N</td><td>206.80998</td><td>5</td><td>19</td><td>19</td><td>00034934019</td><td>34934</td><td>Williams</td><td>12150082</td><td>3.17.11</td><td>304.00593</td><td>0.00000</td><td>Hea_27Jul2015_V6.17_Swift_Rel4.5(Bld34)_27Jul2015_SDCpatch_6</td><td>57817.9688</td><td>34934</td><td>N</td><td>15.78800</td><td>0.00000</td><td>0.00000</td><td>0.00000</td><td>55.17600</td><td>0.00000</td><td>15.76600</td><td>15.78800</td><td>30.87000</td><td>61.77300</td><td>0.00000</td><td>0.00000</td><td>0.00000</td><td>0.00000</td><td>0.00000</td><td>219.67100</td><td>3.9593</td></tr>\n",
       "<tr><td>266080</td><td>OJ287</td><td>00034934049</td><td>133.64373</td><td>20.07129</td><td>57867.0819</td><td>57877.0</td><td>959.45400</td><td>932.46900</td><td>963.00000</td><td>57878</td><td>0.00000</td><td>176.99998</td><td>959.99938</td><td>1136.99936</td><td>112</td><td>0.00000</td><td>1136.00000</td><td>0.00000</td><td>1139.20000</td><td>963.00000</td><td>1</td><td>35.75541</td><td>12</td><td>N</td><td>206.83213</td><td>3</td><td>49</td><td>49</td><td>00034934049</td><td>34934</td><td>Williams</td><td>12150082</td><td>3.17.11</td><td>291.45195</td><td>0.00000</td><td>Hea_27Jul2015_V6.17_Swift_Rel4.5(Bld34)_27Jul2015_SDCpatch_6</td><td>57867.1547</td><td>34934</td><td>N</td><td>75.77400</td><td>0.00000</td><td>0.00000</td><td>0.00000</td><td>248.62700</td><td>0.00000</td><td>75.76300</td><td>75.77400</td><td>151.75800</td><td>304.77300</td><td>0.00000</td><td>0.00000</td><td>0.00000</td><td>0.00000</td><td>0.00000</td><td>959.45400</td><td>4.0479</td></tr>\n",
       "<tr><td>266414</td><td>OJ287</td><td>00033756111</td><td>133.70223</td><td>20.10082</td><td>57779.9875</td><td>57789.0</td><td>924.44300</td><td>895.64200</td><td>928.00000</td><td>57790</td><td>1016.79954</td><td>91.80000</td><td>924.99954</td><td>1016.79954</td><td>112</td><td>0.00000</td><td>1960.00000</td><td>0.00000</td><td>1020.80000</td><td>928.00000</td><td>2</td><td>35.81707</td><td>7</td><td>N</td><td>206.82051</td><td>3</td><td>111</td><td>111</td><td>00033756111</td><td>33756</td><td>Edelson</td><td>760150</td><td>3.17.10</td><td>88.81763</td><td>1.00000</td><td>Hea_27Jul2015_V6.17_Swift_Rel4.5(Bld34)_27Jul2015_SDCpatch_3</td><td>57780.0328</td><td>33756</td><td>N</td><td>74.77000</td><td>0.00000</td><td>0.00000</td><td>0.00000</td><td>224.78500</td><td>0.00000</td><td>74.75900</td><td>74.78100</td><td>148.76800</td><td>297.77900</td><td>0.00000</td><td>0.00000</td><td>0.00000</td><td>0.00000</td><td>0.00000</td><td>924.44300</td><td>0.4681</td></tr>\n",
       "</table></div>"
      ],
      "text/plain": [
       "<Table length=997>\n",
       "__row   name     obsid        ra    ... xrt_expo_pu xrt_expo_wt Search_Offset\n",
       "                             deg    ...      s           s                   \n",
       "object object    object    float64  ...   float64     float64      float64   \n",
       "------ ------ ----------- --------- ... ----------- ----------- -------------\n",
       "266998  OJ287 00030901053 133.68364 ...     0.00000     0.00000        2.0059\n",
       "266659  OJ287 00030901056 133.73066 ...     0.00000     0.10400        1.5530\n",
       "266477  OJ287 00030901044 133.68919 ...     0.00000    24.49500        0.8416\n",
       "266687  OJ287 00030901055 133.72585 ...     0.00000     0.00000        1.3033\n",
       "266744  OJ287 00030901054 133.72134 ...     0.00000     0.00000        1.1074\n",
       "266431  OJ287 00035011057 133.67183 ...     0.00000     0.00000        1.8349\n",
       "266506  OJ287 00030901005 133.71786 ...     0.00000     0.00000        0.8138\n",
       "266993  OJ287 00035011001 133.69442 ...     0.00000    69.25500        1.7270\n",
       "266758  OJ287 00030901061 133.69093 ...     0.00000     0.05100        0.8842\n",
       "   ...    ...         ...       ... ...         ...         ...           ...\n",
       "266713  OJ287 00030901243 133.71131 ...     0.00000   769.44300        0.5890\n",
       "266256  OJ287 00033756105 133.71451 ...     0.00000   924.61900        1.3194\n",
       "266717  OJ287 00030901232 133.72775 ...     0.00000  1059.61800        1.4175\n",
       "266254  OJ287 00033756110 133.74657 ...     0.00000   924.26500        2.6893\n",
       "266725  OJ287 00034934050 133.65136 ...     0.00000   914.06900        2.9759\n",
       "266731  OJ287 00033756096 133.72962 ...     0.00000  1084.62100        1.5300\n",
       "266244  OJ287 00034934019 133.63684 ...     0.00000   219.67100        3.9593\n",
       "266080  OJ287 00034934049 133.64373 ...     0.00000   959.45400        4.0479\n",
       "266414  OJ287 00033756111 133.70223 ...     0.00000   924.44300        0.4681"
      ]
     },
     "execution_count": 57,
     "metadata": {},
     "output_type": "execute_result"
    }
   ],
   "source": [
    "sorted_table = table[np.argsort(table['xrt_expo_pc'])[::-1]]\n",
    "sorted_table"
   ]
  },
  {
   "cell_type": "code",
   "execution_count": 58,
   "id": "a54e730b-46ae-4cca-bf4c-d7af2ca713ab",
   "metadata": {
    "execution": {
     "iopub.execute_input": "2025-05-21T13:25:24.121940Z",
     "iopub.status.busy": "2025-05-21T13:25:24.119934Z",
     "iopub.status.idle": "2025-05-21T13:25:24.312958Z",
     "shell.execute_reply": "2025-05-21T13:25:24.310839Z",
     "shell.execute_reply.started": "2025-05-21T13:25:24.121883Z"
    }
   },
   "outputs": [
    {
     "data": {
      "text/plain": [
       "[('266477', 'OJ287', '00030901044', '133.68919', '20.10498', '54863.936', '57380.0', '4962.496', '4807.651', '5087.0', '54874', '0.0', '915.000387042761', '4989.99555292726', '5904.99593997002', '112', '0.0', '8280.0', '0.0', '5924.8', '5087.0', '5', '35.80691847', '0', 'N', '206.81061475', '12', '44', '44', '00030901044', '30901', 'Swift', '1', '3.17.01', '286.62842607863', '0.0', 'Hea_27Jul2015_V6.17_Swift_Rel4.5(Bld34)_27Jul2015_SDCpatch_0', '54864.3458', '30901', 'N', '527.385', '0.0', '0.0', '0.0', '98.281', '0.0', '527.429', '484.268', '1056.358', '2113.93', '0.0', '0.0', '0.0', '4938.001', '0.0', '24.495', '0.8415688209222649'),\n",
       " ('266659', 'OJ287', '00030901056', '133.73066', '20.11365', '55153.3938', '57505.0', '5044.759', '4893.122', '5142.0', '55164', '0.0', '982.200165987015', '5064.99705404043', '6047.19722002745', '112', '0.0', '11152.0', '0.0', '6062.4', '5142.0', '3', '35.84651705', '0', 'N', '206.81661881', '8', '56', '56', '00030901056', '30901', 'Swift', '1', '3.17.03', '101.414111790837', '0.0', 'Hea_27Jul2015_V6.17_Swift_Rel4.5(Bld34)_27Jul2015_SDCpatch_1', '55153.9073', '30901', 'N', '410.645', '0.0', '0.0', '0.0', '1191.975', '0.0', '410.656', '410.579', '822.626', '1646.641', '0.0', '0.0', '0.0', '5044.655', '0.0', '0.104', '1.5530373305945173'),\n",
       " ('266687', 'OJ287', '00030901055', '133.72585', '20.11459', '55133.9993', '57504.0', '4894.215', '5014.925', '5182.0', '55144', '5629.99755996466', '499.999983906746', '5129.99757605791', '5629.99755996466', '112', '0.0', '8496.0', '0.0', '5640.0', '5182.0', '2', '35.8425776', '0', 'N', '206.81366131', '7', '55', '55', '00030901055', '30901', 'Swift', '1', '3.17.03', '103.59185676377', '1.0', 'Hea_27Jul2015_V6.17_Swift_Rel4.5(Bld34)_27Jul2015_SDCpatch_1', '55134.2322', '30901', 'N', '422.097', '0.0', '0.0', '0.0', '1212.319', '0.0', '422.197', '422.097', '845.1', '1691.115', '0.0', '0.0', '0.0', '4894.215', '0.0', '0.0', '1.3033278921196005'),\n",
       " ('266744', 'OJ287', '00030901054', '133.72134', '20.11656', '55132.4514', '57504.0', '4857.286', '4762.724', '4928.0', '55143', '0.0', '394.600483953953', '4864.99737608433', '5259.59786003828', '112', '0.0', '8712.0', '0.0', '5275.2', '4928.0', '2', '35.83923696', '0', 'N', '206.80962217', '6', '54', '54', '00030901054', '30901', 'Swift', '1', '3.17.03', '100.195501099287', '0.0', 'Hea_27Jul2015_V6.17_Swift_Rel4.5(Bld34)_27Jul2015_SDCpatch_1', '55132.6991', '30901', 'N', '402.117', '0.0', '0.0', '0.0', '1140.274', '0.0', '402.095', '402.095', '805.05', '1611.093', '0.0', '0.0', '0.0', '4857.286', '0.0', '0.0', '1.1074068827928014'),\n",
       " ('266998', 'OJ287', '00030901053', '133.68364', '20.13617', '55129.7771', '57504.0', '5052.152', '4957.886', '5162.0', '55140', '0.0', '869.395846068859', '5079.99543386698', '5949.39127993584', '112', '0.0', '11560.0', '0.0', '5966.4', '5162.0', '2', '35.81244061', '0', 'N', '206.7722297', '9', '53', '53', '00030901053', '30901', 'Swift', '1', '3.17.03', '116.292539099009', '0.0', 'Hea_27Jul2015_V6.17_Swift_Rel4.5(Bld34)_27Jul2015_SDCpatch_1', '55130.0438', '30901', 'N', '343.113', '0.0', '0.0', '0.0', '947.717', '0.0', '431.564', '343.091', '1521.296', '1371.105', '0.0', '0.0', '0.0', '5052.152', '0.0', '0.0', '2.0058891023723406')]"
      ]
     },
     "execution_count": 58,
     "metadata": {},
     "output_type": "execute_result"
    }
   ],
   "source": [
    "obs_to_explore = [res for res in search_result if res['xrt_exposure'] > 4800]\n",
    "obs_to_explore"
   ]
  },
  {
   "cell_type": "code",
   "execution_count": 59,
   "id": "6d1d1728-9819-4321-af9c-0dbcab7ad53e",
   "metadata": {
    "execution": {
     "iopub.execute_input": "2025-05-21T13:25:26.787991Z",
     "iopub.status.busy": "2025-05-21T13:25:26.785289Z",
     "iopub.status.idle": "2025-05-21T13:25:26.799082Z",
     "shell.execute_reply": "2025-05-21T13:25:26.796951Z",
     "shell.execute_reply.started": "2025-05-21T13:25:26.787929Z"
    }
   },
   "outputs": [
    {
     "data": {
      "text/plain": [
       "('266998', 'OJ287', '00030901053', '133.68364', '20.13617', '55129.7771', '57504.0', '5052.152', '4957.886', '5162.0', '55140', '0.0', '869.395846068859', '5079.99543386698', '5949.39127993584', '112', '0.0', '11560.0', '0.0', '5966.4', '5162.0', '2', '35.81244061', '0', 'N', '206.7722297', '9', '53', '53', '00030901053', '30901', 'Swift', '1', '3.17.03', '116.292539099009', '0.0', 'Hea_27Jul2015_V6.17_Swift_Rel4.5(Bld34)_27Jul2015_SDCpatch_1', '55130.0438', '30901', 'N', '343.113', '0.0', '0.0', '0.0', '947.717', '0.0', '431.564', '343.091', '1521.296', '1371.105', '0.0', '0.0', '0.0', '5052.152', '0.0', '0.0', '2.0058891023723406')"
      ]
     },
     "execution_count": 59,
     "metadata": {},
     "output_type": "execute_result"
    }
   ],
   "source": [
    "obs = obs_to_explore[-1]\n",
    "obs"
   ]
  },
  {
   "cell_type": "code",
   "execution_count": 68,
   "id": "1e4130de-ca36-4b73-9972-b3efe92b33a8",
   "metadata": {
    "execution": {
     "iopub.execute_input": "2025-05-21T13:26:54.183495Z",
     "iopub.status.busy": "2025-05-21T13:26:54.182584Z",
     "iopub.status.idle": "2025-05-21T13:26:59.519845Z",
     "shell.execute_reply": "2025-05-21T13:26:59.518069Z",
     "shell.execute_reply.started": "2025-05-21T13:26:54.183437Z"
    }
   },
   "outputs": [
    {
     "data": {
      "text/html": [
       "<div><i>Table length=6</i>\n",
       "<table id=\"table140165255267488\" class=\"table-striped table-bordered table-condensed\">\n",
       "<thead><tr><th>ID</th><th>access_url</th><th>content_type</th></tr></thead>\n",
       "<thead><tr><th>object</th><th>object</th><th>object</th></tr></thead>\n",
       "<tr><td>ivo://nasa.heasarc/swiftmastr?00030901055</td><td>https://heasarc.gsfc.nasa.gov/xamin/query?table=swiftxrlog&amp;constraint=obsid=&apos;00030901055&apos;</td><td>text/html</td></tr>\n",
       "<tr><td>ivo://nasa.heasarc/swiftmastr?00030901055</td><td>https://heasarc.gsfc.nasa.gov/xamin/bib?table=swiftmastr&amp;id=30901</td><td>text/html</td></tr>\n",
       "<tr><td>ivo://nasa.heasarc/swiftmastr?00030901055</td><td>https://heasarc.gsfc.nasa.gov/xamin/query?table=swiftuvlog&amp;constraint=obsid=&apos;00030901055&apos;</td><td>text/html</td></tr>\n",
       "<tr><td>ivo://nasa.heasarc/swiftmastr?00030901055</td><td>https://heasarc.gsfc.nasa.gov/xamin/query?table=swiftbalog&amp;constraint=obsid=&apos;00030901055&apos;</td><td>text/html</td></tr>\n",
       "<tr><td>ivo://nasa.heasarc/swiftmastr?00030901055</td><td>https://heasarc.gsfc.nasa.gov/xamin/vo/datalink?datalink_key&amp;id=ivo://nasa.heasarc/swiftmastr?00030901055/swift.obs</td><td>application/x-votable+xml;content=datalink</td></tr>\n",
       "<tr><td>ivo://nasa.heasarc/swiftmastr?00030901055</td><td>https://heasarc.gsfc.nasa.gov/FTP/swift/data/obs/2009_10//00030901055/</td><td>directory</td></tr>\n",
       "</table></div>"
      ],
      "text/plain": [
       "<Table length=6>\n",
       "                    ID                    ...\n",
       "                  object                  ...\n",
       "----------------------------------------- ...\n",
       "ivo://nasa.heasarc/swiftmastr?00030901055 ...\n",
       "ivo://nasa.heasarc/swiftmastr?00030901055 ...\n",
       "ivo://nasa.heasarc/swiftmastr?00030901055 ...\n",
       "ivo://nasa.heasarc/swiftmastr?00030901055 ...\n",
       "ivo://nasa.heasarc/swiftmastr?00030901055 ...\n",
       "ivo://nasa.heasarc/swiftmastr?00030901055 ..."
      ]
     },
     "execution_count": 68,
     "metadata": {},
     "output_type": "execute_result"
    }
   ],
   "source": [
    "obs = obs_to_explore[2]\n",
    "obs\n",
    "dlink = obs.getdatalink()\n",
    "\n",
    "# only 3 summary columns are printed\n",
    "dlink.to_table()[['ID', 'access_url', 'content_type']]"
   ]
  },
  {
   "cell_type": "code",
   "execution_count": 69,
   "id": "5bf0619c-b4fd-448a-bb91-afd95b52973d",
   "metadata": {
    "execution": {
     "iopub.execute_input": "2025-05-21T13:27:05.569582Z",
     "iopub.status.busy": "2025-05-21T13:27:05.568711Z",
     "iopub.status.idle": "2025-05-21T13:27:05.579705Z",
     "shell.execute_reply": "2025-05-21T13:27:05.577804Z",
     "shell.execute_reply.started": "2025-05-21T13:27:05.569528Z"
    }
   },
   "outputs": [],
   "source": [
    "# loop through the observations\n",
    "links = []\n",
    "dlink_to_dir = [dl for dl in dlink if dl['content_type'] == 'directory']\n",
    "link = dlink_to_dir[0]['access_url']\n",
    "links.append(link)"
   ]
  },
  {
   "cell_type": "code",
   "execution_count": 70,
   "id": "3b2c6dd7-256d-4c44-8eea-ad43d81cb205",
   "metadata": {
    "execution": {
     "iopub.execute_input": "2025-05-21T13:27:07.549163Z",
     "iopub.status.busy": "2025-05-21T13:27:07.548157Z",
     "iopub.status.idle": "2025-05-21T13:27:12.369679Z",
     "shell.execute_reply": "2025-05-21T13:27:12.367131Z",
     "shell.execute_reply.started": "2025-05-21T13:27:07.549092Z"
    }
   },
   "outputs": [],
   "source": [
    "on_sciserver = os.environ['HOME'].split('/')[-1] == 'idies'\n",
    "\n",
    "if on_sciserver:\n",
    "    # copy data locally on sciserver\n",
    "    for link in links:\n",
    "        os.system(f\"cp -r /FTP/{link.split('FTP')[1]} .\")\n",
    "\n",
    "else:\n",
    "    # use wget to download the data\n",
    "    wget_cmd = (\"wget -q -nH --no-check-certificate --no-parent --cut-dirs=6 -r -l0 -c -N -np -R 'index*'\"\n",
    "                \" -erobots=off --retr-symlinks {}\")\n",
    "\n",
    "    for link in links:\n",
    "        os.system(wget_cmd.format(link))"
   ]
  }
 ],
 "metadata": {
  "kernelspec": {
   "display_name": "(heasoft)",
   "language": "python",
   "name": "conda-env-heasoft-py"
  },
  "language_info": {
   "codemirror_mode": {
    "name": "ipython",
    "version": 3
   },
   "file_extension": ".py",
   "mimetype": "text/x-python",
   "name": "python",
   "nbconvert_exporter": "python",
   "pygments_lexer": "ipython3",
   "version": "3.12.10"
  }
 },
 "nbformat": 4,
 "nbformat_minor": 5
}

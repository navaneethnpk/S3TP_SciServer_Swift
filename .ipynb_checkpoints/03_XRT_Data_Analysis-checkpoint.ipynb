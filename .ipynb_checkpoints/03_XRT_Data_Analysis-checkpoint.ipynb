{
 "cells": [
  {
   "cell_type": "markdown",
   "id": "1ddd73da-3f01-450c-8733-359933c3c863",
   "metadata": {},
   "source": [
    "Swift Data Analysis:  \n",
    "+ Guide to Swift data processing and analysis: [link](https://www.swift.ac.uk/analysis/)\n",
    "+ The SWIFT XRT Data Reduction Guide: [Link](https://swift.gsfc.nasa.gov/analysis/xrt_swguide_v1_2.pdf)"
   ]
  },
  {
   "cell_type": "markdown",
   "id": "1bd7da46-6024-4841-8142-2a87902fd074",
   "metadata": {
    "execution": {
     "iopub.execute_input": "2025-05-22T14:58:19.287763Z",
     "iopub.status.busy": "2025-05-22T14:58:19.285297Z",
     "iopub.status.idle": "2025-05-22T14:58:19.298394Z",
     "shell.execute_reply": "2025-05-22T14:58:19.296207Z",
     "shell.execute_reply.started": "2025-05-22T14:58:19.287644Z"
    }
   },
   "source": [
    "## 1. Module Imports"
   ]
  },
  {
   "cell_type": "code",
   "execution_count": 61,
   "id": "c8f9a8d7-cab9-475f-9625-23e67985a1a7",
   "metadata": {
    "execution": {
     "iopub.execute_input": "2025-05-22T16:22:12.172131Z",
     "iopub.status.busy": "2025-05-22T16:22:12.171335Z",
     "iopub.status.idle": "2025-05-22T16:22:12.183029Z",
     "shell.execute_reply": "2025-05-22T16:22:12.181054Z",
     "shell.execute_reply.started": "2025-05-22T16:22:12.172077Z"
    }
   },
   "outputs": [],
   "source": [
    "import os\n",
    "import sys\n",
    "import glob\n",
    "import shutil\n",
    "import numpy as np\n",
    "import pandas as pd\n",
    "import matplotlib.pyplot as plt\n",
    "from matplotlib.ticker import ScalarFormatter, LogLocator\n",
    "import subprocess\n",
    "from astropy.io import fits\n",
    "from astropy.table import Table"
   ]
  },
  {
   "cell_type": "markdown",
   "id": "7db5021d-1de3-4b4f-abfb-d483c916a146",
   "metadata": {},
   "source": [
    "Setting up observation parameters and creating the output directory."
   ]
  },
  {
   "cell_type": "code",
   "execution_count": 62,
   "id": "882d5b54-07a3-47a2-8862-593611d7f6e0",
   "metadata": {
    "execution": {
     "iopub.execute_input": "2025-05-22T16:22:13.842411Z",
     "iopub.status.busy": "2025-05-22T16:22:13.841552Z",
     "iopub.status.idle": "2025-05-22T16:22:13.852795Z",
     "shell.execute_reply": "2025-05-22T16:22:13.851178Z",
     "shell.execute_reply.started": "2025-05-22T16:22:13.842358Z"
    }
   },
   "outputs": [],
   "source": [
    "obsid = \"00035905082\"\n",
    "ra = 133.703646\n",
    "dec = 20.108511\n",
    "indir  = obsid\n",
    "outdir = f\"{obsid}_OP\"\n",
    "\n",
    "os.makedirs(outdir, exist_ok=True)"
   ]
  },
  {
   "cell_type": "markdown",
   "id": "fc1e94b0-cffb-46c1-8472-a38e5756c6fd",
   "metadata": {
    "execution": {
     "iopub.execute_input": "2025-05-22T15:03:25.172871Z",
     "iopub.status.busy": "2025-05-22T15:03:25.170768Z",
     "iopub.status.idle": "2025-05-22T15:03:25.181514Z",
     "shell.execute_reply": "2025-05-22T15:03:25.179056Z",
     "shell.execute_reply.started": "2025-05-22T15:03:25.172796Z"
    }
   },
   "source": [
    "## 2. XRT PIPELINE"
   ]
  },
  {
   "cell_type": "markdown",
   "id": "08f8f78c-c592-4c27-ba53-49319d0a99fe",
   "metadata": {},
   "source": [
    "This section prepares and runs the `xrtpipeline` tool, which is part of the HEASoft suite and automates the entire data reduction workflow for the Swift X-ray Telescope (XRT). It processes raw Level 1 data files and outputs cleaned and calibrated Level 2 data products (event files, spectra, light curves, images, etc.) ready for scientific analysis.  \n",
    "The pipeline consists of three logical stages:\n",
    "1. Preprocessing and Calibration: This stage handles the preparation and calibration of raw XRT event files and housekeeping (HK) data.\n",
    "2. Screening of Events: This stage filters the calibrated events based on quality and observational parameters. The result is a clean Level 2 event file, filtered and scientifically reliable.\n",
    "3. Scientific Product Generation: This final stage uses the filtered data to generate science-ready products. \n",
    "\n",
    "\n",
    "The command is built as a list of arguments, which can later be executed using Python’s `subprocess.run()`. \n",
    "\n",
    "The `xrtpipeline` runs with the following arguments:  \n",
    "+ `indir`: Specifies the input directory containing the raw observation data. Typically, this is a folder extracted from the Swift data archive.\n",
    "+ `steminputs`: This defines the base filename stem used in the raw data files. For Swift, it's usually sw followed by the observation ID.\n",
    "+ `outdir`: The directory where all processed (cleaned) output files will be saved.\n",
    "+ `srcra`: Right Ascension (RA) of the source in decimal degrees. This is used to center and align data products.\n",
    "+ `srcdec`: Declination (Dec) of the source in decimal degrees. Like RA, it ensures the data is aligned to the correct sky position.\n",
    "+ `createexpomap`:  Instructs the pipeline to generate an exposure map, which is essential for accurate flux estimation.\n",
    "+ `cleanup`: Automatically removes temporary and intermediate files created during processing to save space.\n",
    "+ `clobber`: Allows overwriting of existing output files without prompting.\n",
    "\n",
    "For more detailed information and advanced usage, you can refer to the official [xrtpipeline help documentation](https://heasarc.gsfc.nasa.gov/lheasoft/help/xrtpipeline.html)."
   ]
  },
  {
   "cell_type": "code",
   "execution_count": 93,
   "id": "c7df24b7-334f-4a0a-8a8a-6527615cafb6",
   "metadata": {
    "execution": {
     "iopub.execute_input": "2025-05-22T17:28:21.373615Z",
     "iopub.status.busy": "2025-05-22T17:28:21.372666Z",
     "iopub.status.idle": "2025-05-22T17:28:21.406935Z",
     "shell.execute_reply": "2025-05-22T17:28:21.404788Z",
     "shell.execute_reply.started": "2025-05-22T17:28:21.373551Z"
    }
   },
   "outputs": [
    {
     "name": "stdout",
     "output_type": "stream",
     "text": [
      "xrtpipeline indir=00035905082 steminputs=sw00035905082 outdir=00035905082_OP srcra=133.703646 srcdec=20.108511 createexpomap=yes cleanup=yes clobber=yes\n"
     ]
    }
   ],
   "source": [
    "xrt_cmd = [\n",
    "    \"xrtpipeline\",\n",
    "    f\"indir={indir}\",\n",
    "    f\"steminputs=sw{obsid}\",\n",
    "    f\"outdir={outdir}\",\n",
    "    f\"srcra={ra}\",\n",
    "    f\"srcdec={dec}\",\n",
    "    \"createexpomap=yes\",\n",
    "    \"cleanup=yes\",\n",
    "    \"clobber=yes\"\n",
    "]\n",
    "\n",
    "# # Run the command and redirect output to a log file\n",
    "# with open(\"xrtpipeline.log\", \"w\") as logfile:\n",
    "#     subprocess.run(xrt_cmd, stdout=logfile, stderr=subprocess.STDOUT)\n",
    "\n",
    "xrt_cmd_str = \" \".join(xrt_cmd)\n",
    "print(xrt_cmd_str)"
   ]
  },
  {
   "cell_type": "markdown",
   "id": "7e39c899-4edb-4109-be1b-be6e0ab88001",
   "metadata": {},
   "source": [
    "## 3. XSELECT"
   ]
  },
  {
   "cell_type": "markdown",
   "id": "1d1ed2a2-f3e5-4a69-8695-11d244cf5231",
   "metadata": {},
   "source": [
    "`XSELECT` is a command-line interface tool that is part of the FTOOLS software suite, widely used in X-ray astrophysics data analysis. It provides a versatile environment for handling, filtering, and extracting scientific products from X-ray observational data. XSELECT supports many X-ray missions, including Swift (XRT and UVOT), Chandra, XMM-Newton, Suzaku, and others. [Learn more](https://heasarc.gsfc.nasa.gov/docs/software/ftools/xselect/xsel.html)\n",
    "\n",
    "Here, `XSELECT` is used to generate light curves and spectra from Swift XRT observation. "
   ]
  },
  {
   "cell_type": "markdown",
   "id": "422bd666-c6e1-43bc-8382-504a5e674170",
   "metadata": {},
   "source": [
    "The cleaned event file is essential for generating scientific products. It contains X-ray photon events that have passed through all the necessary screening and calibration processes. This file serves as the primary input for scientific analyses such as creating light curves, spectra, or images. \n",
    "\n",
    "In this step, we are locating the cleaned event file."
   ]
  },
  {
   "cell_type": "code",
   "execution_count": 89,
   "id": "ac2afd0c-df29-430a-b853-cd8f034f67f1",
   "metadata": {
    "execution": {
     "iopub.execute_input": "2025-05-22T17:22:23.946876Z",
     "iopub.status.busy": "2025-05-22T17:22:23.945715Z",
     "iopub.status.idle": "2025-05-22T17:22:23.960641Z",
     "shell.execute_reply": "2025-05-22T17:22:23.958893Z",
     "shell.execute_reply.started": "2025-05-22T17:22:23.946805Z"
    }
   },
   "outputs": [
    {
     "data": {
      "text/plain": [
       "'sw00035905082xpcw3po_cl.evt'"
      ]
     },
     "execution_count": 89,
     "metadata": {},
     "output_type": "execute_result"
    }
   ],
   "source": [
    "cl_evt_files = glob.glob(os.path.join(outdir, \"*xpcw3po_cl.evt\"))[0]\n",
    "cl_evt_file = os.path.basename(cl_evt_files)\n",
    "cl_evt_file"
   ]
  },
  {
   "cell_type": "markdown",
   "id": "254d9611-b005-4834-8d77-5981a3c6fff3",
   "metadata": {
    "execution": {
     "iopub.execute_input": "2025-05-22T16:52:31.218126Z",
     "iopub.status.busy": "2025-05-22T16:52:31.196794Z",
     "iopub.status.idle": "2025-05-22T16:52:31.259511Z",
     "shell.execute_reply": "2025-05-22T16:52:31.256980Z",
     "shell.execute_reply.started": "2025-05-22T16:52:31.217988Z"
    }
   },
   "source": [
    "### 3.1 Lightcurve"
   ]
  },
  {
   "cell_type": "markdown",
   "id": "29263083-9d45-4b14-b332-8fa5afe76557",
   "metadata": {},
   "source": [
    "We are preparing commands to run `XSELECT` for generating the light curve of the observation."
   ]
  },
  {
   "cell_type": "code",
   "execution_count": 69,
   "id": "a7df31d1-0008-46c3-9e23-fc770430ed3b",
   "metadata": {
    "execution": {
     "iopub.execute_input": "2025-05-22T16:23:11.082992Z",
     "iopub.status.busy": "2025-05-22T16:23:11.081788Z",
     "iopub.status.idle": "2025-05-22T16:23:11.094715Z",
     "shell.execute_reply": "2025-05-22T16:23:11.092606Z",
     "shell.execute_reply.started": "2025-05-22T16:23:11.082912Z"
    }
   },
   "outputs": [
    {
     "name": "stdout",
     "output_type": "stream",
     "text": [
      "xsel \n",
      "read event sw00035905082xpcw3po_cl.evt \n",
      "00035905082_OP \n",
      "yes \n",
      "set binsize 10 \n",
      "extract all \n",
      "save all lightcurve \n",
      "exit \n",
      "no\n"
     ]
    }
   ],
   "source": [
    "xselect_lc_cmd = f\"\"\"\n",
    "xsel\n",
    "read event {cl_evt_file}\n",
    "{outdir}\n",
    "yes\n",
    "set binsize 10\n",
    "extract all\n",
    "save all lightcurve\n",
    "exit\n",
    "no\n",
    "\"\"\"\n",
    "\n",
    "print(\" \\n\".join(line.strip() for line in xselect_lc_cmd.strip().splitlines()))"
   ]
  },
  {
   "cell_type": "markdown",
   "id": "fbfc9f40-6ba1-42de-80bb-c226be58fd7e",
   "metadata": {},
   "source": [
    "You can automate `XSELECT` by preparing a sequence of commands as a multiline string (or saving them into a file) and then passing them as input to the `XSELECT` process."
   ]
  },
  {
   "cell_type": "code",
   "execution_count": 70,
   "id": "f424a6f8-c4d6-4ae8-bb33-473da9f50c8e",
   "metadata": {
    "execution": {
     "iopub.execute_input": "2025-05-22T16:23:13.776060Z",
     "iopub.status.busy": "2025-05-22T16:23:13.774097Z",
     "iopub.status.idle": "2025-05-22T16:23:18.116841Z",
     "shell.execute_reply": "2025-05-22T16:23:18.113853Z",
     "shell.execute_reply.started": "2025-05-22T16:23:13.775972Z"
    },
    "scrolled": true
   },
   "outputs": [
    {
     "name": "stdout",
     "output_type": "stream",
     "text": [
      " \n",
      "                         **  XSELECT V2.5c  **\n",
      " \n",
      "> Enter session name >[xsel12436] \n",
      "xsel12436:XRISM > xsel\n",
      " Command not found; type ? for a command listing\n",
      "xsel12436:XRISM > read event sw00035905082xpcw3po_cl.evt\n",
      "> Enter the Event file dir >[00035905082_OP] 00035905082_OP\n",
      "Got new mission: SWIFT\n",
      "> Reset the mission ? >[yes] yes\n",
      " \n",
      " \n",
      "        OBJECT      OBS_ID      DATE-OBS                 DATAMODE\n",
      "      1 OJ287       00035905082 2020-06-05T08:55:17.5842 PHOTON\n",
      " \n",
      " Notes: XSELECT set up for      SWIFT\n",
      " Time keyword is TIME       in units of s\n",
      " Default timing binsize =   5.0000\n",
      " \n",
      "Setting...\n",
      " Image  keywords   = X          Y           with binning =    1\n",
      " WMAP   keywords   = X          Y           with binning =    1\n",
      " Energy keyword   = PI                     with binning =    1\n",
      " \n",
      "Getting Min and Max for Energy Column...\n",
      "Got min and max for PI:     0   1023\n",
      " \n",
      "Got the minimum time resolution of the read data:   2.5073\n",
      "MJDREF =  5.1910000742870E+04 with TIMESYS = TT\n",
      " Number of files read in:            1\n",
      " \n",
      "******************** Observation Catalogue ********************\n",
      " \n",
      "Data Directory is: /home/idies/workspace/Storage/navaneethpk/persistent/S3TP_SciServer_Swift/00035905082_OP/\n",
      "HK Directory is: /home/idies/workspace/Storage/navaneethpk/persistent/S3TP_SciServer_Swift/00035905082_OP/\n",
      " \n",
      "xsel12436:SWIFT-XRT-PHOTON > set binsize 10\n",
      "xsel12436:SWIFT-XRT-PHOTON > extract all\n",
      "extractor v6.17    25 Mar 2025\n",
      " Getting FITS WCS Keywords\n",
      " Doing file: /home/idies/workspace/Storage/navaneethpk/persistent/S3TP_SciServer_Swift/00035905082_OP/sw00035905082xpcw3po_cl.evt\n",
      "100% completed\n",
      "          Total      Good    Bad: Time     Phase     Grade       Cut\n",
      "            571       571            0         0         0         0\n",
      "===============================================================================\n",
      "    Grand Total      Good    Bad: Time     Phase     Grade       Cut\n",
      "            571       571            0         0         0         0\n",
      "   in  1038.0     seconds\n",
      " Fits light curve has   571.0     counts for  0.5501     counts/sec\n",
      "Keyword TLM2FITS has two values: 'V6.4' and 'V6.4    '\n",
      " Spectrum         has      571 counts for  0.5501     counts/sec\n",
      "Keyword TLM2FITS has two values: 'V6.4' and 'V6.4    '\n",
      " ... wrote the PHA data Extension\n",
      " Image            has      571 counts for  0.5501     counts/sec\n",
      "Keyword TLM2FITS has two values: 'V6.4' and 'V6.4    '\n",
      "xsel12436:SWIFT-XRT-PHOTON > save all lightcurve\n",
      " \n",
      "Saving the Spectrum:\n",
      "Wrote spectrum to lightcurve.pha\n",
      " \n",
      "Saving the Image:\n",
      "Wrote image to file lightcurve.img\n",
      " \n",
      "Saving the Light Curve:\n",
      "Wrote FITS light curve to file lightcurve.lc\n",
      "xsel12436:SWIFT-XRT-PHOTON > exit\n",
      "> Save this session? >[no] no\n"
     ]
    }
   ],
   "source": [
    "lc_process = subprocess.run([\"bash\", \"-c\", \"xselect\"], input=xselect_lc_cmd, text=True)"
   ]
  },
  {
   "cell_type": "markdown",
   "id": "e23aac36-20ac-4710-922f-edaac44a9bc6",
   "metadata": {},
   "source": [
    "Tidying up by moving all XSELECT-generated lightcurve files and the log file into a dedicated folder."
   ]
  },
  {
   "cell_type": "code",
   "execution_count": 71,
   "id": "0dab3f3a-bd3a-49e5-9fb5-7703d37720bb",
   "metadata": {
    "execution": {
     "iopub.execute_input": "2025-05-22T16:23:23.233849Z",
     "iopub.status.busy": "2025-05-22T16:23:23.232867Z",
     "iopub.status.idle": "2025-05-22T16:23:23.273123Z",
     "shell.execute_reply": "2025-05-22T16:23:23.271376Z",
     "shell.execute_reply.started": "2025-05-22T16:23:23.233779Z"
    }
   },
   "outputs": [],
   "source": [
    "lcdir = f\"{obsid}_LC\"\n",
    "os.makedirs(lcdir, exist_ok=True)\n",
    "\n",
    "for file in glob.glob(\"lightcurve*\"):\n",
    "    shutil.move(file, lcdir)\n",
    "\n",
    "logfile = \"xselect.log\"\n",
    "if os.path.isfile(logfile):\n",
    "    shutil.move(logfile, lcdir)"
   ]
  },
  {
   "cell_type": "markdown",
   "id": "e552a168-34ec-407d-aab2-fede76b789ce",
   "metadata": {},
   "source": [
    "Now, let’s examine the lightcurve file, `lightcurve.lc`, which contains the extracted timing data for the observation. \n",
    "\n",
    "This FITS file consists of multiple Header/Data Units (`HDUs`), including: \n",
    "1. `PRIMARY`: The main header with metadata about the file.\n",
    "2. `RATE`: A binary table containing the actual lightcurve data.\n",
    "3. `GTI`: The Good Time Intervals (GTI) during which the data is considered reliable and free from interruptions or instrumental issues.\n",
    "\n",
    "We focus on the `RATE` table, which contains the measured count rates and associated information. This table has four columns:\n",
    "+ `TIME`: The start time of each bin in seconds relative to the beginning of the observation.\n",
    "+ `RATE`: The observed count rate (counts per second) in that time bin, representing the brightness of the source.\n",
    "+ `ERROR`: The statistical uncertainty in the count rate, reflecting the measurement error.\n",
    "+ `FRACEXP`: The fractional exposure time, indicating the portion of the time bin during which the detector was actively collecting data (ranges from 0 to 1).\n",
    "\n",
    "The `GTI` table lists time intervals when the data is valid and uncontaminated by instrumental effects or observational gaps. These intervals ensure that the analysis only uses high-quality data."
   ]
  },
  {
   "cell_type": "code",
   "execution_count": 72,
   "id": "23bea86c-674a-4c9d-8531-05a5930c80b1",
   "metadata": {
    "execution": {
     "iopub.execute_input": "2025-05-22T16:23:33.726686Z",
     "iopub.status.busy": "2025-05-22T16:23:33.725941Z",
     "iopub.status.idle": "2025-05-22T16:23:33.773653Z",
     "shell.execute_reply": "2025-05-22T16:23:33.771715Z",
     "shell.execute_reply.started": "2025-05-22T16:23:33.726633Z"
    }
   },
   "outputs": [
    {
     "name": "stdout",
     "output_type": "stream",
     "text": [
      "Filename: 00035905082_LC/lightcurve.lc\n",
      "No.    Name      Ver    Type      Cards   Dimensions   Format\n",
      "  0  PRIMARY       1 PrimaryHDU     756   ()      \n",
      "  1  RATE          1 BinTableHDU    693   104R x 4C   [D, E, E, E]   \n",
      "  2  GTI           1 BinTableHDU     55   1R x 2C   [1D, 1D]   \n",
      " TIME     RATE     ERROR    FRACEXP\n",
      "------ --------- ---------- -------\n",
      "   0.0       0.7 0.26457512     1.0\n",
      "  10.0       0.6 0.24494898     1.0\n",
      "  20.0       0.1        0.1     1.0\n",
      "  30.0       0.5  0.2236068     1.0\n",
      "  40.0       0.2 0.14142135     1.0\n",
      "  50.0       0.6 0.24494898     1.0\n",
      "  60.0       0.3 0.17320508     1.0\n",
      "  70.0       0.5  0.2236068     1.0\n",
      "  80.0       0.4        0.2     1.0\n",
      "  90.0       0.9        0.3     1.0\n",
      "   ...       ...        ...     ...\n",
      " 940.0       0.3 0.17320508     1.0\n",
      " 950.0       0.6 0.24494898     1.0\n",
      " 960.0       0.7 0.26457512     1.0\n",
      " 970.0       0.6 0.24494898     1.0\n",
      " 980.0       0.7 0.26457512     1.0\n",
      " 990.0       0.4        0.2     1.0\n",
      "1000.0       1.1 0.33166248     1.0\n",
      "1010.0       0.3 0.17320508     1.0\n",
      "1020.0       0.6 0.24494898     1.0\n",
      "1030.0 1.2465409 0.39419085 0.80222\n",
      "Length = 104 rows\n"
     ]
    }
   ],
   "source": [
    "lc_file = f\"{lcdir}/lightcurve.lc\"\n",
    "\n",
    "with fits.open(lc_file) as hdul:\n",
    "    hdul.info() # Print info about all HDUs\n",
    "    rate_hdu = hdul[1]\n",
    "    rate_table = Table(rate_hdu.data)\n",
    "print(rate_table)"
   ]
  },
  {
   "cell_type": "markdown",
   "id": "a79bcc5a-bc73-416b-8fe8-572bd6c24f2f",
   "metadata": {},
   "source": [
    "Now, let’s plot the lightcurve to visualize the source’s brightness variation over time."
   ]
  },
  {
   "cell_type": "code",
   "execution_count": 79,
   "id": "eb2699e2-5bef-48cb-a6c7-02feb31bdc03",
   "metadata": {
    "execution": {
     "iopub.execute_input": "2025-05-22T16:26:33.273886Z",
     "iopub.status.busy": "2025-05-22T16:26:33.272972Z",
     "iopub.status.idle": "2025-05-22T16:26:33.824838Z",
     "shell.execute_reply": "2025-05-22T16:26:33.822792Z",
     "shell.execute_reply.started": "2025-05-22T16:26:33.273830Z"
    },
    "scrolled": true
   },
   "outputs": [
    {
     "data": {
      "image/png": "[encoded data removed]",
      "text/plain": [
       "<Figure size 1000x600 with 1 Axes>"
      ]
     },
     "metadata": {},
     "output_type": "display_data"
    }
   ],
   "source": [
    "time = rate_table['TIME']\n",
    "rate = rate_table['RATE']\n",
    "error = rate_table['ERROR']\n",
    "\n",
    "plt.figure(figsize=(10, 6))\n",
    "plt.errorbar(time, rate, yerr=error, fmt='o', markersize=3, color='blue', ecolor='lightblue', capsize=2)\n",
    "plt.xlabel('Time (s)', fontsize=12)\n",
    "plt.ylabel('Rate (count/s)', fontsize=12)\n",
    "plt.title('Lightcurve: OJ 287')\n",
    "plt.tick_params(axis=\"both\", direction=\"in\", length=3, width=0.5, colors=\"black\", pad=4, which=\"both\", labelsize=10)\n",
    "plt.tight_layout()\n",
    "plt.show()"
   ]
  },
  {
   "cell_type": "markdown",
   "id": "6988bac8-6e6c-4b22-acfd-a27de60afa6f",
   "metadata": {},
   "source": [
    "### 3.2 Spectrum"
   ]
  },
  {
   "cell_type": "markdown",
   "id": "6892b3ed-942f-4b27-b274-ff679742bd00",
   "metadata": {},
   "source": [
    "To generate the spectrum, we first need to create region files for both the source and the background using the `DS9` software.\n",
    "\n",
    "**SAOImageDS9** is a astronomical imaging and data visualization tool widely used by astronomers. It allows users to display and analyze FITS images, create and edit region files, overlay multiple datasets, and perform various interactive operations. DS9 supports advanced features such as coordinate grids, scaling, color maps, and region-based filtering, making it an essential tool for preparing and inspecting data before further analysis like spectral extraction. [Learn more](https://sites.google.com/cfa.harvard.edu/saoimageds9)\n",
    "\n",
    "Let's make regions files here in python and verify it in DS9."
   ]
  },
  {
   "cell_type": "code",
   "execution_count": 84,
   "id": "f0841be9-aadc-4cba-ab46-4447c967dbf3",
   "metadata": {
    "execution": {
     "iopub.execute_input": "2025-05-22T17:06:19.060627Z",
     "iopub.status.busy": "2025-05-22T17:06:19.059588Z",
     "iopub.status.idle": "2025-05-22T17:06:19.108784Z",
     "shell.execute_reply": "2025-05-22T17:06:19.106708Z",
     "shell.execute_reply.started": "2025-05-22T17:06:19.060569Z"
    }
   },
   "outputs": [],
   "source": [
    "# write region files\n",
    "region = \"\"\"# Region file format: DS9 version 4.1\n",
    "global color=green dashlist=8 3 width=1 font=\"helvetica 10 normal roman\" select=1 highlite=1 dash=0 fixed=0 edit=1 move=1 delete=1 include=1 source=1\n",
    "fk5\n",
    "circle(133.7036000,20.1085000,40.000\") # text={src}\n",
    "\"\"\"\n",
    "with open('src.reg', 'w') as fp: fp.write(region)\n",
    "\n",
    "region = \"\"\"# Region file format: DS9 version 4.1\n",
    "global color=green dashlist=8 3 width=1 font=\"helvetica 10 normal roman\" select=1 highlite=1 dash=0 fixed=0 edit=1 move=1 delete=1 include=1 source=1\n",
    "fk5\n",
    "circle(133.6291073,20.0514248,100.000\") # text={bkg}\n",
    "\"\"\"\n",
    "with open('bkg.reg', 'w') as fp: fp.write(region)"
   ]
  },
  {
   "cell_type": "markdown",
   "id": "6cb09bd5-1abf-4d6d-85fd-9d923123bc7e",
   "metadata": {},
   "source": [
    "We are preparing commands to run `XSELECT` for generating the spectrum of the observation."
   ]
  },
  {
   "cell_type": "code",
   "execution_count": 87,
   "id": "8b92e5b8-f92d-4d03-bea6-9fe62747086d",
   "metadata": {
    "execution": {
     "iopub.execute_input": "2025-05-22T17:18:33.576641Z",
     "iopub.status.busy": "2025-05-22T17:18:33.575695Z",
     "iopub.status.idle": "2025-05-22T17:18:33.590247Z",
     "shell.execute_reply": "2025-05-22T17:18:33.587901Z",
     "shell.execute_reply.started": "2025-05-22T17:18:33.576585Z"
    }
   },
   "outputs": [
    {
     "name": "stdout",
     "output_type": "stream",
     "text": [
      "xsel \n",
      "read event sw00035905082xpcw3po_cl.evt \n",
      "00035905082_OP \n",
      "yes \n",
      "extract image \n",
      "filter region src.reg \n",
      "extract spectrum \n",
      "save spectrum spec.pi \n",
      "clear region \n",
      "filter region bkg.reg \n",
      "extract spectrum \n",
      "save spectrum spec_bkg.pi \n",
      "exit \n",
      "no\n"
     ]
    }
   ],
   "source": [
    "xselect_spec_cmd = f\"\"\"\n",
    "xsel\n",
    "read event {cl_evt_file}\n",
    "{outdir}\n",
    "yes\n",
    "extract image\n",
    "filter region src.reg\n",
    "extract spectrum\n",
    "save spectrum spec.pi\n",
    "clear region\n",
    "filter region bkg.reg\n",
    "extract spectrum\n",
    "save spectrum spec_bkg.pi\n",
    "exit\n",
    "no\n",
    "\"\"\"\n",
    "\n",
    "print(\" \\n\".join(line.strip() for line in xselect_spec_cmd.strip().splitlines()))"
   ]
  },
  {
   "cell_type": "code",
   "execution_count": 88,
   "id": "9c022070-e1fe-425f-aba9-7035fe729e51",
   "metadata": {
    "execution": {
     "iopub.execute_input": "2025-05-22T17:19:28.998041Z",
     "iopub.status.busy": "2025-05-22T17:19:28.997174Z",
     "iopub.status.idle": "2025-05-22T17:19:34.967766Z",
     "shell.execute_reply": "2025-05-22T17:19:34.965521Z",
     "shell.execute_reply.started": "2025-05-22T17:19:28.997985Z"
    },
    "scrolled": true
   },
   "outputs": [
    {
     "name": "stdout",
     "output_type": "stream",
     "text": [
      " \n",
      "                         **  XSELECT V2.5c  **\n",
      " \n",
      "> Enter session name >[xsel12436] \n",
      "xsel12436:XRISM > xsel\n",
      " Command not found; type ? for a command listing\n",
      "xsel12436:XRISM > read event sw00035905082xpcw3po_cl.evt\n",
      "> Enter the Event file dir >[00035905082_OP] 00035905082_OP\n",
      "Got new mission: SWIFT\n",
      "> Reset the mission ? >[yes] yes\n",
      " \n",
      " \n",
      "        OBJECT      OBS_ID      DATE-OBS                 DATAMODE\n",
      "      1 OJ287       00035905082 2020-06-05T08:55:17.5842 PHOTON\n",
      " \n",
      " Notes: XSELECT set up for      SWIFT\n",
      " Time keyword is TIME       in units of s\n",
      " Default timing binsize =   5.0000\n",
      " \n",
      "Setting...\n",
      " Image  keywords   = X          Y           with binning =    1\n",
      " WMAP   keywords   = X          Y           with binning =    1\n",
      " Energy keyword   = PI                     with binning =    1\n",
      " \n",
      "Getting Min and Max for Energy Column...\n",
      "Got min and max for PI:     0   1023\n",
      " \n",
      "Got the minimum time resolution of the read data:   2.5073\n",
      "MJDREF =  5.1910000742870E+04 with TIMESYS = TT\n",
      " Number of files read in:            1\n",
      " \n",
      "******************** Observation Catalogue ********************\n",
      " \n",
      "Data Directory is: /home/idies/workspace/Storage/navaneethpk/persistent/S3TP_SciServer_Swift/00035905082_OP/\n",
      "HK Directory is: /home/idies/workspace/Storage/navaneethpk/persistent/S3TP_SciServer_Swift/00035905082_OP/\n",
      " \n",
      "xsel12436:SWIFT-XRT-PHOTON > extract image\n",
      "extractor v6.17    25 Mar 2025\n",
      " Getting FITS WCS Keywords\n",
      " Doing file: /home/idies/workspace/Storage/navaneethpk/persistent/S3TP_SciServer_Swift/00035905082_OP/sw00035905082xpcw3po_cl.evt\n",
      "100% completed\n",
      "          Total      Good    Bad: Time     Phase     Grade       Cut\n",
      "            571       571            0         0         0         0\n",
      "===============================================================================\n",
      "    Grand Total      Good    Bad: Time     Phase     Grade       Cut\n",
      "            571       571            0         0         0         0\n",
      "   in  1038.0     seconds\n",
      " Image            has      571 counts for  0.5501     counts/sec\n",
      "Keyword TLM2FITS has two values: 'V6.4' and 'V6.4    '\n",
      "xsel12436:SWIFT-XRT-PHOTON > filter region src.reg\n",
      "xsel12436:SWIFT-XRT-PHOTON > extract spectrum\n",
      "extractor v6.17    25 Mar 2025\n",
      " Getting FITS WCS Keywords\n",
      " Doing file: /home/idies/workspace/Storage/navaneethpk/persistent/S3TP_SciServer_Swift/00035905082_OP/sw00035905082xpcw3po_cl.evt[regfilter(\"xsel12436_region.xsl\",X,Y)]\n",
      "100% completed\n",
      "          Total      Good    Bad: Time     Phase     Grade       Cut\n",
      "            317       317            0         0         0         0\n",
      "===============================================================================\n",
      "    Grand Total      Good    Bad: Time     Phase     Grade       Cut\n",
      "            317       317            0         0         0         0\n",
      "   in  1038.0     seconds\n",
      " Spectrum         has      317 counts for  0.3054     counts/sec\n",
      "Keyword TLM2FITS has two values: 'V6.4' and 'V6.4    '\n",
      " ... wrote the PHA data Extension\n",
      "xsel12436:SWIFT-XRT-PHOTON > save spectrum spec.pi\n",
      "Wrote spectrum to spec.pi\n",
      "xsel12436:SWIFT-XRT-PHOTON > clear region\n",
      "xsel12436:SWIFT-XRT-PHOTON > filter region bkg.reg\n",
      "xsel12436:SWIFT-XRT-PHOTON > extract spectrum\n",
      "extractor v6.17    25 Mar 2025\n",
      " Getting FITS WCS Keywords\n",
      " Doing file: /home/idies/workspace/Storage/navaneethpk/persistent/S3TP_SciServer_Swift/00035905082_OP/sw00035905082xpcw3po_cl.evt[regfilter(\"xsel12436_region.xsl\",X,Y)]\n",
      "100% completed\n",
      "          Total      Good    Bad: Time     Phase     Grade       Cut\n",
      "              2         2            0         0         0         0\n",
      "===============================================================================\n",
      "    Grand Total      Good    Bad: Time     Phase     Grade       Cut\n",
      "              2         2            0         0         0         0\n",
      "   in  1038.0     seconds\n",
      " Spectrum         has        2 counts for  1.9267E-03 counts/sec\n",
      "Keyword TLM2FITS has two values: 'V6.4' and 'V6.4    '\n",
      " ... wrote the PHA data Extension\n",
      "xsel12436:SWIFT-XRT-PHOTON > save spectrum spec_bkg.pi\n",
      "Wrote spectrum to spec_bkg.pi\n",
      "xsel12436:SWIFT-XRT-PHOTON > exit\n",
      "> Save this session? >[no] no\n"
     ]
    }
   ],
   "source": [
    "spec_process = subprocess.run([\"bash\", \"-c\", \"xselect\"], input=xselect_spec_cmd, text=True)"
   ]
  },
  {
   "cell_type": "markdown",
   "id": "58644b9e-a3bf-4c13-b53a-0e05edbd15bf",
   "metadata": {},
   "source": [
    "In this step, we are locating the Exposure map file.\n",
    "\n",
    "This file stores exposure maps, which quantify how much time each pixel was exposed during the observation. It’s critical for image and spectral analysis to correct for instrumental effects like vignetting or bad pixels."
   ]
  },
  {
   "cell_type": "code",
   "execution_count": 107,
   "id": "5755b94c-1b02-4705-bb54-00daf79f4118",
   "metadata": {
    "execution": {
     "iopub.execute_input": "2025-05-22T17:44:29.535645Z",
     "iopub.status.busy": "2025-05-22T17:44:29.532540Z",
     "iopub.status.idle": "2025-05-22T17:44:29.547425Z",
     "shell.execute_reply": "2025-05-22T17:44:29.545439Z",
     "shell.execute_reply.started": "2025-05-22T17:44:29.535587Z"
    }
   },
   "outputs": [
    {
     "data": {
      "text/plain": [
       "'00035905082_OP/sw00035905082xpcw3po_ex.img'"
      ]
     },
     "execution_count": 107,
     "metadata": {},
     "output_type": "execute_result"
    }
   ],
   "source": [
    "ex_img_files = glob.glob(os.path.join(outdir, \"*xpcw3po_ex.img\"))[0]\n",
    "ex_img_files"
   ]
  },
  {
   "cell_type": "code",
   "execution_count": 111,
   "id": "2a7f9859-d7df-411c-80f6-25a84c066eee",
   "metadata": {
    "execution": {
     "iopub.execute_input": "2025-05-22T17:47:40.256298Z",
     "iopub.status.busy": "2025-05-22T17:47:40.255478Z",
     "iopub.status.idle": "2025-05-22T17:47:40.287354Z",
     "shell.execute_reply": "2025-05-22T17:47:40.279625Z",
     "shell.execute_reply.started": "2025-05-22T17:47:40.256244Z"
    }
   },
   "outputs": [
    {
     "name": "stdout",
     "output_type": "stream",
     "text": [
      "xrtmkarf outfile=spec.arf phafile=spec.pi expofile=00035905082_OP/sw00035905082xpcw3po_ex.img srcx=-1 srcy=-1 psfflag=yes cleanup=yes clobber=yes\n"
     ]
    }
   ],
   "source": [
    "arf_cmd = [\n",
    "    \"xrtmkarf\",\n",
    "    \"outfile=spec.arf\",\n",
    "    \"phafile=spec.pi\",\n",
    "    f\"expofile={ex_img_files}\",\n",
    "    \"srcx=-1\",\n",
    "    \"srcy=-1\",\n",
    "    \"psfflag=yes\",\n",
    "    \"cleanup=yes\",\n",
    "    \"clobber=yes\"\n",
    "]\n",
    "\n",
    "arf_cmd_str = \" \".join(arf_cmd)\n",
    "print(arf_cmd_str)"
   ]
  },
  {
   "cell_type": "code",
   "execution_count": 115,
   "id": "3ece54e6-6c2e-4f24-9d61-467b2b074447",
   "metadata": {
    "execution": {
     "iopub.execute_input": "2025-05-22T17:52:07.908468Z",
     "iopub.status.busy": "2025-05-22T17:52:07.906973Z",
     "iopub.status.idle": "2025-05-22T17:52:08.050748Z",
     "shell.execute_reply": "2025-05-22T17:52:08.049058Z",
     "shell.execute_reply.started": "2025-05-22T17:52:07.908386Z"
    }
   },
   "outputs": [],
   "source": [
    "pha_file = \"spec.pi\"\n",
    "with fits.open(pha_file, mode='update') as hdul:\n",
    "    hdr = hdul[1].header\n",
    "    hdr['BACKFILE'] = 'spec_bkg.pi'\n",
    "    hdr['ANCRFILE'] = 'spec.arf'\n",
    "    hdr['RESPFILE'] = 'rspdata/swxpc0to12s6_20010101v011.rmf'\n",
    "    hdul.flush()"
   ]
  },
  {
   "cell_type": "code",
   "execution_count": null,
   "id": "7b0b15af-d38b-4fc4-bf6f-3443357d5ecb",
   "metadata": {},
   "outputs": [],
   "source": []
  },
  {
   "cell_type": "code",
   "execution_count": null,
   "id": "dd4b527b-8e7c-41dd-8b8e-b874f0ccb075",
   "metadata": {},
   "outputs": [],
   "source": []
  },
  {
   "cell_type": "code",
   "execution_count": null,
   "id": "d0e2cbd1-9b9d-4f5d-a0fe-9b619286227f",
   "metadata": {},
   "outputs": [],
   "source": []
  },
  {
   "cell_type": "code",
   "execution_count": 116,
   "id": "11d13b25-531c-445d-b218-30c0853c6414",
   "metadata": {
    "execution": {
     "iopub.execute_input": "2025-05-22T17:52:09.499190Z",
     "iopub.status.busy": "2025-05-22T17:52:09.498300Z",
     "iopub.status.idle": "2025-05-22T17:52:10.421805Z",
     "shell.execute_reply": "2025-05-22T17:52:10.419144Z",
     "shell.execute_reply.started": "2025-05-22T17:52:09.499133Z"
    }
   },
   "outputs": [
    {
     "name": "stdout",
     "output_type": "stream",
     "text": [
      "Logging to file: xspec.log\n",
      "***Warning: Detected response matrix energy = 0 for the lower edge of bin 0\n",
      "     XSPEC will instead use 5e-06 (response file will not be altered)\n",
      "\n",
      "1 spectrum  in use\n",
      " \n",
      "Spectral Data File: spec.pi  Spectrum 1\n",
      "Net count rate (cts/s) for Spectrum:1  3.063e-01 +/- 1.722e-02 (99.9 % total)\n",
      " Assigned to Data Group 1 and Plot Group 1\n",
      "  Noticed Channels:  1-1024\n",
      "  Telescope: SWIFT Instrument: XRT  Channel Type: PI\n",
      "  Exposure Time: 1034 sec\n",
      " Using fit statistic: chi\n",
      " Using Background File                spec_bkg.pi\n",
      "  Background Exposure Time: 1034 sec\n",
      " Using Response (RMF) File            rspdata/swxpc0to12s6_20010101v011.rmf for Source 1\n",
      " Using Auxiliary Response (ARF) File  spec.arf\n",
      " Grouping data :\n",
      "   1024 channels grouped to 1024\n",
      "        1 ++++++++++++++++++++++++++++++++++++++++++++++++++\n",
      "       51 ++++++++++++++++++++++++++++++++++++++++++++++++++\n",
      "      101 ++++++++++++++++++++++++++++++++++++++++++++++++++\n",
      "      151 ++++++++++++++++++++++++++++++++++++++++++++++++++\n",
      "      201 ++++++++++++++++++++++++++++++++++++++++++++++++++\n",
      "      251 ++++++++++++++++++++++++++++++++++++++++++++++++++\n",
      "      301 ++++++++++++++++++++++++++++++++++++++++++++++++++\n",
      "      351 ++++++++++++++++++++++++++++++++++++++++++++++++++\n",
      "      401 ++++++++++++++++++++++++++++++++++++++++++++++++++\n",
      "      451 ++++++++++++++++++++++++++++++++++++++++++++++++++\n",
      "      501 ++++++++++++++++++++++++++++++++++++++++++++++++++\n",
      "      551 ++++++++++++++++++++++++++++++++++++++++++++++++++\n",
      "      601 ++++++++++++++++++++++++++++++++++++++++++++++++++\n",
      "      651 ++++++++++++++++++++++++++++++++++++++++++++++++++\n",
      "      701 ++++++++++++++++++++++++++++++++++++++++++++++++++\n",
      "      751 ++++++++++++++++++++++++++++++++++++++++++++++++++\n",
      "      801 ++++++++++++++++++++++++++++++++++++++++++++++++++\n",
      "      851 ++++++++++++++++++++++++++++++++++++++++++++++++++\n",
      "      901 ++++++++++++++++++++++++++++++++++++++++++++++++++\n",
      "      951 ++++++++++++++++++++++++++++++++++++++++++++++++++\n",
      "     1001 ++++++++++++++++++++++++\n",
      "\n",
      "\n",
      "Fit statistic  : Chi-Squared                  319.07     using 1024 bins.\n",
      "\n",
      "***Warning: Chi-square may not be valid due to bins with zero variance\n",
      "            in spectrum number: 1\n",
      "\n",
      "Test statistic : Chi-Squared                  319.07     using 1024 bins.\n",
      "\n",
      "***Warning: Chi-square may not be valid due to bins with zero variance\n",
      "            in spectrum number(s): 1 \n",
      "\n",
      " Null hypothesis probability of 1.00e+00 with 1022 degrees of freedom\n",
      " Current data and model not fit yet.\n",
      "Response successfully loaded.\n",
      "\n",
      "Fit statistic  : Chi-Squared                  315.99     using 1024 bins.\n",
      "\n",
      "***Warning: Chi-square may not be valid due to bins with zero variance\n",
      "            in spectrum number: 1\n",
      "\n",
      "Test statistic : Chi-Squared                  315.99     using 1024 bins.\n",
      "\n",
      "***Warning: Chi-square may not be valid due to bins with zero variance\n",
      "            in spectrum number(s): 1 \n",
      "\n",
      " Null hypothesis probability of 1.00e+00 with 1022 degrees of freedom\n",
      " Current data and model not fit yet.\n",
      "Arf successfully loaded.\n",
      "\n",
      "Fit statistic  : Chi-Squared                  319.07     using 1024 bins.\n",
      "\n",
      "***Warning: Chi-square may not be valid due to bins with zero variance\n",
      "            in spectrum number: 1\n",
      "\n",
      "Test statistic : Chi-Squared                  319.07     using 1024 bins.\n",
      "\n",
      "***Warning: Chi-square may not be valid due to bins with zero variance\n",
      "            in spectrum number(s): 1 \n",
      "\n",
      " Null hypothesis probability of 1.00e+00 with 1022 degrees of freedom\n",
      " Current data and model not fit yet.\n",
      "Net count rate (cts/s) for Spectrum:1  3.063e-01 +/- 1.722e-02 (99.9 % total)\n",
      "\n",
      "Fit statistic  : Chi-Squared                  319.07     using 1024 bins.\n",
      "\n",
      "***Warning: Chi-square may not be valid due to bins with zero variance\n",
      "            in spectrum number: 1\n",
      "\n",
      "Test statistic : Chi-Squared                  319.07     using 1024 bins.\n",
      "\n",
      "***Warning: Chi-square may not be valid due to bins with zero variance\n",
      "            in spectrum number(s): 1 \n",
      "\n",
      " Null hypothesis probability of 1.00e+00 with 1022 degrees of freedom\n",
      " Current data and model not fit yet.\n",
      "\n",
      "ignore:     0 channels ignored from  source number 1\n",
      "Fit statistic  : Chi-Squared                  319.07     using 1024 bins.\n",
      "\n",
      "***Warning: Chi-square may not be valid due to bins with zero variance\n",
      "            in spectrum number: 1\n",
      "\n",
      "Test statistic : Chi-Squared                  319.07     using 1024 bins.\n",
      "\n",
      "***Warning: Chi-square may not be valid due to bins with zero variance\n",
      "            in spectrum number(s): 1 \n",
      "\n",
      " Null hypothesis probability of 1.00e+00 with 1022 degrees of freedom\n",
      " Current data and model not fit yet.\n",
      "\n",
      "     1 channels (1) ignored in spectrum #     1\n",
      "  1024 channels (1-1024) ignored in spectrum #     1\n",
      "Ill-formed Fit problem - number of variable parameters exceeds number of bins\n",
      "\n",
      "\n",
      "========================================================================\n",
      "Model TBabs<1>*powerlaw<2> Source No.: 1   Active/On\n",
      "Model Model Component  Parameter  Unit     Value\n",
      " par  comp\n",
      "   1    1   TBabs      nH         10^22    1.00000      +/-  0.0          \n",
      "   2    2   powerlaw   PhoIndex            1.00000      +/-  0.0          \n",
      "   3    2   powerlaw   norm                1.00000      +/-  0.0          \n",
      "________________________________________________________________________\n",
      "\n",
      "Ill-formed Fit problem - number of variable parameters exceeds number of bins\n",
      "Ill-formed Fit problem - number of variable parameters exceeds number of bins\n",
      "Ill-formed Fit problem - number of variable parameters exceeds number of bins\n",
      "Ill-formed Fit problem - number of variable parameters exceeds number of bins\n",
      "Default fit statistic is set to: Chi-Squared\n",
      "   This will apply to all current and newly loaded spectra.\n",
      "Ill-formed Fit problem - number of variable parameters exceeds number of bins\n"
     ]
    },
    {
     "name": "stderr",
     "output_type": "stream",
     "text": [
      "***Warning: Ill-formed Fit problem - number of variable parameters exceeds number of bins\n"
     ]
    },
    {
     "ename": "Exception",
     "evalue": "Error executing command: fit",
     "output_type": "error",
     "traceback": [
      "\u001b[31m---------------------------------------------------------------------------\u001b[39m",
      "\u001b[31mException\u001b[39m                                 Traceback (most recent call last)",
      "\u001b[36mCell\u001b[39m\u001b[36m \u001b[39m\u001b[32mIn[116]\u001b[39m\u001b[32m, line 30\u001b[39m\n\u001b[32m     28\u001b[39m Fit.nIterations = \u001b[32m100\u001b[39m\n\u001b[32m     29\u001b[39m Fit.statMethod = \u001b[33m\"\u001b[39m\u001b[33mchi\u001b[39m\u001b[33m\"\u001b[39m\n\u001b[32m---> \u001b[39m\u001b[32m30\u001b[39m \u001b[43mFit\u001b[49m\u001b[43m.\u001b[49m\u001b[43mperform\u001b[49m\u001b[43m(\u001b[49m\u001b[43m)\u001b[49m\n\u001b[32m     31\u001b[39m Fit.show()\n\u001b[32m     33\u001b[39m AllModels.calcFlux(\u001b[33m\"\u001b[39m\u001b[33m0.3 10.0 err\u001b[39m\u001b[33m\"\u001b[39m)\n",
      "\u001b[36mFile \u001b[39m\u001b[32m~/miniforge3/envs/heasoft/heasoft/lib/python/xspec/fit.py:533\u001b[39m, in \u001b[36mFitManager.perform\u001b[39m\u001b[34m(self)\u001b[39m\n\u001b[32m    530\u001b[39m \u001b[38;5;250m\u001b[39m\u001b[33;03m\"\"\"Perform a fit.\"\"\"\u001b[39;00m\n\u001b[32m    532\u001b[39m fitArgs = [\u001b[33m\"\u001b[39m\u001b[33mfit\u001b[39m\u001b[33m\"\u001b[39m]\n\u001b[32m--> \u001b[39m\u001b[32m533\u001b[39m \u001b[43m_pyXspec\u001b[49m\u001b[43m.\u001b[49m\u001b[43mdoXspecCmd\u001b[49m\u001b[43m(\u001b[49m\u001b[43mfitArgs\u001b[49m\u001b[43m)\u001b[49m\n",
      "\u001b[31mException\u001b[39m: Error executing command: fit"
     ]
    }
   ],
   "source": [
    "import os \n",
    "import sys\n",
    "import numpy as np\n",
    "import pandas as pd\n",
    "from xspec import *\n",
    "\n",
    "\n",
    "# pha = \"spec.pi\"\n",
    "\n",
    "ch = Xset.chatter\n",
    "Xset.chatter = 20\n",
    "lch = Xset.logChatter\n",
    "Xset.logChatter = 20\n",
    "logFile = Xset.openLog(\"xspec.log\")\n",
    "logFile = Xset.log\n",
    "\n",
    "s1 = Spectrum(\"spec.pi\")\n",
    "s1.response = \"rspdata/swxpc0to12s6_20010101v011.rmf\"\n",
    "s1.response.arf = \"spec.arf\"\n",
    "s1.background = \"spec_bkg.pi\"\n",
    "AllData.ignore(\"bad\")\n",
    "s1.ignore(\"**-0.3,10.0-**\")\n",
    "\n",
    "m1 = Model(\"tbabs*powerlaw\")\n",
    "m1.TBabs.nH = 0.0237\n",
    "m1.TBabs.nH.frozen = True\n",
    "m1.powerlaw.PhoIndex = 1.0\n",
    "Fit.nIterations = 100\n",
    "Fit.statMethod = \"chi\"\n",
    "Fit.perform()\n",
    "Fit.show()\n",
    "\n",
    "AllModels.calcFlux(\"0.3 10.0 err\")\n",
    "\n",
    "Plot.device = f\"plot.ps\"\n",
    "Plot.xAxis = \"Hz\"\n",
    "Plot.xLog = True\n",
    "Plot.yLog = True\n",
    "Plot.setRebin(20, 20)\n",
    "Plot(\"eeufspec\",\"ratio\")\n",
    "\n",
    "Plot.device = \"/null\"\n",
    "Plot(\"eeufspec\")\n",
    "xVals = Plot.x()\n",
    "yVals = Plot.y()\n",
    "modVals = Plot.model()\n",
    "yErrs = Plot.yErr()\n",
    "dataM = np.column_stack((xVals, yVals, yErrs, modVals))\n",
    "np.savetxt(\"spec.csv\", dataM, delimiter=\",\", header=\"xVals,yVals,yErrs,modVals\", comments=\"\")\n",
    "Plot(\"ratio\")\n",
    "xVals = Plot.x()\n",
    "yVals = Plot.y()\n",
    "yErrs = Plot.yErr()\n",
    "dataR = np.column_stack((xVals, yVals, yErrs))\n",
    "np.savetxt(\"ratio.csv\", dataR, delimiter=\",\", header=\"xVals,yVals,yErrs\", comments=\"\")\n",
    "\n",
    "AllData.clear()\n",
    "Xset.closeLog()"
   ]
  },
  {
   "cell_type": "code",
   "execution_count": 114,
   "id": "c6143a65-f8d3-4300-9e2d-3715ab8511dd",
   "metadata": {
    "execution": {
     "iopub.execute_input": "2025-05-22T17:51:19.457325Z",
     "iopub.status.busy": "2025-05-22T17:51:19.456484Z",
     "iopub.status.idle": "2025-05-22T17:51:22.632258Z",
     "shell.execute_reply": "2025-05-22T17:51:22.630004Z",
     "shell.execute_reply.started": "2025-05-22T17:51:19.457270Z"
    }
   },
   "outputs": [
    {
     "data": {
      "image/png": "[encoded data removed]",
      "text/plain": [
       "<Figure size 800x600 with 1 Axes>"
      ]
     },
     "metadata": {},
     "output_type": "display_data"
    }
   ],
   "source": [
    "import os \n",
    "import sys\n",
    "import numpy as np\n",
    "import pandas as pd\n",
    "import matplotlib.pyplot as plt\n",
    "from matplotlib.ticker import ScalarFormatter, LogLocator\n",
    "\n",
    "phapath = os.getcwd()\n",
    "\n",
    "scsv = os.path.join(phapath, \"spec.csv\")\n",
    "df_spect = pd.read_csv(scsv)\n",
    "x1, y1, y1e, mdl = df_spect[\"xVals\"], df_spect[\"yVals\"], df_spect[\"yErrs\"], df_spect[\"modVals\"]\n",
    "\n",
    "fig, ax = plt.subplots(figsize=(8, 6))\n",
    "ax.errorbar(x1, y1, yerr=y1e, fmt=\"o\", markersize=4, label=\"Data\", color=\"royalblue\", ecolor=\"lightblue\", elinewidth=1, capsize=1)\n",
    "ax.plot(x1, mdl, label=\"Model\", color=\"crimson\", linestyle=\"-\", linewidth=1)\n",
    "ax.legend()\n",
    "ax.set_xscale(\"log\")\n",
    "ax.set_yscale(\"log\")\n",
    "ax.set_xlim(1e10, 1e30)\n",
    "ax.set_ylim(1e-13, 1e-8) \n",
    "ax.set_xlabel('ν (Hz)')\n",
    "ax.set_ylabel(r'νFν (Erg cm$^{-2}$ s$^{-1}$)')\n",
    "ax.tick_params(axis=\"both\", direction=\"in\", length=3, width=0.5, colors=\"black\", pad=4, which=\"both\", labelsize=8)\n",
    "plt.tight_layout()\n",
    "plt.savefig(f\"{phapath}/spec.png\", dpi=300, bbox_inches=\"tight\")\n",
    "plt.show()"
   ]
  }
 ],
 "metadata": {
  "kernelspec": {
   "display_name": "(heasoft)",
   "language": "python",
   "name": "conda-env-heasoft-py"
  },
  "language_info": {
   "codemirror_mode": {
    "name": "ipython",
    "version": 3
   },
   "file_extension": ".py",
   "mimetype": "text/x-python",
   "name": "python",
   "nbconvert_exporter": "python",
   "pygments_lexer": "ipython3",
   "version": "3.12.10"
  }
 },
 "nbformat": 4,
 "nbformat_minor": 5
}
